{
 "cells": [
  {
   "cell_type": "code",
   "execution_count": 15,
   "metadata": {},
   "outputs": [],
   "source": [
    "import pandas as pd\n",
    "import numpy as np\n",
    "import seaborn as sns\n",
    "import ast, json\n",
    "\n",
    "from datetime import datetime\n",
    "import matplotlib.pyplot as plt\n",
    "%matplotlib inline\n"
   ]
  },
  {
   "cell_type": "code",
   "execution_count": 38,
   "metadata": {},
   "outputs": [
    {
     "data": {
      "text/html": [
       "<div>\n",
       "<style scoped>\n",
       "    .dataframe tbody tr th:only-of-type {\n",
       "        vertical-align: middle;\n",
       "    }\n",
       "\n",
       "    .dataframe tbody tr th {\n",
       "        vertical-align: top;\n",
       "    }\n",
       "\n",
       "    .dataframe thead th {\n",
       "        text-align: right;\n",
       "    }\n",
       "</style>\n",
       "<table border=\"1\" class=\"dataframe\">\n",
       "  <thead>\n",
       "    <tr style=\"text-align: right;\">\n",
       "      <th></th>\n",
       "      <th>Unnamed: 0</th>\n",
       "      <th>unid</th>\n",
       "      <th>survey_date_month</th>\n",
       "      <th>survey_num</th>\n",
       "      <th>gender</th>\n",
       "      <th>dob</th>\n",
       "      <th>province</th>\n",
       "      <th>working</th>\n",
       "      <th>job_start_date</th>\n",
       "      <th>job_leave_date</th>\n",
       "      <th>...</th>\n",
       "      <th>leadershiprole</th>\n",
       "      <th>peoplelive</th>\n",
       "      <th>peoplelive_15plus</th>\n",
       "      <th>numchildren</th>\n",
       "      <th>numearnincome</th>\n",
       "      <th>anygrant</th>\n",
       "      <th>anyhhincome</th>\n",
       "      <th>financial_situation_now</th>\n",
       "      <th>financial_situation_5years</th>\n",
       "      <th>givemoney_yes</th>\n",
       "    </tr>\n",
       "  </thead>\n",
       "  <tbody>\n",
       "    <tr>\n",
       "      <th>0</th>\n",
       "      <td>1</td>\n",
       "      <td>41964</td>\n",
       "      <td>2018-06-01</td>\n",
       "      <td>1</td>\n",
       "      <td>Female</td>\n",
       "      <td>1992-02-01</td>\n",
       "      <td>NaN</td>\n",
       "      <td>True</td>\n",
       "      <td>2018-06-01</td>\n",
       "      <td>NaN</td>\n",
       "      <td>...</td>\n",
       "      <td>NaN</td>\n",
       "      <td>NaN</td>\n",
       "      <td>NaN</td>\n",
       "      <td>NaN</td>\n",
       "      <td>NaN</td>\n",
       "      <td>False</td>\n",
       "      <td>False</td>\n",
       "      <td>NaN</td>\n",
       "      <td>NaN</td>\n",
       "      <td>NaN</td>\n",
       "    </tr>\n",
       "    <tr>\n",
       "      <th>1</th>\n",
       "      <td>2</td>\n",
       "      <td>41964</td>\n",
       "      <td>2018-11-01</td>\n",
       "      <td>2</td>\n",
       "      <td>Female</td>\n",
       "      <td>1992-02-01</td>\n",
       "      <td>NaN</td>\n",
       "      <td>True</td>\n",
       "      <td>2018-04-30</td>\n",
       "      <td>2018-11-08</td>\n",
       "      <td>...</td>\n",
       "      <td>NaN</td>\n",
       "      <td>NaN</td>\n",
       "      <td>NaN</td>\n",
       "      <td>NaN</td>\n",
       "      <td>NaN</td>\n",
       "      <td>False</td>\n",
       "      <td>False</td>\n",
       "      <td>NaN</td>\n",
       "      <td>NaN</td>\n",
       "      <td>NaN</td>\n",
       "    </tr>\n",
       "    <tr>\n",
       "      <th>2</th>\n",
       "      <td>3</td>\n",
       "      <td>15241</td>\n",
       "      <td>2016-03-01</td>\n",
       "      <td>1</td>\n",
       "      <td>Female</td>\n",
       "      <td>1988-11-01</td>\n",
       "      <td>NaN</td>\n",
       "      <td>True</td>\n",
       "      <td>2015-03-01</td>\n",
       "      <td>2016-03-15</td>\n",
       "      <td>...</td>\n",
       "      <td>No</td>\n",
       "      <td>2</td>\n",
       "      <td>NaN</td>\n",
       "      <td>3</td>\n",
       "      <td>1</td>\n",
       "      <td>True</td>\n",
       "      <td>True</td>\n",
       "      <td>2</td>\n",
       "      <td>8</td>\n",
       "      <td>False</td>\n",
       "    </tr>\n",
       "    <tr>\n",
       "      <th>3</th>\n",
       "      <td>4</td>\n",
       "      <td>33702</td>\n",
       "      <td>2016-04-01</td>\n",
       "      <td>1</td>\n",
       "      <td>Male</td>\n",
       "      <td>1991-04-01</td>\n",
       "      <td>NaN</td>\n",
       "      <td>True</td>\n",
       "      <td>2016-02-01</td>\n",
       "      <td>2016-04-14</td>\n",
       "      <td>...</td>\n",
       "      <td>No</td>\n",
       "      <td>4</td>\n",
       "      <td>NaN</td>\n",
       "      <td>1</td>\n",
       "      <td>1</td>\n",
       "      <td>False</td>\n",
       "      <td>True</td>\n",
       "      <td>1 (Worst possible financial situation)</td>\n",
       "      <td>1 (Worst possible financial situation)</td>\n",
       "      <td>False</td>\n",
       "    </tr>\n",
       "    <tr>\n",
       "      <th>4</th>\n",
       "      <td>5</td>\n",
       "      <td>33702</td>\n",
       "      <td>2016-08-01</td>\n",
       "      <td>2</td>\n",
       "      <td>Male</td>\n",
       "      <td>1991-04-01</td>\n",
       "      <td>NaN</td>\n",
       "      <td>False</td>\n",
       "      <td>NaN</td>\n",
       "      <td>NaN</td>\n",
       "      <td>...</td>\n",
       "      <td>No</td>\n",
       "      <td>4</td>\n",
       "      <td>NaN</td>\n",
       "      <td>1</td>\n",
       "      <td>1</td>\n",
       "      <td>False</td>\n",
       "      <td>True</td>\n",
       "      <td>1 (Worst possible financial situation)</td>\n",
       "      <td>1 (Worst possible financial situation)</td>\n",
       "      <td>False</td>\n",
       "    </tr>\n",
       "  </tbody>\n",
       "</table>\n",
       "<p>5 rows × 23 columns</p>\n",
       "</div>"
      ],
      "text/plain": [
       "   Unnamed: 0   unid survey_date_month  survey_num  gender         dob  \\\n",
       "0           1  41964        2018-06-01           1  Female  1992-02-01   \n",
       "1           2  41964        2018-11-01           2  Female  1992-02-01   \n",
       "2           3  15241        2016-03-01           1  Female  1988-11-01   \n",
       "3           4  33702        2016-04-01           1    Male  1991-04-01   \n",
       "4           5  33702        2016-08-01           2    Male  1991-04-01   \n",
       "\n",
       "  province  working job_start_date job_leave_date  ... leadershiprole  \\\n",
       "0      NaN     True     2018-06-01            NaN  ...            NaN   \n",
       "1      NaN     True     2018-04-30     2018-11-08  ...            NaN   \n",
       "2      NaN     True     2015-03-01     2016-03-15  ...             No   \n",
       "3      NaN     True     2016-02-01     2016-04-14  ...             No   \n",
       "4      NaN    False            NaN            NaN  ...             No   \n",
       "\n",
       "  peoplelive peoplelive_15plus numchildren numearnincome anygrant anyhhincome  \\\n",
       "0        NaN               NaN         NaN           NaN    False       False   \n",
       "1        NaN               NaN         NaN           NaN    False       False   \n",
       "2          2               NaN           3             1     True        True   \n",
       "3          4               NaN           1             1    False        True   \n",
       "4          4               NaN           1             1    False        True   \n",
       "\n",
       "                  financial_situation_now  \\\n",
       "0                                     NaN   \n",
       "1                                     NaN   \n",
       "2                                       2   \n",
       "3  1 (Worst possible financial situation)   \n",
       "4  1 (Worst possible financial situation)   \n",
       "\n",
       "               financial_situation_5years givemoney_yes  \n",
       "0                                     NaN           NaN  \n",
       "1                                     NaN           NaN  \n",
       "2                                       8         False  \n",
       "3  1 (Worst possible financial situation)         False  \n",
       "4  1 (Worst possible financial situation)         False  \n",
       "\n",
       "[5 rows x 23 columns]"
      ]
     },
     "execution_count": 38,
     "metadata": {},
     "output_type": "execute_result"
    }
   ],
   "source": [
    "data = pd.read_csv(\"Data/teaching_training_data.csv\")\n",
    "cft = pd.read_csv(\"Data/teaching_training_data_cft.csv\")\n",
    "com = pd.read_csv(\"Data/teaching_training_data_com.csv\")\n",
    "grit = pd.read_csv(\"Data/teaching_training_data_grit.csv\")\n",
    "num = pd.read_csv(\"Data/teaching_training_data_num.csv\")\n",
    "opt = pd.read_csv(\"Data/teaching_training_data_opt.csv\")\n",
    "data.head()"
   ]
  },
  {
   "cell_type": "code",
   "execution_count": 39,
   "metadata": {},
   "outputs": [
    {
     "data": {
      "text/plain": [
       "Unnamed: 0                     int64\n",
       "unid                           int64\n",
       "survey_date_month             object\n",
       "survey_num                     int64\n",
       "gender                        object\n",
       "dob                           object\n",
       "province                      object\n",
       "working                         bool\n",
       "job_start_date                object\n",
       "job_leave_date                object\n",
       "company_size                  object\n",
       "monthly_pay                   object\n",
       "volunteer                     object\n",
       "leadershiprole                object\n",
       "peoplelive                    object\n",
       "peoplelive_15plus             object\n",
       "numchildren                   object\n",
       "numearnincome                 object\n",
       "anygrant                      object\n",
       "anyhhincome                   object\n",
       "financial_situation_now       object\n",
       "financial_situation_5years    object\n",
       "givemoney_yes                 object\n",
       "dtype: object"
      ]
     },
     "execution_count": 39,
     "metadata": {},
     "output_type": "execute_result"
    }
   ],
   "source": [
    "data.dtypes"
   ]
  },
  {
   "cell_type": "code",
   "execution_count": 40,
   "metadata": {},
   "outputs": [
    {
     "data": {
      "text/plain": [
       "Unnamed: 0                    83270\n",
       "unid                          51262\n",
       "survey_date_month                34\n",
       "survey_num                        9\n",
       "gender                            2\n",
       "dob                             274\n",
       "province                          9\n",
       "working                           2\n",
       "job_start_date                  160\n",
       "job_leave_date                  851\n",
       "company_size                      2\n",
       "monthly_pay                      11\n",
       "volunteer                         2\n",
       "leadershiprole                    2\n",
       "peoplelive                       21\n",
       "peoplelive_15plus                17\n",
       "numchildren                       6\n",
       "numearnincome                    16\n",
       "anygrant                          2\n",
       "anyhhincome                       2\n",
       "financial_situation_now          10\n",
       "financial_situation_5years       10\n",
       "givemoney_yes                     2\n",
       "dtype: int64"
      ]
     },
     "execution_count": 40,
     "metadata": {},
     "output_type": "execute_result"
    }
   ],
   "source": [
    "data.apply('nunique')"
   ]
  },
  {
   "cell_type": "code",
   "execution_count": 41,
   "metadata": {},
   "outputs": [
    {
     "data": {
      "text/plain": [
       "Unnamed: 0    58851\n",
       "unid          32880\n",
       "cft_score        10\n",
       "dtype: int64"
      ]
     },
     "execution_count": 41,
     "metadata": {},
     "output_type": "execute_result"
    }
   ],
   "source": [
    "cft.apply('nunique')"
   ]
  },
  {
   "cell_type": "code",
   "execution_count": 42,
   "metadata": {},
   "outputs": [
    {
     "data": {
      "text/plain": [
       "Unnamed: 0    83270\n",
       "unid          51262\n",
       "opt_score        31\n",
       "dtype: int64"
      ]
     },
     "execution_count": 42,
     "metadata": {},
     "output_type": "execute_result"
    }
   ],
   "source": [
    "opt.apply('nunique')"
   ]
  },
  {
   "cell_type": "code",
   "execution_count": 43,
   "metadata": {},
   "outputs": [
    {
     "data": {
      "text/plain": [
       "Unnamed: 0    36639\n",
       "unid          19347\n",
       "com_score        10\n",
       "dtype: int64"
      ]
     },
     "execution_count": 43,
     "metadata": {},
     "output_type": "execute_result"
    }
   ],
   "source": [
    "com.apply('nunique')"
   ]
  },
  {
   "cell_type": "code",
   "execution_count": 44,
   "metadata": {},
   "outputs": [
    {
     "data": {
      "text/plain": [
       "Unnamed: 0    83270\n",
       "unid          51262\n",
       "grit_score       10\n",
       "dtype: int64"
      ]
     },
     "execution_count": 44,
     "metadata": {},
     "output_type": "execute_result"
    }
   ],
   "source": [
    "grit.apply('nunique')"
   ]
  },
  {
   "cell_type": "markdown",
   "metadata": {},
   "source": []
  },
  {
   "cell_type": "code",
   "execution_count": 34,
   "metadata": {},
   "outputs": [
    {
     "data": {
      "text/html": [
       "<div>\n",
       "<style scoped>\n",
       "    .dataframe tbody tr th:only-of-type {\n",
       "        vertical-align: middle;\n",
       "    }\n",
       "\n",
       "    .dataframe tbody tr th {\n",
       "        vertical-align: top;\n",
       "    }\n",
       "\n",
       "    .dataframe thead th {\n",
       "        text-align: right;\n",
       "    }\n",
       "</style>\n",
       "<table border=\"1\" class=\"dataframe\">\n",
       "  <thead>\n",
       "    <tr style=\"text-align: right;\">\n",
       "      <th></th>\n",
       "      <th>Unnamed: 0</th>\n",
       "      <th>unid</th>\n",
       "      <th>survey_date_month</th>\n",
       "      <th>survey_num</th>\n",
       "      <th>gender</th>\n",
       "      <th>working</th>\n",
       "      <th>company_size</th>\n",
       "      <th>monthly_pay</th>\n",
       "      <th>volunteer</th>\n",
       "      <th>numearnincome</th>\n",
       "    </tr>\n",
       "  </thead>\n",
       "  <tbody>\n",
       "    <tr>\n",
       "      <th>0</th>\n",
       "      <td>1</td>\n",
       "      <td>41964</td>\n",
       "      <td>2018-06-01</td>\n",
       "      <td>1</td>\n",
       "      <td>Female</td>\n",
       "      <td>True</td>\n",
       "      <td>More than 200 employees</td>\n",
       "      <td>Between R2001 and 3000</td>\n",
       "      <td>NaN</td>\n",
       "      <td>NaN</td>\n",
       "    </tr>\n",
       "    <tr>\n",
       "      <th>1</th>\n",
       "      <td>2</td>\n",
       "      <td>41964</td>\n",
       "      <td>2018-11-01</td>\n",
       "      <td>2</td>\n",
       "      <td>Female</td>\n",
       "      <td>True</td>\n",
       "      <td>NaN</td>\n",
       "      <td>NaN</td>\n",
       "      <td>NaN</td>\n",
       "      <td>NaN</td>\n",
       "    </tr>\n",
       "    <tr>\n",
       "      <th>2</th>\n",
       "      <td>3</td>\n",
       "      <td>15241</td>\n",
       "      <td>2016-03-01</td>\n",
       "      <td>1</td>\n",
       "      <td>Female</td>\n",
       "      <td>True</td>\n",
       "      <td>NaN</td>\n",
       "      <td>NaN</td>\n",
       "      <td>No</td>\n",
       "      <td>1</td>\n",
       "    </tr>\n",
       "    <tr>\n",
       "      <th>3</th>\n",
       "      <td>4</td>\n",
       "      <td>33702</td>\n",
       "      <td>2016-04-01</td>\n",
       "      <td>1</td>\n",
       "      <td>Male</td>\n",
       "      <td>True</td>\n",
       "      <td>NaN</td>\n",
       "      <td>NaN</td>\n",
       "      <td>Yes</td>\n",
       "      <td>1</td>\n",
       "    </tr>\n",
       "    <tr>\n",
       "      <th>4</th>\n",
       "      <td>5</td>\n",
       "      <td>33702</td>\n",
       "      <td>2016-08-01</td>\n",
       "      <td>2</td>\n",
       "      <td>Male</td>\n",
       "      <td>False</td>\n",
       "      <td>NaN</td>\n",
       "      <td>NaN</td>\n",
       "      <td>Yes</td>\n",
       "      <td>1</td>\n",
       "    </tr>\n",
       "  </tbody>\n",
       "</table>\n",
       "</div>"
      ],
      "text/plain": [
       "   Unnamed: 0   unid survey_date_month  survey_num  gender  working  \\\n",
       "0           1  41964        2018-06-01           1  Female     True   \n",
       "1           2  41964        2018-11-01           2  Female     True   \n",
       "2           3  15241        2016-03-01           1  Female     True   \n",
       "3           4  33702        2016-04-01           1    Male     True   \n",
       "4           5  33702        2016-08-01           2    Male    False   \n",
       "\n",
       "              company_size             monthly_pay volunteer numearnincome  \n",
       "0  More than 200 employees  Between R2001 and 3000       NaN           NaN  \n",
       "1                      NaN                     NaN       NaN           NaN  \n",
       "2                      NaN                     NaN        No             1  \n",
       "3                      NaN                     NaN       Yes             1  \n",
       "4                      NaN                     NaN       Yes             1  "
      ]
     },
     "execution_count": 34,
     "metadata": {},
     "output_type": "execute_result"
    }
   ],
   "source": [
    "columns_to_drop = [\"job_start_date\",\"job_leave_date\",\"leadershiprole\",\"peoplelive\"\n",
    "                   ,\"peoplelive_15plus\",\"numchildren\",\"anygrant\",\"anyhhincome\"\n",
    "                   ,\"financial_situation_5years\",\"financial_situation_now\"\n",
    "                   ,\"givemoney_yes\",\"province\",\"dob\"]\n",
    "data = data.drop(columns_to_drop, axis=1)\n",
    "data.head()\n",
    "#i didnt think that those rows were relevant to our question but if we want to keep some then cool."
   ]
  },
  {
   "cell_type": "code",
   "execution_count": null,
   "metadata": {},
   "outputs": [],
   "source": []
  },
  {
   "cell_type": "code",
   "execution_count": 35,
   "metadata": {},
   "outputs": [
    {
     "data": {
      "text/html": [
       "<div>\n",
       "<style scoped>\n",
       "    .dataframe tbody tr th:only-of-type {\n",
       "        vertical-align: middle;\n",
       "    }\n",
       "\n",
       "    .dataframe tbody tr th {\n",
       "        vertical-align: top;\n",
       "    }\n",
       "\n",
       "    .dataframe thead th {\n",
       "        text-align: right;\n",
       "    }\n",
       "</style>\n",
       "<table border=\"1\" class=\"dataframe\">\n",
       "  <thead>\n",
       "    <tr style=\"text-align: right;\">\n",
       "      <th></th>\n",
       "      <th>Unnamed: 0</th>\n",
       "      <th>unid</th>\n",
       "      <th>survey_date_month</th>\n",
       "      <th>survey_num</th>\n",
       "      <th>gender</th>\n",
       "      <th>working</th>\n",
       "      <th>company_size</th>\n",
       "      <th>monthly_pay</th>\n",
       "      <th>volunteer</th>\n",
       "      <th>numearnincome</th>\n",
       "    </tr>\n",
       "  </thead>\n",
       "  <tbody>\n",
       "    <tr>\n",
       "      <th>0</th>\n",
       "      <td>1</td>\n",
       "      <td>41964</td>\n",
       "      <td>2018-06-01</td>\n",
       "      <td>1</td>\n",
       "      <td>Female</td>\n",
       "      <td>True</td>\n",
       "      <td>More than 200 employees</td>\n",
       "      <td>Between R2001 and 3000</td>\n",
       "      <td>NaN</td>\n",
       "      <td>NaN</td>\n",
       "    </tr>\n",
       "    <tr>\n",
       "      <th>1</th>\n",
       "      <td>2</td>\n",
       "      <td>41964</td>\n",
       "      <td>2018-11-01</td>\n",
       "      <td>2</td>\n",
       "      <td>Female</td>\n",
       "      <td>True</td>\n",
       "      <td>NaN</td>\n",
       "      <td>NaN</td>\n",
       "      <td>NaN</td>\n",
       "      <td>NaN</td>\n",
       "    </tr>\n",
       "    <tr>\n",
       "      <th>2</th>\n",
       "      <td>3</td>\n",
       "      <td>15241</td>\n",
       "      <td>2016-03-01</td>\n",
       "      <td>1</td>\n",
       "      <td>Female</td>\n",
       "      <td>True</td>\n",
       "      <td>NaN</td>\n",
       "      <td>NaN</td>\n",
       "      <td>No</td>\n",
       "      <td>1</td>\n",
       "    </tr>\n",
       "    <tr>\n",
       "      <th>3</th>\n",
       "      <td>4</td>\n",
       "      <td>33702</td>\n",
       "      <td>2016-04-01</td>\n",
       "      <td>1</td>\n",
       "      <td>Male</td>\n",
       "      <td>True</td>\n",
       "      <td>NaN</td>\n",
       "      <td>NaN</td>\n",
       "      <td>Yes</td>\n",
       "      <td>1</td>\n",
       "    </tr>\n",
       "    <tr>\n",
       "      <th>4</th>\n",
       "      <td>5</td>\n",
       "      <td>33702</td>\n",
       "      <td>2016-08-01</td>\n",
       "      <td>2</td>\n",
       "      <td>Male</td>\n",
       "      <td>False</td>\n",
       "      <td>NaN</td>\n",
       "      <td>NaN</td>\n",
       "      <td>Yes</td>\n",
       "      <td>1</td>\n",
       "    </tr>\n",
       "  </tbody>\n",
       "</table>\n",
       "</div>"
      ],
      "text/plain": [
       "   Unnamed: 0   unid survey_date_month  survey_num  gender  working  \\\n",
       "0           1  41964        2018-06-01           1  Female     True   \n",
       "1           2  41964        2018-11-01           2  Female     True   \n",
       "2           3  15241        2016-03-01           1  Female     True   \n",
       "3           4  33702        2016-04-01           1    Male     True   \n",
       "4           5  33702        2016-08-01           2    Male    False   \n",
       "\n",
       "              company_size             monthly_pay volunteer numearnincome  \n",
       "0  More than 200 employees  Between R2001 and 3000       NaN           NaN  \n",
       "1                      NaN                     NaN       NaN           NaN  \n",
       "2                      NaN                     NaN        No             1  \n",
       "3                      NaN                     NaN       Yes             1  \n",
       "4                      NaN                     NaN       Yes             1  "
      ]
     },
     "execution_count": 35,
     "metadata": {},
     "output_type": "execute_result"
    }
   ],
   "source": [
    "data.head()\n"
   ]
  },
  {
   "cell_type": "code",
   "execution_count": 36,
   "metadata": {},
   "outputs": [
    {
     "data": {
      "text/html": [
       "<div>\n",
       "<style scoped>\n",
       "    .dataframe tbody tr th:only-of-type {\n",
       "        vertical-align: middle;\n",
       "    }\n",
       "\n",
       "    .dataframe tbody tr th {\n",
       "        vertical-align: top;\n",
       "    }\n",
       "\n",
       "    .dataframe thead th {\n",
       "        text-align: right;\n",
       "    }\n",
       "</style>\n",
       "<table border=\"1\" class=\"dataframe\">\n",
       "  <thead>\n",
       "    <tr style=\"text-align: right;\">\n",
       "      <th></th>\n",
       "      <th>unid</th>\n",
       "      <th>survey_date_month</th>\n",
       "      <th>survey_num</th>\n",
       "      <th>gender</th>\n",
       "      <th>working</th>\n",
       "    </tr>\n",
       "  </thead>\n",
       "  <tbody>\n",
       "    <tr>\n",
       "      <th>0</th>\n",
       "      <td>41964</td>\n",
       "      <td>2018-06-01</td>\n",
       "      <td>1</td>\n",
       "      <td>Female</td>\n",
       "      <td>True</td>\n",
       "    </tr>\n",
       "    <tr>\n",
       "      <th>1</th>\n",
       "      <td>41964</td>\n",
       "      <td>2018-11-01</td>\n",
       "      <td>2</td>\n",
       "      <td>Female</td>\n",
       "      <td>True</td>\n",
       "    </tr>\n",
       "    <tr>\n",
       "      <th>2</th>\n",
       "      <td>15241</td>\n",
       "      <td>2016-03-01</td>\n",
       "      <td>1</td>\n",
       "      <td>Female</td>\n",
       "      <td>True</td>\n",
       "    </tr>\n",
       "    <tr>\n",
       "      <th>3</th>\n",
       "      <td>33702</td>\n",
       "      <td>2016-04-01</td>\n",
       "      <td>1</td>\n",
       "      <td>Male</td>\n",
       "      <td>True</td>\n",
       "    </tr>\n",
       "    <tr>\n",
       "      <th>4</th>\n",
       "      <td>33702</td>\n",
       "      <td>2016-08-01</td>\n",
       "      <td>2</td>\n",
       "      <td>Male</td>\n",
       "      <td>False</td>\n",
       "    </tr>\n",
       "  </tbody>\n",
       "</table>\n",
       "</div>"
      ],
      "text/plain": [
       "    unid survey_date_month  survey_num  gender  working\n",
       "0  41964        2018-06-01           1  Female     True\n",
       "1  41964        2018-11-01           2  Female     True\n",
       "2  15241        2016-03-01           1  Female     True\n",
       "3  33702        2016-04-01           1    Male     True\n",
       "4  33702        2016-08-01           2    Male    False"
      ]
     },
     "execution_count": 36,
     "metadata": {},
     "output_type": "execute_result"
    }
   ],
   "source": [
    "columns_2_drop = [\"Unnamed: 0\",\"company_size\",\"monthly_pay\",\"volunteer\",\"numearnincome\"]\n",
    "data = data.drop(columns_2_drop, axis=1)\n",
    "data.head()"
   ]
  },
  {
   "cell_type": "code",
   "execution_count": null,
   "metadata": {},
   "outputs": [],
   "source": [
    "data.shape"
   ]
  },
  {
   "cell_type": "code",
   "execution_count": null,
   "metadata": {},
   "outputs": [],
   "source": [
    "df = pd.merge(data,cft, how = 'outer', on = 'unid')\n",
    "df = pd.merge(df,num, how = 'outer', on = 'unid')\n",
    "df = pd.merge(df,com, how = 'outer', on = 'unid')\n",
    "df = pd.merge(df,grit, how = 'outer', on = 'unid')\n",
    "df = pd.merge(df,opt, how = 'outer', on = 'unid')\n",
    "df.head()\n",
    "#this way by doing 'outer' i have not dropped any rows but created multiple copies, later i get rid of the unneccesary ones."
   ]
  },
  {
   "cell_type": "code",
   "execution_count": null,
   "metadata": {},
   "outputs": [],
   "source": [
    "df.shape"
   ]
  },
  {
   "cell_type": "code",
   "execution_count": null,
   "metadata": {},
   "outputs": [],
   "source": [
    "print(df.isnull().sum())"
   ]
  },
  {
   "cell_type": "code",
   "execution_count": null,
   "metadata": {},
   "outputs": [],
   "source": [
    "print(df.shape)\n",
    "\n",
    "# Rows containing duplicate data\n",
    "duplicate_rows_df = df[df.duplicated()]\n",
    "\n",
    "print(duplicate_rows_df.shape)\n",
    "\n"
   ]
  },
  {
   "cell_type": "code",
   "execution_count": null,
   "metadata": {},
   "outputs": [],
   "source": [
    "df.aggregate?"
   ]
  },
  {
   "cell_type": "code",
   "execution_count": null,
   "metadata": {},
   "outputs": [],
   "source": [
    "df_new = df.groupby(df['unid']).aggregate({'gender': 'first','working':'last'\n",
    "                                           ,'num_score': 'max','com_score': 'max'\n",
    "                                           ,'cft_score': 'max','grit_score': 'max'\n",
    "                                           ,'opt_score': 'mean'})\n",
    "#the idea here being that i have kept all the participants and decided that for the opt score i would take the mean. \n",
    "#may nit have been the best way to do it but i think this leaves all the relevant information without data mining.\n",
    "# I took the mean of the opt scores because they go into negatives and here were no obvious outliers. "
   ]
  },
  {
   "cell_type": "code",
   "execution_count": null,
   "metadata": {},
   "outputs": [],
   "source": [
    "df_new.head(10)"
   ]
  },
  {
   "cell_type": "code",
   "execution_count": null,
   "metadata": {},
   "outputs": [],
   "source": [
    "df_new.shape #so we still have all the participants included as the total of unique participants in 51,262. \n"
   ]
  },
  {
   "cell_type": "code",
   "execution_count": null,
   "metadata": {},
   "outputs": [],
   "source": [
    "df.apply('nunique')"
   ]
  },
  {
   "cell_type": "code",
   "execution_count": null,
   "metadata": {},
   "outputs": [],
   "source": [
    "import missingno as msno\n",
    "\n",
    "msno.matrix(df_new); #so as we can see, grit is the only thing that everyone seems to have done."
   ]
  },
  {
   "cell_type": "code",
   "execution_count": null,
   "metadata": {},
   "outputs": [],
   "source": [
    "from ipywidgets import interact, fixed"
   ]
  },
  {
   "cell_type": "code",
   "execution_count": null,
   "metadata": {},
   "outputs": [],
   "source": [
    "def numerical_variable_distribution(df_new, col):\n",
    "    df_new[col].plot.hist()"
   ]
  },
  {
   "cell_type": "code",
   "execution_count": null,
   "metadata": {},
   "outputs": [],
   "source": [
    "numerical_columns = df_new.select_dtypes(include=[np.number]).columns.tolist()\n",
    "interact(numerical_variable_distribution, \n",
    "         col=numerical_columns, df_new=fixed(df_new));"
   ]
  },
  {
   "cell_type": "code",
   "execution_count": null,
   "metadata": {},
   "outputs": [],
   "source": [
    "plt.plot('grit_score','working', data=df_new)\n",
    "plt.show()\n",
    "#obviously this shows us nothing....but it looks awesome. so i'm gonna leave it here "
   ]
  },
  {
   "cell_type": "code",
   "execution_count": null,
   "metadata": {},
   "outputs": [],
   "source": []
  }
 ],
 "metadata": {
  "kernelspec": {
   "display_name": "Python 3",
   "language": "python",
   "name": "python3"
  },
  "language_info": {
   "codemirror_mode": {
    "name": "ipython",
    "version": 3
   },
   "file_extension": ".py",
   "mimetype": "text/x-python",
   "name": "python",
   "nbconvert_exporter": "python",
   "pygments_lexer": "ipython3",
   "version": "3.8.5"
  }
 },
 "nbformat": 4,
 "nbformat_minor": 4
}

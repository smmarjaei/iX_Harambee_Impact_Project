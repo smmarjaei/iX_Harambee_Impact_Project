{
 "cells": [
  {
   "cell_type": "code",
   "execution_count": 7,
   "metadata": {},
   "outputs": [],
   "source": [
    "import pandas as pd\n",
    "import numpy as np\n",
    "import seaborn as sns\n",
    "import ast, json\n",
    "\n",
    "from datetime import datetime\n",
    "import matplotlib.pyplot as plt\n",
    "%matplotlib inline"
   ]
  },
  {
   "cell_type": "code",
   "execution_count": null,
   "metadata": {},
   "outputs": [],
   "source": []
  },
  {
   "cell_type": "code",
   "execution_count": 8,
   "metadata": {},
   "outputs": [
    {
     "data": {
      "text/html": [
       "<div>\n",
       "<style scoped>\n",
       "    .dataframe tbody tr th:only-of-type {\n",
       "        vertical-align: middle;\n",
       "    }\n",
       "\n",
       "    .dataframe tbody tr th {\n",
       "        vertical-align: top;\n",
       "    }\n",
       "\n",
       "    .dataframe thead th {\n",
       "        text-align: right;\n",
       "    }\n",
       "</style>\n",
       "<table border=\"1\" class=\"dataframe\">\n",
       "  <thead>\n",
       "    <tr style=\"text-align: right;\">\n",
       "      <th></th>\n",
       "      <th>Unnamed: 0</th>\n",
       "      <th>unid</th>\n",
       "      <th>survey_date_month</th>\n",
       "      <th>survey_num</th>\n",
       "      <th>gender</th>\n",
       "      <th>dob</th>\n",
       "      <th>province</th>\n",
       "      <th>working</th>\n",
       "      <th>job_start_date</th>\n",
       "      <th>job_leave_date</th>\n",
       "      <th>...</th>\n",
       "      <th>leadershiprole</th>\n",
       "      <th>peoplelive</th>\n",
       "      <th>peoplelive_15plus</th>\n",
       "      <th>numchildren</th>\n",
       "      <th>numearnincome</th>\n",
       "      <th>anygrant</th>\n",
       "      <th>anyhhincome</th>\n",
       "      <th>financial_situation_now</th>\n",
       "      <th>financial_situation_5years</th>\n",
       "      <th>givemoney_yes</th>\n",
       "    </tr>\n",
       "  </thead>\n",
       "  <tbody>\n",
       "    <tr>\n",
       "      <th>0</th>\n",
       "      <td>1</td>\n",
       "      <td>41964</td>\n",
       "      <td>2018-06-01</td>\n",
       "      <td>1</td>\n",
       "      <td>Female</td>\n",
       "      <td>1992-02-01</td>\n",
       "      <td>NaN</td>\n",
       "      <td>True</td>\n",
       "      <td>2018-06-01</td>\n",
       "      <td>NaN</td>\n",
       "      <td>...</td>\n",
       "      <td>NaN</td>\n",
       "      <td>NaN</td>\n",
       "      <td>NaN</td>\n",
       "      <td>NaN</td>\n",
       "      <td>NaN</td>\n",
       "      <td>False</td>\n",
       "      <td>False</td>\n",
       "      <td>NaN</td>\n",
       "      <td>NaN</td>\n",
       "      <td>NaN</td>\n",
       "    </tr>\n",
       "    <tr>\n",
       "      <th>1</th>\n",
       "      <td>2</td>\n",
       "      <td>41964</td>\n",
       "      <td>2018-11-01</td>\n",
       "      <td>2</td>\n",
       "      <td>Female</td>\n",
       "      <td>1992-02-01</td>\n",
       "      <td>NaN</td>\n",
       "      <td>True</td>\n",
       "      <td>2018-04-30</td>\n",
       "      <td>2018-11-08</td>\n",
       "      <td>...</td>\n",
       "      <td>NaN</td>\n",
       "      <td>NaN</td>\n",
       "      <td>NaN</td>\n",
       "      <td>NaN</td>\n",
       "      <td>NaN</td>\n",
       "      <td>False</td>\n",
       "      <td>False</td>\n",
       "      <td>NaN</td>\n",
       "      <td>NaN</td>\n",
       "      <td>NaN</td>\n",
       "    </tr>\n",
       "    <tr>\n",
       "      <th>2</th>\n",
       "      <td>3</td>\n",
       "      <td>15241</td>\n",
       "      <td>2016-03-01</td>\n",
       "      <td>1</td>\n",
       "      <td>Female</td>\n",
       "      <td>1988-11-01</td>\n",
       "      <td>NaN</td>\n",
       "      <td>True</td>\n",
       "      <td>2015-03-01</td>\n",
       "      <td>2016-03-15</td>\n",
       "      <td>...</td>\n",
       "      <td>No</td>\n",
       "      <td>2</td>\n",
       "      <td>NaN</td>\n",
       "      <td>3</td>\n",
       "      <td>1</td>\n",
       "      <td>True</td>\n",
       "      <td>True</td>\n",
       "      <td>2</td>\n",
       "      <td>8</td>\n",
       "      <td>False</td>\n",
       "    </tr>\n",
       "    <tr>\n",
       "      <th>3</th>\n",
       "      <td>4</td>\n",
       "      <td>33702</td>\n",
       "      <td>2016-04-01</td>\n",
       "      <td>1</td>\n",
       "      <td>Male</td>\n",
       "      <td>1991-04-01</td>\n",
       "      <td>NaN</td>\n",
       "      <td>True</td>\n",
       "      <td>2016-02-01</td>\n",
       "      <td>2016-04-14</td>\n",
       "      <td>...</td>\n",
       "      <td>No</td>\n",
       "      <td>4</td>\n",
       "      <td>NaN</td>\n",
       "      <td>1</td>\n",
       "      <td>1</td>\n",
       "      <td>False</td>\n",
       "      <td>True</td>\n",
       "      <td>1 (Worst possible financial situation)</td>\n",
       "      <td>1 (Worst possible financial situation)</td>\n",
       "      <td>False</td>\n",
       "    </tr>\n",
       "    <tr>\n",
       "      <th>4</th>\n",
       "      <td>5</td>\n",
       "      <td>33702</td>\n",
       "      <td>2016-08-01</td>\n",
       "      <td>2</td>\n",
       "      <td>Male</td>\n",
       "      <td>1991-04-01</td>\n",
       "      <td>NaN</td>\n",
       "      <td>False</td>\n",
       "      <td>NaN</td>\n",
       "      <td>NaN</td>\n",
       "      <td>...</td>\n",
       "      <td>No</td>\n",
       "      <td>4</td>\n",
       "      <td>NaN</td>\n",
       "      <td>1</td>\n",
       "      <td>1</td>\n",
       "      <td>False</td>\n",
       "      <td>True</td>\n",
       "      <td>1 (Worst possible financial situation)</td>\n",
       "      <td>1 (Worst possible financial situation)</td>\n",
       "      <td>False</td>\n",
       "    </tr>\n",
       "  </tbody>\n",
       "</table>\n",
       "<p>5 rows × 23 columns</p>\n",
       "</div>"
      ],
      "text/plain": [
       "   Unnamed: 0   unid survey_date_month  survey_num  gender         dob  \\\n",
       "0           1  41964        2018-06-01           1  Female  1992-02-01   \n",
       "1           2  41964        2018-11-01           2  Female  1992-02-01   \n",
       "2           3  15241        2016-03-01           1  Female  1988-11-01   \n",
       "3           4  33702        2016-04-01           1    Male  1991-04-01   \n",
       "4           5  33702        2016-08-01           2    Male  1991-04-01   \n",
       "\n",
       "  province  working job_start_date job_leave_date  ... leadershiprole  \\\n",
       "0      NaN     True     2018-06-01            NaN  ...            NaN   \n",
       "1      NaN     True     2018-04-30     2018-11-08  ...            NaN   \n",
       "2      NaN     True     2015-03-01     2016-03-15  ...             No   \n",
       "3      NaN     True     2016-02-01     2016-04-14  ...             No   \n",
       "4      NaN    False            NaN            NaN  ...             No   \n",
       "\n",
       "  peoplelive peoplelive_15plus numchildren numearnincome anygrant anyhhincome  \\\n",
       "0        NaN               NaN         NaN           NaN    False       False   \n",
       "1        NaN               NaN         NaN           NaN    False       False   \n",
       "2          2               NaN           3             1     True        True   \n",
       "3          4               NaN           1             1    False        True   \n",
       "4          4               NaN           1             1    False        True   \n",
       "\n",
       "                  financial_situation_now  \\\n",
       "0                                     NaN   \n",
       "1                                     NaN   \n",
       "2                                       2   \n",
       "3  1 (Worst possible financial situation)   \n",
       "4  1 (Worst possible financial situation)   \n",
       "\n",
       "               financial_situation_5years givemoney_yes  \n",
       "0                                     NaN           NaN  \n",
       "1                                     NaN           NaN  \n",
       "2                                       8         False  \n",
       "3  1 (Worst possible financial situation)         False  \n",
       "4  1 (Worst possible financial situation)         False  \n",
       "\n",
       "[5 rows x 23 columns]"
      ]
     },
     "execution_count": 8,
     "metadata": {},
     "output_type": "execute_result"
    }
   ],
   "source": [
    "data = pd.read_csv(\"Data/teaching_training_data.csv\")\n",
    "cft = pd.read_csv(\"Data/teaching_training_data_cft.csv\", usecols=[\"unid\", \"cft_score\"])\n",
    "com = pd.read_csv(\"Data/teaching_training_data_com.csv\", usecols=[\"unid\", \"com_score\"])\n",
    "grit = pd.read_csv(\"Data/teaching_training_data_grit.csv\", usecols=[\"unid\", \"grit_score\"])\n",
    "num = pd.read_csv(\"Data/teaching_training_data_num.csv\", usecols=[\"unid\", \"num_score\"])\n",
    "opt = pd.read_csv(\"Data/teaching_training_data_opt.csv\", usecols=[\"unid\", \"opt_score\"])\n",
    "data.head()"
   ]
  },
  {
   "cell_type": "code",
   "execution_count": 9,
   "metadata": {},
   "outputs": [
    {
     "data": {
      "text/plain": [
       "Unnamed: 0                     int64\n",
       "unid                           int64\n",
       "survey_date_month             object\n",
       "survey_num                     int64\n",
       "gender                        object\n",
       "dob                           object\n",
       "province                      object\n",
       "working                         bool\n",
       "job_start_date                object\n",
       "job_leave_date                object\n",
       "company_size                  object\n",
       "monthly_pay                   object\n",
       "volunteer                     object\n",
       "leadershiprole                object\n",
       "peoplelive                    object\n",
       "peoplelive_15plus             object\n",
       "numchildren                   object\n",
       "numearnincome                 object\n",
       "anygrant                      object\n",
       "anyhhincome                   object\n",
       "financial_situation_now       object\n",
       "financial_situation_5years    object\n",
       "givemoney_yes                 object\n",
       "dtype: object"
      ]
     },
     "execution_count": 9,
     "metadata": {},
     "output_type": "execute_result"
    }
   ],
   "source": [
    "data.dtypes"
   ]
  },
  {
   "cell_type": "code",
   "execution_count": 10,
   "metadata": {},
   "outputs": [
    {
     "data": {
      "text/plain": [
       "Unnamed: 0                    83270\n",
       "unid                          51262\n",
       "survey_date_month                34\n",
       "survey_num                        9\n",
       "gender                            2\n",
       "dob                             274\n",
       "province                          9\n",
       "working                           2\n",
       "job_start_date                  160\n",
       "job_leave_date                  851\n",
       "company_size                      2\n",
       "monthly_pay                      11\n",
       "volunteer                         2\n",
       "leadershiprole                    2\n",
       "peoplelive                       21\n",
       "peoplelive_15plus                17\n",
       "numchildren                       6\n",
       "numearnincome                    16\n",
       "anygrant                          2\n",
       "anyhhincome                       2\n",
       "financial_situation_now          10\n",
       "financial_situation_5years       10\n",
       "givemoney_yes                     2\n",
       "dtype: int64"
      ]
     },
     "execution_count": 10,
     "metadata": {},
     "output_type": "execute_result"
    }
   ],
   "source": [
    "data.apply('nunique')"
   ]
  },
  {
   "cell_type": "code",
   "execution_count": 11,
   "metadata": {},
   "outputs": [
    {
     "data": {
      "text/html": [
       "<div>\n",
       "<style scoped>\n",
       "    .dataframe tbody tr th:only-of-type {\n",
       "        vertical-align: middle;\n",
       "    }\n",
       "\n",
       "    .dataframe tbody tr th {\n",
       "        vertical-align: top;\n",
       "    }\n",
       "\n",
       "    .dataframe thead th {\n",
       "        text-align: right;\n",
       "    }\n",
       "</style>\n",
       "<table border=\"1\" class=\"dataframe\">\n",
       "  <thead>\n",
       "    <tr style=\"text-align: right;\">\n",
       "      <th></th>\n",
       "      <th>Unnamed: 0</th>\n",
       "      <th>unid</th>\n",
       "      <th>survey_date_month</th>\n",
       "      <th>survey_num</th>\n",
       "      <th>gender</th>\n",
       "      <th>working</th>\n",
       "      <th>company_size</th>\n",
       "      <th>monthly_pay</th>\n",
       "      <th>volunteer</th>\n",
       "      <th>numearnincome</th>\n",
       "      <th>financial_situation_now</th>\n",
       "    </tr>\n",
       "  </thead>\n",
       "  <tbody>\n",
       "    <tr>\n",
       "      <th>0</th>\n",
       "      <td>1</td>\n",
       "      <td>41964</td>\n",
       "      <td>2018-06-01</td>\n",
       "      <td>1</td>\n",
       "      <td>Female</td>\n",
       "      <td>True</td>\n",
       "      <td>More than 200 employees</td>\n",
       "      <td>Between R2001 and 3000</td>\n",
       "      <td>NaN</td>\n",
       "      <td>NaN</td>\n",
       "      <td>NaN</td>\n",
       "    </tr>\n",
       "    <tr>\n",
       "      <th>1</th>\n",
       "      <td>2</td>\n",
       "      <td>41964</td>\n",
       "      <td>2018-11-01</td>\n",
       "      <td>2</td>\n",
       "      <td>Female</td>\n",
       "      <td>True</td>\n",
       "      <td>NaN</td>\n",
       "      <td>NaN</td>\n",
       "      <td>NaN</td>\n",
       "      <td>NaN</td>\n",
       "      <td>NaN</td>\n",
       "    </tr>\n",
       "    <tr>\n",
       "      <th>2</th>\n",
       "      <td>3</td>\n",
       "      <td>15241</td>\n",
       "      <td>2016-03-01</td>\n",
       "      <td>1</td>\n",
       "      <td>Female</td>\n",
       "      <td>True</td>\n",
       "      <td>NaN</td>\n",
       "      <td>NaN</td>\n",
       "      <td>No</td>\n",
       "      <td>1</td>\n",
       "      <td>2</td>\n",
       "    </tr>\n",
       "    <tr>\n",
       "      <th>3</th>\n",
       "      <td>4</td>\n",
       "      <td>33702</td>\n",
       "      <td>2016-04-01</td>\n",
       "      <td>1</td>\n",
       "      <td>Male</td>\n",
       "      <td>True</td>\n",
       "      <td>NaN</td>\n",
       "      <td>NaN</td>\n",
       "      <td>Yes</td>\n",
       "      <td>1</td>\n",
       "      <td>1 (Worst possible financial situation)</td>\n",
       "    </tr>\n",
       "    <tr>\n",
       "      <th>4</th>\n",
       "      <td>5</td>\n",
       "      <td>33702</td>\n",
       "      <td>2016-08-01</td>\n",
       "      <td>2</td>\n",
       "      <td>Male</td>\n",
       "      <td>False</td>\n",
       "      <td>NaN</td>\n",
       "      <td>NaN</td>\n",
       "      <td>Yes</td>\n",
       "      <td>1</td>\n",
       "      <td>1 (Worst possible financial situation)</td>\n",
       "    </tr>\n",
       "  </tbody>\n",
       "</table>\n",
       "</div>"
      ],
      "text/plain": [
       "   Unnamed: 0   unid survey_date_month  survey_num  gender  working  \\\n",
       "0           1  41964        2018-06-01           1  Female     True   \n",
       "1           2  41964        2018-11-01           2  Female     True   \n",
       "2           3  15241        2016-03-01           1  Female     True   \n",
       "3           4  33702        2016-04-01           1    Male     True   \n",
       "4           5  33702        2016-08-01           2    Male    False   \n",
       "\n",
       "              company_size             monthly_pay volunteer numearnincome  \\\n",
       "0  More than 200 employees  Between R2001 and 3000       NaN           NaN   \n",
       "1                      NaN                     NaN       NaN           NaN   \n",
       "2                      NaN                     NaN        No             1   \n",
       "3                      NaN                     NaN       Yes             1   \n",
       "4                      NaN                     NaN       Yes             1   \n",
       "\n",
       "                  financial_situation_now  \n",
       "0                                     NaN  \n",
       "1                                     NaN  \n",
       "2                                       2  \n",
       "3  1 (Worst possible financial situation)  \n",
       "4  1 (Worst possible financial situation)  "
      ]
     },
     "execution_count": 11,
     "metadata": {},
     "output_type": "execute_result"
    }
   ],
   "source": [
    "columns_to_drop = [\"job_start_date\",\"job_leave_date\",\"leadershiprole\",\"peoplelive\"\n",
    "                   ,\"peoplelive_15plus\",\"numchildren\",\"anygrant\",\"anyhhincome\"\n",
    "                   ,\"financial_situation_5years\"\n",
    "                   ,\"givemoney_yes\",\"province\",\"dob\"]\n",
    "data = data.drop(columns_to_drop, axis=1)\n",
    "data.head()\n",
    "#i didnt think that those rows were relevant to our question but if we want to keep some then cool."
   ]
  },
  {
   "cell_type": "code",
   "execution_count": 12,
   "metadata": {},
   "outputs": [
    {
     "data": {
      "text/html": [
       "<div>\n",
       "<style scoped>\n",
       "    .dataframe tbody tr th:only-of-type {\n",
       "        vertical-align: middle;\n",
       "    }\n",
       "\n",
       "    .dataframe tbody tr th {\n",
       "        vertical-align: top;\n",
       "    }\n",
       "\n",
       "    .dataframe thead th {\n",
       "        text-align: right;\n",
       "    }\n",
       "</style>\n",
       "<table border=\"1\" class=\"dataframe\">\n",
       "  <thead>\n",
       "    <tr style=\"text-align: right;\">\n",
       "      <th></th>\n",
       "      <th>Unnamed: 0</th>\n",
       "      <th>unid</th>\n",
       "      <th>survey_date_month</th>\n",
       "      <th>survey_num</th>\n",
       "      <th>gender</th>\n",
       "      <th>working</th>\n",
       "      <th>company_size</th>\n",
       "      <th>monthly_pay</th>\n",
       "      <th>volunteer</th>\n",
       "      <th>numearnincome</th>\n",
       "      <th>financial_situation_now</th>\n",
       "    </tr>\n",
       "  </thead>\n",
       "  <tbody>\n",
       "    <tr>\n",
       "      <th>0</th>\n",
       "      <td>1</td>\n",
       "      <td>41964</td>\n",
       "      <td>2018-06-01</td>\n",
       "      <td>1</td>\n",
       "      <td>Female</td>\n",
       "      <td>True</td>\n",
       "      <td>More than 200 employees</td>\n",
       "      <td>Between R2001 and 3000</td>\n",
       "      <td>NaN</td>\n",
       "      <td>NaN</td>\n",
       "      <td>NaN</td>\n",
       "    </tr>\n",
       "    <tr>\n",
       "      <th>1</th>\n",
       "      <td>2</td>\n",
       "      <td>41964</td>\n",
       "      <td>2018-11-01</td>\n",
       "      <td>2</td>\n",
       "      <td>Female</td>\n",
       "      <td>True</td>\n",
       "      <td>NaN</td>\n",
       "      <td>NaN</td>\n",
       "      <td>NaN</td>\n",
       "      <td>NaN</td>\n",
       "      <td>NaN</td>\n",
       "    </tr>\n",
       "    <tr>\n",
       "      <th>2</th>\n",
       "      <td>3</td>\n",
       "      <td>15241</td>\n",
       "      <td>2016-03-01</td>\n",
       "      <td>1</td>\n",
       "      <td>Female</td>\n",
       "      <td>True</td>\n",
       "      <td>NaN</td>\n",
       "      <td>NaN</td>\n",
       "      <td>No</td>\n",
       "      <td>1</td>\n",
       "      <td>2</td>\n",
       "    </tr>\n",
       "    <tr>\n",
       "      <th>3</th>\n",
       "      <td>4</td>\n",
       "      <td>33702</td>\n",
       "      <td>2016-04-01</td>\n",
       "      <td>1</td>\n",
       "      <td>Male</td>\n",
       "      <td>True</td>\n",
       "      <td>NaN</td>\n",
       "      <td>NaN</td>\n",
       "      <td>Yes</td>\n",
       "      <td>1</td>\n",
       "      <td>1 (Worst possible financial situation)</td>\n",
       "    </tr>\n",
       "    <tr>\n",
       "      <th>4</th>\n",
       "      <td>5</td>\n",
       "      <td>33702</td>\n",
       "      <td>2016-08-01</td>\n",
       "      <td>2</td>\n",
       "      <td>Male</td>\n",
       "      <td>False</td>\n",
       "      <td>NaN</td>\n",
       "      <td>NaN</td>\n",
       "      <td>Yes</td>\n",
       "      <td>1</td>\n",
       "      <td>1 (Worst possible financial situation)</td>\n",
       "    </tr>\n",
       "  </tbody>\n",
       "</table>\n",
       "</div>"
      ],
      "text/plain": [
       "   Unnamed: 0   unid survey_date_month  survey_num  gender  working  \\\n",
       "0           1  41964        2018-06-01           1  Female     True   \n",
       "1           2  41964        2018-11-01           2  Female     True   \n",
       "2           3  15241        2016-03-01           1  Female     True   \n",
       "3           4  33702        2016-04-01           1    Male     True   \n",
       "4           5  33702        2016-08-01           2    Male    False   \n",
       "\n",
       "              company_size             monthly_pay volunteer numearnincome  \\\n",
       "0  More than 200 employees  Between R2001 and 3000       NaN           NaN   \n",
       "1                      NaN                     NaN       NaN           NaN   \n",
       "2                      NaN                     NaN        No             1   \n",
       "3                      NaN                     NaN       Yes             1   \n",
       "4                      NaN                     NaN       Yes             1   \n",
       "\n",
       "                  financial_situation_now  \n",
       "0                                     NaN  \n",
       "1                                     NaN  \n",
       "2                                       2  \n",
       "3  1 (Worst possible financial situation)  \n",
       "4  1 (Worst possible financial situation)  "
      ]
     },
     "execution_count": 12,
     "metadata": {},
     "output_type": "execute_result"
    }
   ],
   "source": [
    "data.head()"
   ]
  },
  {
   "cell_type": "code",
   "execution_count": 13,
   "metadata": {},
   "outputs": [
    {
     "data": {
      "text/html": [
       "<div>\n",
       "<style scoped>\n",
       "    .dataframe tbody tr th:only-of-type {\n",
       "        vertical-align: middle;\n",
       "    }\n",
       "\n",
       "    .dataframe tbody tr th {\n",
       "        vertical-align: top;\n",
       "    }\n",
       "\n",
       "    .dataframe thead th {\n",
       "        text-align: right;\n",
       "    }\n",
       "</style>\n",
       "<table border=\"1\" class=\"dataframe\">\n",
       "  <thead>\n",
       "    <tr style=\"text-align: right;\">\n",
       "      <th></th>\n",
       "      <th>unid</th>\n",
       "      <th>survey_date_month</th>\n",
       "      <th>survey_num</th>\n",
       "      <th>gender</th>\n",
       "      <th>working</th>\n",
       "      <th>financial_situation_now</th>\n",
       "    </tr>\n",
       "  </thead>\n",
       "  <tbody>\n",
       "    <tr>\n",
       "      <th>0</th>\n",
       "      <td>41964</td>\n",
       "      <td>2018-06-01</td>\n",
       "      <td>1</td>\n",
       "      <td>Female</td>\n",
       "      <td>True</td>\n",
       "      <td>NaN</td>\n",
       "    </tr>\n",
       "    <tr>\n",
       "      <th>1</th>\n",
       "      <td>41964</td>\n",
       "      <td>2018-11-01</td>\n",
       "      <td>2</td>\n",
       "      <td>Female</td>\n",
       "      <td>True</td>\n",
       "      <td>NaN</td>\n",
       "    </tr>\n",
       "    <tr>\n",
       "      <th>2</th>\n",
       "      <td>15241</td>\n",
       "      <td>2016-03-01</td>\n",
       "      <td>1</td>\n",
       "      <td>Female</td>\n",
       "      <td>True</td>\n",
       "      <td>2</td>\n",
       "    </tr>\n",
       "    <tr>\n",
       "      <th>3</th>\n",
       "      <td>33702</td>\n",
       "      <td>2016-04-01</td>\n",
       "      <td>1</td>\n",
       "      <td>Male</td>\n",
       "      <td>True</td>\n",
       "      <td>1 (Worst possible financial situation)</td>\n",
       "    </tr>\n",
       "    <tr>\n",
       "      <th>4</th>\n",
       "      <td>33702</td>\n",
       "      <td>2016-08-01</td>\n",
       "      <td>2</td>\n",
       "      <td>Male</td>\n",
       "      <td>False</td>\n",
       "      <td>1 (Worst possible financial situation)</td>\n",
       "    </tr>\n",
       "  </tbody>\n",
       "</table>\n",
       "</div>"
      ],
      "text/plain": [
       "    unid survey_date_month  survey_num  gender  working  \\\n",
       "0  41964        2018-06-01           1  Female     True   \n",
       "1  41964        2018-11-01           2  Female     True   \n",
       "2  15241        2016-03-01           1  Female     True   \n",
       "3  33702        2016-04-01           1    Male     True   \n",
       "4  33702        2016-08-01           2    Male    False   \n",
       "\n",
       "                  financial_situation_now  \n",
       "0                                     NaN  \n",
       "1                                     NaN  \n",
       "2                                       2  \n",
       "3  1 (Worst possible financial situation)  \n",
       "4  1 (Worst possible financial situation)  "
      ]
     },
     "execution_count": 13,
     "metadata": {},
     "output_type": "execute_result"
    }
   ],
   "source": [
    "columns_2_drop = [\"Unnamed: 0\",\"company_size\",\"monthly_pay\",\"volunteer\",\"numearnincome\"]\n",
    "data = data.drop(columns_2_drop, axis=1)\n",
    "data.head()"
   ]
  },
  {
   "cell_type": "code",
   "execution_count": 14,
   "metadata": {},
   "outputs": [
    {
     "data": {
      "text/plain": [
       "(83270, 6)"
      ]
     },
     "execution_count": 14,
     "metadata": {},
     "output_type": "execute_result"
    }
   ],
   "source": [
    "data.shape"
   ]
  },
  {
   "cell_type": "code",
   "execution_count": 15,
   "metadata": {},
   "outputs": [
    {
     "data": {
      "text/html": [
       "<div>\n",
       "<style scoped>\n",
       "    .dataframe tbody tr th:only-of-type {\n",
       "        vertical-align: middle;\n",
       "    }\n",
       "\n",
       "    .dataframe tbody tr th {\n",
       "        vertical-align: top;\n",
       "    }\n",
       "\n",
       "    .dataframe thead th {\n",
       "        text-align: right;\n",
       "    }\n",
       "</style>\n",
       "<table border=\"1\" class=\"dataframe\">\n",
       "  <thead>\n",
       "    <tr style=\"text-align: right;\">\n",
       "      <th></th>\n",
       "      <th>cft_score</th>\n",
       "    </tr>\n",
       "    <tr>\n",
       "      <th>unid</th>\n",
       "      <th></th>\n",
       "    </tr>\n",
       "  </thead>\n",
       "  <tbody>\n",
       "    <tr>\n",
       "      <th>130</th>\n",
       "      <td>4</td>\n",
       "    </tr>\n",
       "    <tr>\n",
       "      <th>147</th>\n",
       "      <td>6</td>\n",
       "    </tr>\n",
       "    <tr>\n",
       "      <th>156</th>\n",
       "      <td>3</td>\n",
       "    </tr>\n",
       "    <tr>\n",
       "      <th>157</th>\n",
       "      <td>7</td>\n",
       "    </tr>\n",
       "    <tr>\n",
       "      <th>158</th>\n",
       "      <td>4</td>\n",
       "    </tr>\n",
       "    <tr>\n",
       "      <th>...</th>\n",
       "      <td>...</td>\n",
       "    </tr>\n",
       "    <tr>\n",
       "      <th>102486</th>\n",
       "      <td>6</td>\n",
       "    </tr>\n",
       "    <tr>\n",
       "      <th>102503</th>\n",
       "      <td>6</td>\n",
       "    </tr>\n",
       "    <tr>\n",
       "      <th>102504</th>\n",
       "      <td>3</td>\n",
       "    </tr>\n",
       "    <tr>\n",
       "      <th>102505</th>\n",
       "      <td>6</td>\n",
       "    </tr>\n",
       "    <tr>\n",
       "      <th>102516</th>\n",
       "      <td>8</td>\n",
       "    </tr>\n",
       "  </tbody>\n",
       "</table>\n",
       "<p>32880 rows × 1 columns</p>\n",
       "</div>"
      ],
      "text/plain": [
       "        cft_score\n",
       "unid             \n",
       "130             4\n",
       "147             6\n",
       "156             3\n",
       "157             7\n",
       "158             4\n",
       "...           ...\n",
       "102486          6\n",
       "102503          6\n",
       "102504          3\n",
       "102505          6\n",
       "102516          8\n",
       "\n",
       "[32880 rows x 1 columns]"
      ]
     },
     "execution_count": 15,
     "metadata": {},
     "output_type": "execute_result"
    }
   ],
   "source": [
    "cft_max = cft.groupby('unid')['cft_score'].max().to_frame()\n",
    "cft_max"
   ]
  },
  {
   "cell_type": "code",
   "execution_count": 16,
   "metadata": {},
   "outputs": [],
   "source": [
    "data.replace({\"1 (Worst possible financial situation)\": 1, \"2\": 2, \"3\": 3, \"4\": 4, \"5\": 5, \"6\": 6, \"7\": 7,\n",
    "              \"8\": 8, \"9\": 9, \"10 (Best possible financial situation)\": 10, \"nan\": 0\n",
    "             }, inplace=True)"
   ]
  },
  {
   "cell_type": "code",
   "execution_count": 17,
   "metadata": {},
   "outputs": [],
   "source": [
    "data[\"financial_situation_now\"] = data.financial_situation_now.astype(float)"
   ]
  },
  {
   "cell_type": "code",
   "execution_count": 18,
   "metadata": {},
   "outputs": [
    {
     "data": {
      "text/html": [
       "<div>\n",
       "<style scoped>\n",
       "    .dataframe tbody tr th:only-of-type {\n",
       "        vertical-align: middle;\n",
       "    }\n",
       "\n",
       "    .dataframe tbody tr th {\n",
       "        vertical-align: top;\n",
       "    }\n",
       "\n",
       "    .dataframe thead th {\n",
       "        text-align: right;\n",
       "    }\n",
       "</style>\n",
       "<table border=\"1\" class=\"dataframe\">\n",
       "  <thead>\n",
       "    <tr style=\"text-align: right;\">\n",
       "      <th></th>\n",
       "      <th>unid</th>\n",
       "      <th>survey_date_month</th>\n",
       "      <th>survey_num</th>\n",
       "      <th>gender</th>\n",
       "      <th>working</th>\n",
       "      <th>financial_situation_now</th>\n",
       "      <th>cft_score</th>\n",
       "      <th>num_score</th>\n",
       "      <th>com_score</th>\n",
       "      <th>grit_score</th>\n",
       "      <th>opt_score</th>\n",
       "    </tr>\n",
       "  </thead>\n",
       "  <tbody>\n",
       "    <tr>\n",
       "      <th>0</th>\n",
       "      <td>41964</td>\n",
       "      <td>2018-06-01</td>\n",
       "      <td>1</td>\n",
       "      <td>Female</td>\n",
       "      <td>True</td>\n",
       "      <td>NaN</td>\n",
       "      <td>4.0</td>\n",
       "      <td>NaN</td>\n",
       "      <td>4.0</td>\n",
       "      <td>4</td>\n",
       "      <td>NaN</td>\n",
       "    </tr>\n",
       "    <tr>\n",
       "      <th>1</th>\n",
       "      <td>41964</td>\n",
       "      <td>2018-06-01</td>\n",
       "      <td>1</td>\n",
       "      <td>Female</td>\n",
       "      <td>True</td>\n",
       "      <td>NaN</td>\n",
       "      <td>4.0</td>\n",
       "      <td>NaN</td>\n",
       "      <td>4.0</td>\n",
       "      <td>4</td>\n",
       "      <td>NaN</td>\n",
       "    </tr>\n",
       "    <tr>\n",
       "      <th>2</th>\n",
       "      <td>41964</td>\n",
       "      <td>2018-06-01</td>\n",
       "      <td>1</td>\n",
       "      <td>Female</td>\n",
       "      <td>True</td>\n",
       "      <td>NaN</td>\n",
       "      <td>4.0</td>\n",
       "      <td>NaN</td>\n",
       "      <td>4.0</td>\n",
       "      <td>9</td>\n",
       "      <td>NaN</td>\n",
       "    </tr>\n",
       "    <tr>\n",
       "      <th>3</th>\n",
       "      <td>41964</td>\n",
       "      <td>2018-06-01</td>\n",
       "      <td>1</td>\n",
       "      <td>Female</td>\n",
       "      <td>True</td>\n",
       "      <td>NaN</td>\n",
       "      <td>4.0</td>\n",
       "      <td>NaN</td>\n",
       "      <td>4.0</td>\n",
       "      <td>9</td>\n",
       "      <td>NaN</td>\n",
       "    </tr>\n",
       "    <tr>\n",
       "      <th>4</th>\n",
       "      <td>41964</td>\n",
       "      <td>2018-06-01</td>\n",
       "      <td>1</td>\n",
       "      <td>Female</td>\n",
       "      <td>True</td>\n",
       "      <td>NaN</td>\n",
       "      <td>4.0</td>\n",
       "      <td>NaN</td>\n",
       "      <td>4.0</td>\n",
       "      <td>4</td>\n",
       "      <td>NaN</td>\n",
       "    </tr>\n",
       "    <tr>\n",
       "      <th>...</th>\n",
       "      <td>...</td>\n",
       "      <td>...</td>\n",
       "      <td>...</td>\n",
       "      <td>...</td>\n",
       "      <td>...</td>\n",
       "      <td>...</td>\n",
       "      <td>...</td>\n",
       "      <td>...</td>\n",
       "      <td>...</td>\n",
       "      <td>...</td>\n",
       "      <td>...</td>\n",
       "    </tr>\n",
       "    <tr>\n",
       "      <th>27694471</th>\n",
       "      <td>79971</td>\n",
       "      <td>2017-08-01</td>\n",
       "      <td>3</td>\n",
       "      <td>Female</td>\n",
       "      <td>True</td>\n",
       "      <td>9.0</td>\n",
       "      <td>8.0</td>\n",
       "      <td>5.0</td>\n",
       "      <td>6.0</td>\n",
       "      <td>7</td>\n",
       "      <td>3.0</td>\n",
       "    </tr>\n",
       "    <tr>\n",
       "      <th>27694472</th>\n",
       "      <td>79971</td>\n",
       "      <td>2017-08-01</td>\n",
       "      <td>3</td>\n",
       "      <td>Female</td>\n",
       "      <td>True</td>\n",
       "      <td>9.0</td>\n",
       "      <td>8.0</td>\n",
       "      <td>5.0</td>\n",
       "      <td>6.0</td>\n",
       "      <td>7</td>\n",
       "      <td>3.0</td>\n",
       "    </tr>\n",
       "    <tr>\n",
       "      <th>27694473</th>\n",
       "      <td>79971</td>\n",
       "      <td>2017-08-01</td>\n",
       "      <td>3</td>\n",
       "      <td>Female</td>\n",
       "      <td>True</td>\n",
       "      <td>9.0</td>\n",
       "      <td>8.0</td>\n",
       "      <td>5.0</td>\n",
       "      <td>6.0</td>\n",
       "      <td>5</td>\n",
       "      <td>-4.0</td>\n",
       "    </tr>\n",
       "    <tr>\n",
       "      <th>27694474</th>\n",
       "      <td>79971</td>\n",
       "      <td>2017-08-01</td>\n",
       "      <td>3</td>\n",
       "      <td>Female</td>\n",
       "      <td>True</td>\n",
       "      <td>9.0</td>\n",
       "      <td>8.0</td>\n",
       "      <td>5.0</td>\n",
       "      <td>6.0</td>\n",
       "      <td>5</td>\n",
       "      <td>3.0</td>\n",
       "    </tr>\n",
       "    <tr>\n",
       "      <th>27694475</th>\n",
       "      <td>79971</td>\n",
       "      <td>2017-08-01</td>\n",
       "      <td>3</td>\n",
       "      <td>Female</td>\n",
       "      <td>True</td>\n",
       "      <td>9.0</td>\n",
       "      <td>8.0</td>\n",
       "      <td>5.0</td>\n",
       "      <td>6.0</td>\n",
       "      <td>5</td>\n",
       "      <td>3.0</td>\n",
       "    </tr>\n",
       "  </tbody>\n",
       "</table>\n",
       "<p>27694476 rows × 11 columns</p>\n",
       "</div>"
      ],
      "text/plain": [
       "           unid survey_date_month  survey_num  gender  working  \\\n",
       "0         41964        2018-06-01           1  Female     True   \n",
       "1         41964        2018-06-01           1  Female     True   \n",
       "2         41964        2018-06-01           1  Female     True   \n",
       "3         41964        2018-06-01           1  Female     True   \n",
       "4         41964        2018-06-01           1  Female     True   \n",
       "...         ...               ...         ...     ...      ...   \n",
       "27694471  79971        2017-08-01           3  Female     True   \n",
       "27694472  79971        2017-08-01           3  Female     True   \n",
       "27694473  79971        2017-08-01           3  Female     True   \n",
       "27694474  79971        2017-08-01           3  Female     True   \n",
       "27694475  79971        2017-08-01           3  Female     True   \n",
       "\n",
       "          financial_situation_now  cft_score  num_score  com_score  \\\n",
       "0                             NaN        4.0        NaN        4.0   \n",
       "1                             NaN        4.0        NaN        4.0   \n",
       "2                             NaN        4.0        NaN        4.0   \n",
       "3                             NaN        4.0        NaN        4.0   \n",
       "4                             NaN        4.0        NaN        4.0   \n",
       "...                           ...        ...        ...        ...   \n",
       "27694471                      9.0        8.0        5.0        6.0   \n",
       "27694472                      9.0        8.0        5.0        6.0   \n",
       "27694473                      9.0        8.0        5.0        6.0   \n",
       "27694474                      9.0        8.0        5.0        6.0   \n",
       "27694475                      9.0        8.0        5.0        6.0   \n",
       "\n",
       "          grit_score  opt_score  \n",
       "0                  4        NaN  \n",
       "1                  4        NaN  \n",
       "2                  9        NaN  \n",
       "3                  9        NaN  \n",
       "4                  4        NaN  \n",
       "...              ...        ...  \n",
       "27694471           7        3.0  \n",
       "27694472           7        3.0  \n",
       "27694473           5       -4.0  \n",
       "27694474           5        3.0  \n",
       "27694475           5        3.0  \n",
       "\n",
       "[27694476 rows x 11 columns]"
      ]
     },
     "execution_count": 18,
     "metadata": {},
     "output_type": "execute_result"
    }
   ],
   "source": [
    "df = pd.merge(data,cft, how = 'outer', on = 'unid')\n",
    "df = pd.merge(df,num, how = 'outer', on = 'unid')\n",
    "df = pd.merge(df,com, how = 'outer', on = 'unid')\n",
    "df = pd.merge(df,grit, how = 'outer', on = 'unid')\n",
    "df = pd.merge(df,opt, how = 'outer', on = 'unid')\n",
    "df\n",
    "#this way by doing 'outer' i have not dropped any rows but created multiple copies, later i get rid of the unneccesary ones."
   ]
  },
  {
   "cell_type": "code",
   "execution_count": 19,
   "metadata": {},
   "outputs": [
    {
     "data": {
      "text/plain": [
       "(27694476, 11)"
      ]
     },
     "execution_count": 19,
     "metadata": {},
     "output_type": "execute_result"
    }
   ],
   "source": [
    "df.shape"
   ]
  },
  {
   "cell_type": "code",
   "execution_count": 20,
   "metadata": {},
   "outputs": [
    {
     "data": {
      "text/plain": [
       "unid                         int64\n",
       "survey_date_month           object\n",
       "survey_num                   int64\n",
       "gender                      object\n",
       "working                       bool\n",
       "financial_situation_now    float64\n",
       "cft_score                  float64\n",
       "num_score                  float64\n",
       "com_score                  float64\n",
       "grit_score                   int64\n",
       "opt_score                  float64\n",
       "dtype: object"
      ]
     },
     "execution_count": 20,
     "metadata": {},
     "output_type": "execute_result"
    }
   ],
   "source": [
    "df.dtypes"
   ]
  },
  {
   "cell_type": "code",
   "execution_count": 21,
   "metadata": {},
   "outputs": [
    {
     "name": "stdout",
     "output_type": "stream",
     "text": [
      "unid                             0\n",
      "survey_date_month                0\n",
      "survey_num                       0\n",
      "gender                          30\n",
      "working                          0\n",
      "financial_situation_now    7058951\n",
      "cft_score                    82043\n",
      "num_score                  3789959\n",
      "com_score                   690967\n",
      "grit_score                       0\n",
      "opt_score                  7058951\n",
      "dtype: int64\n"
     ]
    }
   ],
   "source": [
    "print(df.isnull().sum())"
   ]
  },
  {
   "cell_type": "code",
   "execution_count": null,
   "metadata": {},
   "outputs": [
    {
     "name": "stdout",
     "output_type": "stream",
     "text": [
      "(27694476, 11)\n"
     ]
    }
   ],
   "source": [
    "print(df.shape)\n",
    "\n",
    "# Rows containing duplicate data\n",
    "duplicate_rows_df = df[df.duplicated()]\n",
    "\n",
    "print(duplicate_rows_df.shape)\n",
    "\n"
   ]
  },
  {
   "cell_type": "code",
   "execution_count": null,
   "metadata": {},
   "outputs": [],
   "source": [
    "df_new = df.groupby(df['unid']).aggregate({'gender':'first','working':'last'\n",
    "                                          ,'num_score':'max','com_score':'max'\n",
    "                                          ,'cft_score':'max','grit_score':'max'\n",
    "                                          ,'opt_score':'max', 'financial_situation_now': 'last'})"
   ]
  },
  {
   "cell_type": "code",
   "execution_count": null,
   "metadata": {},
   "outputs": [],
   "source": [
    " df_new.shape"
   ]
  },
  {
   "cell_type": "code",
   "execution_count": null,
   "metadata": {},
   "outputs": [],
   "source": [
    "df_new.head(15)"
   ]
  },
  {
   "cell_type": "code",
   "execution_count": null,
   "metadata": {},
   "outputs": [],
   "source": [
    "df_new.shape #so we still have all the participants included as the total of unique participants in 51,262. \n"
   ]
  },
  {
   "cell_type": "code",
   "execution_count": null,
   "metadata": {},
   "outputs": [],
   "source": []
  },
  {
   "cell_type": "code",
   "execution_count": null,
   "metadata": {},
   "outputs": [],
   "source": [
    "df.apply('nunique')"
   ]
  },
  {
   "cell_type": "code",
   "execution_count": null,
   "metadata": {},
   "outputs": [],
   "source": [
    "df_new.describe()"
   ]
  },
  {
   "cell_type": "code",
   "execution_count": null,
   "metadata": {},
   "outputs": [],
   "source": [
    "import missingno as msno\n",
    "\n",
    "msno.matrix(df_new); #so as we can see, grit is the only thing that everyone seems to have done."
   ]
  },
  {
   "cell_type": "code",
   "execution_count": null,
   "metadata": {},
   "outputs": [],
   "source": [
    "from ipywidgets import interact, fixed"
   ]
  },
  {
   "cell_type": "code",
   "execution_count": null,
   "metadata": {},
   "outputs": [],
   "source": [
    "def numerical_variable_distribution(df_new, col):\n",
    "    df_new[col].plot.hist()"
   ]
  },
  {
   "cell_type": "code",
   "execution_count": null,
   "metadata": {
    "scrolled": true
   },
   "outputs": [],
   "source": [
    "numerical_columns = df_new.select_dtypes(include=[np.number]).columns.tolist()\n",
    "interact(numerical_variable_distribution, \n",
    "         col=numerical_columns, df_new=fixed(df_new));"
   ]
  },
  {
   "cell_type": "code",
   "execution_count": null,
   "metadata": {},
   "outputs": [],
   "source": [
    "plt.plot('grit_score','working', data=df_new)\n",
    "plt.show()\n",
    "#obviously this shows us nothing....but it looks awesome. so i'm gonna leave it here "
   ]
  },
  {
   "cell_type": "code",
   "execution_count": null,
   "metadata": {},
   "outputs": [],
   "source": [
    "sns.relplot(x=\"grit_score\", y=\"cft_score\", data=df_new, kind=\"scatter\")"
   ]
  },
  {
   "cell_type": "code",
   "execution_count": null,
   "metadata": {},
   "outputs": [],
   "source": [
    "df_new.dtypes"
   ]
  },
  {
   "cell_type": "code",
   "execution_count": null,
   "metadata": {},
   "outputs": [],
   "source": [
    "sns.pairplot(df_new, hue ='working')"
   ]
  },
  {
   "cell_type": "code",
   "execution_count": null,
   "metadata": {},
   "outputs": [],
   "source": [
    "jp = sns.jointplot(\"cft_score\", \"num_score\", data=df_new)"
   ]
  },
  {
   "cell_type": "code",
   "execution_count": null,
   "metadata": {},
   "outputs": [],
   "source": [
    "jp = sns.jointplot(\"opt_score\", \"grit_score\", data=df_new, hue ='working')"
   ]
  },
  {
   "cell_type": "code",
   "execution_count": null,
   "metadata": {},
   "outputs": [],
   "source": [
    "ct_cft = pd.crosstab(df_new.cft_score, df_new.working)\n",
    "print(ct_cft)"
   ]
  },
  {
   "cell_type": "code",
   "execution_count": null,
   "metadata": {},
   "outputs": [],
   "source": [
    "ct_grit = pd.crosstab(df_new.grit_score, df_new.working)\n",
    "print(ct_grit)"
   ]
  },
  {
   "cell_type": "code",
   "execution_count": null,
   "metadata": {},
   "outputs": [],
   "source": [
    "ct_opt = pd.crosstab(df_new.opt_score, df_new.working)\n",
    "print(ct_opt)"
   ]
  },
  {
   "cell_type": "code",
   "execution_count": null,
   "metadata": {},
   "outputs": [],
   "source": [
    "ct_gender = pd.crosstab(df_new.gender, df_new.working)\n",
    "print(ct_gender)"
   ]
  },
  {
   "cell_type": "code",
   "execution_count": null,
   "metadata": {},
   "outputs": [],
   "source": [
    "ct_com = pd.crosstab(df_new.com_score, df_new.working)\n",
    "print(ct_com)"
   ]
  },
  {
   "cell_type": "code",
   "execution_count": null,
   "metadata": {},
   "outputs": [],
   "source": [
    "ct_num = pd.crosstab(df_new.num_score, df_new.working)\n",
    "print(ct_num)"
   ]
  },
  {
   "cell_type": "code",
   "execution_count": null,
   "metadata": {},
   "outputs": [],
   "source": [
    "df_new.corr()"
   ]
  },
  {
   "cell_type": "code",
   "execution_count": null,
   "metadata": {},
   "outputs": [],
   "source": [
    "df_new.dtypes"
   ]
  },
  {
   "cell_type": "code",
   "execution_count": null,
   "metadata": {},
   "outputs": [],
   "source": [
    "df_new['gender']=df_new['gender'].replace(['Female','Male'],[1,0])\n",
    "df_new['gender']"
   ]
  },
  {
   "cell_type": "code",
   "execution_count": null,
   "metadata": {},
   "outputs": [],
   "source": [
    "df_new['gender']=df_new.astype(np.bool)"
   ]
  },
  {
   "cell_type": "code",
   "execution_count": null,
   "metadata": {},
   "outputs": [],
   "source": [
    "df_new.dtypes"
   ]
  },
  {
   "cell_type": "code",
   "execution_count": null,
   "metadata": {},
   "outputs": [],
   "source": [
    "df_new.corr()"
   ]
  },
  {
   "cell_type": "code",
   "execution_count": null,
   "metadata": {},
   "outputs": [],
   "source": [
    "from sklearn.linear_model import LinearRegression"
   ]
  },
  {
   "cell_type": "code",
   "execution_count": null,
   "metadata": {},
   "outputs": [],
   "source": []
  },
  {
   "cell_type": "code",
   "execution_count": null,
   "metadata": {},
   "outputs": [],
   "source": [
    "tstat, pvalue, ddof = ttest_ind(\n",
    "                                grit_men,\n",
    "                                grit_women,\n",
    "                                alternative=\"two-sided\",\n",
    "                                usevar=\"pooled\"\n",
    ")\n",
    "pvalue"
   ]
  },
  {
   "cell_type": "code",
   "execution_count": null,
   "metadata": {},
   "outputs": [],
   "source": []
  },
  {
   "cell_type": "code",
   "execution_count": null,
   "metadata": {},
   "outputs": [],
   "source": []
  },
  {
   "cell_type": "code",
   "execution_count": null,
   "metadata": {},
   "outputs": [],
   "source": []
  },
  {
   "cell_type": "code",
   "execution_count": null,
   "metadata": {},
   "outputs": [],
   "source": []
  },
  {
   "cell_type": "code",
   "execution_count": null,
   "metadata": {},
   "outputs": [],
   "source": []
  },
  {
   "cell_type": "code",
   "execution_count": null,
   "metadata": {},
   "outputs": [],
   "source": []
  }
 ],
 "metadata": {
  "kernelspec": {
   "display_name": "Python 3",
   "language": "python",
   "name": "python3"
  },
  "language_info": {
   "codemirror_mode": {
    "name": "ipython",
    "version": 3
   },
   "file_extension": ".py",
   "mimetype": "text/x-python",
   "name": "python",
   "nbconvert_exporter": "python",
   "pygments_lexer": "ipython3",
   "version": "3.8.5"
  }
 },
 "nbformat": 4,
 "nbformat_minor": 4
}

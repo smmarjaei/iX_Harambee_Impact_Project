{
 "cells": [
  {
   "cell_type": "code",
   "execution_count": 1,
   "metadata": {},
   "outputs": [],
   "source": [
    "import pandas as pd\n",
    "import numpy as np\n",
    "import seaborn as sns\n",
    "import ast, json\n",
    "\n",
    "from datetime import datetime\n",
    "import matplotlib.pyplot as plt\n",
    "%matplotlib inline"
   ]
  },
  {
   "cell_type": "code",
   "execution_count": 2,
   "metadata": {},
   "outputs": [
    {
     "data": {
      "text/html": [
       "<div>\n",
       "<style scoped>\n",
       "    .dataframe tbody tr th:only-of-type {\n",
       "        vertical-align: middle;\n",
       "    }\n",
       "\n",
       "    .dataframe tbody tr th {\n",
       "        vertical-align: top;\n",
       "    }\n",
       "\n",
       "    .dataframe thead th {\n",
       "        text-align: right;\n",
       "    }\n",
       "</style>\n",
       "<table border=\"1\" class=\"dataframe\">\n",
       "  <thead>\n",
       "    <tr style=\"text-align: right;\">\n",
       "      <th></th>\n",
       "      <th>Unnamed: 0</th>\n",
       "      <th>unid</th>\n",
       "      <th>opt_score</th>\n",
       "    </tr>\n",
       "  </thead>\n",
       "  <tbody>\n",
       "    <tr>\n",
       "      <th>0</th>\n",
       "      <td>1</td>\n",
       "      <td>41964</td>\n",
       "      <td>NaN</td>\n",
       "    </tr>\n",
       "    <tr>\n",
       "      <th>1</th>\n",
       "      <td>2</td>\n",
       "      <td>41964</td>\n",
       "      <td>NaN</td>\n",
       "    </tr>\n",
       "    <tr>\n",
       "      <th>2</th>\n",
       "      <td>3</td>\n",
       "      <td>15241</td>\n",
       "      <td>7.0</td>\n",
       "    </tr>\n",
       "    <tr>\n",
       "      <th>3</th>\n",
       "      <td>4</td>\n",
       "      <td>33702</td>\n",
       "      <td>3.0</td>\n",
       "    </tr>\n",
       "    <tr>\n",
       "      <th>4</th>\n",
       "      <td>5</td>\n",
       "      <td>33702</td>\n",
       "      <td>-5.0</td>\n",
       "    </tr>\n",
       "    <tr>\n",
       "      <th>...</th>\n",
       "      <td>...</td>\n",
       "      <td>...</td>\n",
       "      <td>...</td>\n",
       "    </tr>\n",
       "    <tr>\n",
       "      <th>83265</th>\n",
       "      <td>83266</td>\n",
       "      <td>34341</td>\n",
       "      <td>3.0</td>\n",
       "    </tr>\n",
       "    <tr>\n",
       "      <th>83266</th>\n",
       "      <td>83267</td>\n",
       "      <td>94118</td>\n",
       "      <td>4.0</td>\n",
       "    </tr>\n",
       "    <tr>\n",
       "      <th>83267</th>\n",
       "      <td>83268</td>\n",
       "      <td>79971</td>\n",
       "      <td>-4.0</td>\n",
       "    </tr>\n",
       "    <tr>\n",
       "      <th>83268</th>\n",
       "      <td>83269</td>\n",
       "      <td>79971</td>\n",
       "      <td>3.0</td>\n",
       "    </tr>\n",
       "    <tr>\n",
       "      <th>83269</th>\n",
       "      <td>83270</td>\n",
       "      <td>79971</td>\n",
       "      <td>3.0</td>\n",
       "    </tr>\n",
       "  </tbody>\n",
       "</table>\n",
       "<p>83270 rows × 3 columns</p>\n",
       "</div>"
      ],
      "text/plain": [
       "       Unnamed: 0   unid  opt_score\n",
       "0               1  41964        NaN\n",
       "1               2  41964        NaN\n",
       "2               3  15241        7.0\n",
       "3               4  33702        3.0\n",
       "4               5  33702       -5.0\n",
       "...           ...    ...        ...\n",
       "83265       83266  34341        3.0\n",
       "83266       83267  94118        4.0\n",
       "83267       83268  79971       -4.0\n",
       "83268       83269  79971        3.0\n",
       "83269       83270  79971        3.0\n",
       "\n",
       "[83270 rows x 3 columns]"
      ]
     },
     "execution_count": 2,
     "metadata": {},
     "output_type": "execute_result"
    }
   ],
   "source": [
    "pd.read_csv(\"teaching_training_data.csv\")\n",
    "pd.read_csv(\"teaching_training_data_cft.csv\")\n",
    "pd.read_csv(\"teaching_training_data_com.csv\")\n",
    "pd.read_csv(\"teaching_training_data_grit.csv\")\n",
    "pd.read_csv(\"teaching_training_data_num.csv\")\n",
    "pd.read_csv(\"teaching_training_data_opt.csv\")"
   ]
  },
  {
   "cell_type": "code",
   "execution_count": 3,
   "metadata": {},
   "outputs": [
    {
     "data": {
      "text/html": [
       "<div>\n",
       "<style scoped>\n",
       "    .dataframe tbody tr th:only-of-type {\n",
       "        vertical-align: middle;\n",
       "    }\n",
       "\n",
       "    .dataframe tbody tr th {\n",
       "        vertical-align: top;\n",
       "    }\n",
       "\n",
       "    .dataframe thead th {\n",
       "        text-align: right;\n",
       "    }\n",
       "</style>\n",
       "<table border=\"1\" class=\"dataframe\">\n",
       "  <thead>\n",
       "    <tr style=\"text-align: right;\">\n",
       "      <th></th>\n",
       "      <th>Unnamed: 0</th>\n",
       "      <th>unid</th>\n",
       "      <th>survey_date_month</th>\n",
       "      <th>survey_num</th>\n",
       "      <th>gender</th>\n",
       "      <th>dob</th>\n",
       "      <th>province</th>\n",
       "      <th>working</th>\n",
       "      <th>job_start_date</th>\n",
       "      <th>job_leave_date</th>\n",
       "      <th>...</th>\n",
       "      <th>leadershiprole</th>\n",
       "      <th>peoplelive</th>\n",
       "      <th>peoplelive_15plus</th>\n",
       "      <th>numchildren</th>\n",
       "      <th>numearnincome</th>\n",
       "      <th>anygrant</th>\n",
       "      <th>anyhhincome</th>\n",
       "      <th>financial_situation_now</th>\n",
       "      <th>financial_situation_5years</th>\n",
       "      <th>givemoney_yes</th>\n",
       "    </tr>\n",
       "  </thead>\n",
       "  <tbody>\n",
       "    <tr>\n",
       "      <th>0</th>\n",
       "      <td>1</td>\n",
       "      <td>41964</td>\n",
       "      <td>01/06/2018</td>\n",
       "      <td>1</td>\n",
       "      <td>Female</td>\n",
       "      <td>01/02/1992</td>\n",
       "      <td>NaN</td>\n",
       "      <td>True</td>\n",
       "      <td>01/06/2018</td>\n",
       "      <td>NaN</td>\n",
       "      <td>...</td>\n",
       "      <td>NaN</td>\n",
       "      <td>NaN</td>\n",
       "      <td>NaN</td>\n",
       "      <td>NaN</td>\n",
       "      <td>NaN</td>\n",
       "      <td>False</td>\n",
       "      <td>False</td>\n",
       "      <td>NaN</td>\n",
       "      <td>NaN</td>\n",
       "      <td>NaN</td>\n",
       "    </tr>\n",
       "    <tr>\n",
       "      <th>1</th>\n",
       "      <td>2</td>\n",
       "      <td>41964</td>\n",
       "      <td>01/11/2018</td>\n",
       "      <td>2</td>\n",
       "      <td>Female</td>\n",
       "      <td>01/02/1992</td>\n",
       "      <td>NaN</td>\n",
       "      <td>True</td>\n",
       "      <td>30/04/2018</td>\n",
       "      <td>08/11/2018</td>\n",
       "      <td>...</td>\n",
       "      <td>NaN</td>\n",
       "      <td>NaN</td>\n",
       "      <td>NaN</td>\n",
       "      <td>NaN</td>\n",
       "      <td>NaN</td>\n",
       "      <td>False</td>\n",
       "      <td>False</td>\n",
       "      <td>NaN</td>\n",
       "      <td>NaN</td>\n",
       "      <td>NaN</td>\n",
       "    </tr>\n",
       "    <tr>\n",
       "      <th>2</th>\n",
       "      <td>3</td>\n",
       "      <td>15241</td>\n",
       "      <td>01/03/2016</td>\n",
       "      <td>1</td>\n",
       "      <td>Female</td>\n",
       "      <td>01/11/1988</td>\n",
       "      <td>NaN</td>\n",
       "      <td>True</td>\n",
       "      <td>01/03/2015</td>\n",
       "      <td>15/03/2016</td>\n",
       "      <td>...</td>\n",
       "      <td>No</td>\n",
       "      <td>2</td>\n",
       "      <td>NaN</td>\n",
       "      <td>3</td>\n",
       "      <td>1</td>\n",
       "      <td>True</td>\n",
       "      <td>True</td>\n",
       "      <td>2</td>\n",
       "      <td>8</td>\n",
       "      <td>False</td>\n",
       "    </tr>\n",
       "    <tr>\n",
       "      <th>3</th>\n",
       "      <td>4</td>\n",
       "      <td>33702</td>\n",
       "      <td>01/04/2016</td>\n",
       "      <td>1</td>\n",
       "      <td>Male</td>\n",
       "      <td>01/04/1991</td>\n",
       "      <td>NaN</td>\n",
       "      <td>True</td>\n",
       "      <td>01/02/2016</td>\n",
       "      <td>14/04/2016</td>\n",
       "      <td>...</td>\n",
       "      <td>No</td>\n",
       "      <td>4</td>\n",
       "      <td>NaN</td>\n",
       "      <td>1</td>\n",
       "      <td>1</td>\n",
       "      <td>False</td>\n",
       "      <td>True</td>\n",
       "      <td>1 (Worst possible financial situation)</td>\n",
       "      <td>1 (Worst possible financial situation)</td>\n",
       "      <td>False</td>\n",
       "    </tr>\n",
       "    <tr>\n",
       "      <th>4</th>\n",
       "      <td>5</td>\n",
       "      <td>33702</td>\n",
       "      <td>01/08/2016</td>\n",
       "      <td>2</td>\n",
       "      <td>Male</td>\n",
       "      <td>01/04/1991</td>\n",
       "      <td>NaN</td>\n",
       "      <td>False</td>\n",
       "      <td>NaN</td>\n",
       "      <td>NaN</td>\n",
       "      <td>...</td>\n",
       "      <td>No</td>\n",
       "      <td>4</td>\n",
       "      <td>NaN</td>\n",
       "      <td>1</td>\n",
       "      <td>1</td>\n",
       "      <td>False</td>\n",
       "      <td>True</td>\n",
       "      <td>1 (Worst possible financial situation)</td>\n",
       "      <td>1 (Worst possible financial situation)</td>\n",
       "      <td>False</td>\n",
       "    </tr>\n",
       "  </tbody>\n",
       "</table>\n",
       "<p>5 rows × 23 columns</p>\n",
       "</div>"
      ],
      "text/plain": [
       "   Unnamed: 0   unid survey_date_month  survey_num  gender         dob  \\\n",
       "0           1  41964        01/06/2018           1  Female  01/02/1992   \n",
       "1           2  41964        01/11/2018           2  Female  01/02/1992   \n",
       "2           3  15241        01/03/2016           1  Female  01/11/1988   \n",
       "3           4  33702        01/04/2016           1    Male  01/04/1991   \n",
       "4           5  33702        01/08/2016           2    Male  01/04/1991   \n",
       "\n",
       "  province  working job_start_date job_leave_date  ... leadershiprole  \\\n",
       "0      NaN     True     01/06/2018            NaN  ...            NaN   \n",
       "1      NaN     True     30/04/2018     08/11/2018  ...            NaN   \n",
       "2      NaN     True     01/03/2015     15/03/2016  ...             No   \n",
       "3      NaN     True     01/02/2016     14/04/2016  ...             No   \n",
       "4      NaN    False            NaN            NaN  ...             No   \n",
       "\n",
       "  peoplelive peoplelive_15plus numchildren numearnincome anygrant anyhhincome  \\\n",
       "0        NaN               NaN         NaN           NaN    False       False   \n",
       "1        NaN               NaN         NaN           NaN    False       False   \n",
       "2          2               NaN           3             1     True        True   \n",
       "3          4               NaN           1             1    False        True   \n",
       "4          4               NaN           1             1    False        True   \n",
       "\n",
       "                  financial_situation_now  \\\n",
       "0                                     NaN   \n",
       "1                                     NaN   \n",
       "2                                       2   \n",
       "3  1 (Worst possible financial situation)   \n",
       "4  1 (Worst possible financial situation)   \n",
       "\n",
       "               financial_situation_5years givemoney_yes  \n",
       "0                                     NaN           NaN  \n",
       "1                                     NaN           NaN  \n",
       "2                                       8         False  \n",
       "3  1 (Worst possible financial situation)         False  \n",
       "4  1 (Worst possible financial situation)         False  \n",
       "\n",
       "[5 rows x 23 columns]"
      ]
     },
     "execution_count": 3,
     "metadata": {},
     "output_type": "execute_result"
    }
   ],
   "source": [
    "data = pd.read_csv(\"teaching_training_data.csv\")\n",
    "cft = pd.read_csv(\"teaching_training_data_cft.csv\", usecols=[\"unid\", \"cft_score\"])\n",
    "com = pd.read_csv(\"teaching_training_data_com.csv\", usecols=[\"unid\", \"com_score\"])\n",
    "grit = pd.read_csv(\"teaching_training_data_grit.csv\", usecols=[\"unid\", \"grit_score\"])\n",
    "num = pd.read_csv(\"teaching_training_data_num.csv\", usecols=[\"unid\", \"num_score\"])\n",
    "opt = pd.read_csv(\"teaching_training_data_opt.csv\", usecols=[\"unid\", \"opt_score\"])\n",
    "data.head()"
   ]
  },
  {
   "cell_type": "code",
   "execution_count": 4,
   "metadata": {},
   "outputs": [
    {
     "data": {
      "text/plain": [
       "Unnamed: 0                     int64\n",
       "unid                           int64\n",
       "survey_date_month             object\n",
       "survey_num                     int64\n",
       "gender                        object\n",
       "dob                           object\n",
       "province                      object\n",
       "working                         bool\n",
       "job_start_date                object\n",
       "job_leave_date                object\n",
       "company_size                  object\n",
       "monthly_pay                   object\n",
       "volunteer                     object\n",
       "leadershiprole                object\n",
       "peoplelive                    object\n",
       "peoplelive_15plus             object\n",
       "numchildren                   object\n",
       "numearnincome                 object\n",
       "anygrant                      object\n",
       "anyhhincome                   object\n",
       "financial_situation_now       object\n",
       "financial_situation_5years    object\n",
       "givemoney_yes                 object\n",
       "dtype: object"
      ]
     },
     "execution_count": 4,
     "metadata": {},
     "output_type": "execute_result"
    }
   ],
   "source": [
    "data.dtypes"
   ]
  },
  {
   "cell_type": "code",
   "execution_count": 5,
   "metadata": {},
   "outputs": [
    {
     "data": {
      "text/plain": [
       "Unnamed: 0                    83270\n",
       "unid                          51262\n",
       "survey_date_month                34\n",
       "survey_num                        9\n",
       "gender                            2\n",
       "dob                             274\n",
       "province                          9\n",
       "working                           2\n",
       "job_start_date                  160\n",
       "job_leave_date                  851\n",
       "company_size                      2\n",
       "monthly_pay                      11\n",
       "volunteer                         2\n",
       "leadershiprole                    2\n",
       "peoplelive                       21\n",
       "peoplelive_15plus                17\n",
       "numchildren                       6\n",
       "numearnincome                    16\n",
       "anygrant                          2\n",
       "anyhhincome                       2\n",
       "financial_situation_now          10\n",
       "financial_situation_5years       10\n",
       "givemoney_yes                     2\n",
       "dtype: int64"
      ]
     },
     "execution_count": 5,
     "metadata": {},
     "output_type": "execute_result"
    }
   ],
   "source": [
    "data.apply('nunique')"
   ]
  },
  {
   "cell_type": "code",
   "execution_count": 6,
   "metadata": {},
   "outputs": [
    {
     "data": {
      "text/html": [
       "<div>\n",
       "<style scoped>\n",
       "    .dataframe tbody tr th:only-of-type {\n",
       "        vertical-align: middle;\n",
       "    }\n",
       "\n",
       "    .dataframe tbody tr th {\n",
       "        vertical-align: top;\n",
       "    }\n",
       "\n",
       "    .dataframe thead th {\n",
       "        text-align: right;\n",
       "    }\n",
       "</style>\n",
       "<table border=\"1\" class=\"dataframe\">\n",
       "  <thead>\n",
       "    <tr style=\"text-align: right;\">\n",
       "      <th></th>\n",
       "      <th>Unnamed: 0</th>\n",
       "      <th>unid</th>\n",
       "      <th>survey_date_month</th>\n",
       "      <th>survey_num</th>\n",
       "      <th>gender</th>\n",
       "      <th>working</th>\n",
       "      <th>company_size</th>\n",
       "      <th>monthly_pay</th>\n",
       "      <th>volunteer</th>\n",
       "      <th>numearnincome</th>\n",
       "      <th>financial_situation_now</th>\n",
       "    </tr>\n",
       "  </thead>\n",
       "  <tbody>\n",
       "    <tr>\n",
       "      <th>0</th>\n",
       "      <td>1</td>\n",
       "      <td>41964</td>\n",
       "      <td>01/06/2018</td>\n",
       "      <td>1</td>\n",
       "      <td>Female</td>\n",
       "      <td>True</td>\n",
       "      <td>More than 200 employees</td>\n",
       "      <td>Between R2001 and 3000</td>\n",
       "      <td>NaN</td>\n",
       "      <td>NaN</td>\n",
       "      <td>NaN</td>\n",
       "    </tr>\n",
       "    <tr>\n",
       "      <th>1</th>\n",
       "      <td>2</td>\n",
       "      <td>41964</td>\n",
       "      <td>01/11/2018</td>\n",
       "      <td>2</td>\n",
       "      <td>Female</td>\n",
       "      <td>True</td>\n",
       "      <td>NaN</td>\n",
       "      <td>NaN</td>\n",
       "      <td>NaN</td>\n",
       "      <td>NaN</td>\n",
       "      <td>NaN</td>\n",
       "    </tr>\n",
       "    <tr>\n",
       "      <th>2</th>\n",
       "      <td>3</td>\n",
       "      <td>15241</td>\n",
       "      <td>01/03/2016</td>\n",
       "      <td>1</td>\n",
       "      <td>Female</td>\n",
       "      <td>True</td>\n",
       "      <td>NaN</td>\n",
       "      <td>NaN</td>\n",
       "      <td>No</td>\n",
       "      <td>1</td>\n",
       "      <td>2</td>\n",
       "    </tr>\n",
       "    <tr>\n",
       "      <th>3</th>\n",
       "      <td>4</td>\n",
       "      <td>33702</td>\n",
       "      <td>01/04/2016</td>\n",
       "      <td>1</td>\n",
       "      <td>Male</td>\n",
       "      <td>True</td>\n",
       "      <td>NaN</td>\n",
       "      <td>NaN</td>\n",
       "      <td>Yes</td>\n",
       "      <td>1</td>\n",
       "      <td>1 (Worst possible financial situation)</td>\n",
       "    </tr>\n",
       "    <tr>\n",
       "      <th>4</th>\n",
       "      <td>5</td>\n",
       "      <td>33702</td>\n",
       "      <td>01/08/2016</td>\n",
       "      <td>2</td>\n",
       "      <td>Male</td>\n",
       "      <td>False</td>\n",
       "      <td>NaN</td>\n",
       "      <td>NaN</td>\n",
       "      <td>Yes</td>\n",
       "      <td>1</td>\n",
       "      <td>1 (Worst possible financial situation)</td>\n",
       "    </tr>\n",
       "  </tbody>\n",
       "</table>\n",
       "</div>"
      ],
      "text/plain": [
       "   Unnamed: 0   unid survey_date_month  survey_num  gender  working  \\\n",
       "0           1  41964        01/06/2018           1  Female     True   \n",
       "1           2  41964        01/11/2018           2  Female     True   \n",
       "2           3  15241        01/03/2016           1  Female     True   \n",
       "3           4  33702        01/04/2016           1    Male     True   \n",
       "4           5  33702        01/08/2016           2    Male    False   \n",
       "\n",
       "              company_size             monthly_pay volunteer numearnincome  \\\n",
       "0  More than 200 employees  Between R2001 and 3000       NaN           NaN   \n",
       "1                      NaN                     NaN       NaN           NaN   \n",
       "2                      NaN                     NaN        No             1   \n",
       "3                      NaN                     NaN       Yes             1   \n",
       "4                      NaN                     NaN       Yes             1   \n",
       "\n",
       "                  financial_situation_now  \n",
       "0                                     NaN  \n",
       "1                                     NaN  \n",
       "2                                       2  \n",
       "3  1 (Worst possible financial situation)  \n",
       "4  1 (Worst possible financial situation)  "
      ]
     },
     "execution_count": 6,
     "metadata": {},
     "output_type": "execute_result"
    }
   ],
   "source": [
    "columns_to_drop = [\"job_start_date\",\"job_leave_date\",\"leadershiprole\",\"peoplelive\"\n",
    "                   ,\"peoplelive_15plus\",\"numchildren\",\"anygrant\",\"anyhhincome\"\n",
    "                   ,\"financial_situation_5years\"\n",
    "                   ,\"givemoney_yes\",\"province\",\"dob\"]\n",
    "data = data.drop(columns_to_drop, axis=1)\n",
    "data.head()\n",
    "#i didnt think that those rows were relevant to our question but if we want to keep some then cool."
   ]
  },
  {
   "cell_type": "code",
   "execution_count": 7,
   "metadata": {},
   "outputs": [
    {
     "data": {
      "text/html": [
       "<div>\n",
       "<style scoped>\n",
       "    .dataframe tbody tr th:only-of-type {\n",
       "        vertical-align: middle;\n",
       "    }\n",
       "\n",
       "    .dataframe tbody tr th {\n",
       "        vertical-align: top;\n",
       "    }\n",
       "\n",
       "    .dataframe thead th {\n",
       "        text-align: right;\n",
       "    }\n",
       "</style>\n",
       "<table border=\"1\" class=\"dataframe\">\n",
       "  <thead>\n",
       "    <tr style=\"text-align: right;\">\n",
       "      <th></th>\n",
       "      <th>Unnamed: 0</th>\n",
       "      <th>unid</th>\n",
       "      <th>survey_date_month</th>\n",
       "      <th>survey_num</th>\n",
       "      <th>gender</th>\n",
       "      <th>working</th>\n",
       "      <th>company_size</th>\n",
       "      <th>monthly_pay</th>\n",
       "      <th>volunteer</th>\n",
       "      <th>numearnincome</th>\n",
       "      <th>financial_situation_now</th>\n",
       "    </tr>\n",
       "  </thead>\n",
       "  <tbody>\n",
       "    <tr>\n",
       "      <th>0</th>\n",
       "      <td>1</td>\n",
       "      <td>41964</td>\n",
       "      <td>01/06/2018</td>\n",
       "      <td>1</td>\n",
       "      <td>Female</td>\n",
       "      <td>True</td>\n",
       "      <td>More than 200 employees</td>\n",
       "      <td>Between R2001 and 3000</td>\n",
       "      <td>NaN</td>\n",
       "      <td>NaN</td>\n",
       "      <td>NaN</td>\n",
       "    </tr>\n",
       "    <tr>\n",
       "      <th>1</th>\n",
       "      <td>2</td>\n",
       "      <td>41964</td>\n",
       "      <td>01/11/2018</td>\n",
       "      <td>2</td>\n",
       "      <td>Female</td>\n",
       "      <td>True</td>\n",
       "      <td>NaN</td>\n",
       "      <td>NaN</td>\n",
       "      <td>NaN</td>\n",
       "      <td>NaN</td>\n",
       "      <td>NaN</td>\n",
       "    </tr>\n",
       "    <tr>\n",
       "      <th>2</th>\n",
       "      <td>3</td>\n",
       "      <td>15241</td>\n",
       "      <td>01/03/2016</td>\n",
       "      <td>1</td>\n",
       "      <td>Female</td>\n",
       "      <td>True</td>\n",
       "      <td>NaN</td>\n",
       "      <td>NaN</td>\n",
       "      <td>No</td>\n",
       "      <td>1</td>\n",
       "      <td>2</td>\n",
       "    </tr>\n",
       "    <tr>\n",
       "      <th>3</th>\n",
       "      <td>4</td>\n",
       "      <td>33702</td>\n",
       "      <td>01/04/2016</td>\n",
       "      <td>1</td>\n",
       "      <td>Male</td>\n",
       "      <td>True</td>\n",
       "      <td>NaN</td>\n",
       "      <td>NaN</td>\n",
       "      <td>Yes</td>\n",
       "      <td>1</td>\n",
       "      <td>1 (Worst possible financial situation)</td>\n",
       "    </tr>\n",
       "    <tr>\n",
       "      <th>4</th>\n",
       "      <td>5</td>\n",
       "      <td>33702</td>\n",
       "      <td>01/08/2016</td>\n",
       "      <td>2</td>\n",
       "      <td>Male</td>\n",
       "      <td>False</td>\n",
       "      <td>NaN</td>\n",
       "      <td>NaN</td>\n",
       "      <td>Yes</td>\n",
       "      <td>1</td>\n",
       "      <td>1 (Worst possible financial situation)</td>\n",
       "    </tr>\n",
       "  </tbody>\n",
       "</table>\n",
       "</div>"
      ],
      "text/plain": [
       "   Unnamed: 0   unid survey_date_month  survey_num  gender  working  \\\n",
       "0           1  41964        01/06/2018           1  Female     True   \n",
       "1           2  41964        01/11/2018           2  Female     True   \n",
       "2           3  15241        01/03/2016           1  Female     True   \n",
       "3           4  33702        01/04/2016           1    Male     True   \n",
       "4           5  33702        01/08/2016           2    Male    False   \n",
       "\n",
       "              company_size             monthly_pay volunteer numearnincome  \\\n",
       "0  More than 200 employees  Between R2001 and 3000       NaN           NaN   \n",
       "1                      NaN                     NaN       NaN           NaN   \n",
       "2                      NaN                     NaN        No             1   \n",
       "3                      NaN                     NaN       Yes             1   \n",
       "4                      NaN                     NaN       Yes             1   \n",
       "\n",
       "                  financial_situation_now  \n",
       "0                                     NaN  \n",
       "1                                     NaN  \n",
       "2                                       2  \n",
       "3  1 (Worst possible financial situation)  \n",
       "4  1 (Worst possible financial situation)  "
      ]
     },
     "execution_count": 7,
     "metadata": {},
     "output_type": "execute_result"
    }
   ],
   "source": [
    "data.head()"
   ]
  },
  {
   "cell_type": "code",
   "execution_count": 8,
   "metadata": {},
   "outputs": [
    {
     "data": {
      "text/html": [
       "<div>\n",
       "<style scoped>\n",
       "    .dataframe tbody tr th:only-of-type {\n",
       "        vertical-align: middle;\n",
       "    }\n",
       "\n",
       "    .dataframe tbody tr th {\n",
       "        vertical-align: top;\n",
       "    }\n",
       "\n",
       "    .dataframe thead th {\n",
       "        text-align: right;\n",
       "    }\n",
       "</style>\n",
       "<table border=\"1\" class=\"dataframe\">\n",
       "  <thead>\n",
       "    <tr style=\"text-align: right;\">\n",
       "      <th></th>\n",
       "      <th>unid</th>\n",
       "      <th>survey_date_month</th>\n",
       "      <th>survey_num</th>\n",
       "      <th>gender</th>\n",
       "      <th>working</th>\n",
       "      <th>financial_situation_now</th>\n",
       "    </tr>\n",
       "  </thead>\n",
       "  <tbody>\n",
       "    <tr>\n",
       "      <th>0</th>\n",
       "      <td>41964</td>\n",
       "      <td>01/06/2018</td>\n",
       "      <td>1</td>\n",
       "      <td>Female</td>\n",
       "      <td>True</td>\n",
       "      <td>NaN</td>\n",
       "    </tr>\n",
       "    <tr>\n",
       "      <th>1</th>\n",
       "      <td>41964</td>\n",
       "      <td>01/11/2018</td>\n",
       "      <td>2</td>\n",
       "      <td>Female</td>\n",
       "      <td>True</td>\n",
       "      <td>NaN</td>\n",
       "    </tr>\n",
       "    <tr>\n",
       "      <th>2</th>\n",
       "      <td>15241</td>\n",
       "      <td>01/03/2016</td>\n",
       "      <td>1</td>\n",
       "      <td>Female</td>\n",
       "      <td>True</td>\n",
       "      <td>2</td>\n",
       "    </tr>\n",
       "    <tr>\n",
       "      <th>3</th>\n",
       "      <td>33702</td>\n",
       "      <td>01/04/2016</td>\n",
       "      <td>1</td>\n",
       "      <td>Male</td>\n",
       "      <td>True</td>\n",
       "      <td>1 (Worst possible financial situation)</td>\n",
       "    </tr>\n",
       "    <tr>\n",
       "      <th>4</th>\n",
       "      <td>33702</td>\n",
       "      <td>01/08/2016</td>\n",
       "      <td>2</td>\n",
       "      <td>Male</td>\n",
       "      <td>False</td>\n",
       "      <td>1 (Worst possible financial situation)</td>\n",
       "    </tr>\n",
       "  </tbody>\n",
       "</table>\n",
       "</div>"
      ],
      "text/plain": [
       "    unid survey_date_month  survey_num  gender  working  \\\n",
       "0  41964        01/06/2018           1  Female     True   \n",
       "1  41964        01/11/2018           2  Female     True   \n",
       "2  15241        01/03/2016           1  Female     True   \n",
       "3  33702        01/04/2016           1    Male     True   \n",
       "4  33702        01/08/2016           2    Male    False   \n",
       "\n",
       "                  financial_situation_now  \n",
       "0                                     NaN  \n",
       "1                                     NaN  \n",
       "2                                       2  \n",
       "3  1 (Worst possible financial situation)  \n",
       "4  1 (Worst possible financial situation)  "
      ]
     },
     "execution_count": 8,
     "metadata": {},
     "output_type": "execute_result"
    }
   ],
   "source": [
    "columns_2_drop = [\"Unnamed: 0\",\"company_size\",\"monthly_pay\",\"volunteer\",\"numearnincome\"]\n",
    "data = data.drop(columns_2_drop, axis=1)\n",
    "data.head()"
   ]
  },
  {
   "cell_type": "code",
   "execution_count": 9,
   "metadata": {},
   "outputs": [
    {
     "data": {
      "text/plain": [
       "(83270, 6)"
      ]
     },
     "execution_count": 9,
     "metadata": {},
     "output_type": "execute_result"
    }
   ],
   "source": [
    "data.shape"
   ]
  },
  {
   "cell_type": "code",
   "execution_count": 10,
   "metadata": {},
   "outputs": [
    {
     "data": {
      "text/html": [
       "<div>\n",
       "<style scoped>\n",
       "    .dataframe tbody tr th:only-of-type {\n",
       "        vertical-align: middle;\n",
       "    }\n",
       "\n",
       "    .dataframe tbody tr th {\n",
       "        vertical-align: top;\n",
       "    }\n",
       "\n",
       "    .dataframe thead th {\n",
       "        text-align: right;\n",
       "    }\n",
       "</style>\n",
       "<table border=\"1\" class=\"dataframe\">\n",
       "  <thead>\n",
       "    <tr style=\"text-align: right;\">\n",
       "      <th></th>\n",
       "      <th>cft_score</th>\n",
       "    </tr>\n",
       "    <tr>\n",
       "      <th>unid</th>\n",
       "      <th></th>\n",
       "    </tr>\n",
       "  </thead>\n",
       "  <tbody>\n",
       "    <tr>\n",
       "      <th>130</th>\n",
       "      <td>4</td>\n",
       "    </tr>\n",
       "    <tr>\n",
       "      <th>147</th>\n",
       "      <td>6</td>\n",
       "    </tr>\n",
       "    <tr>\n",
       "      <th>156</th>\n",
       "      <td>3</td>\n",
       "    </tr>\n",
       "    <tr>\n",
       "      <th>157</th>\n",
       "      <td>7</td>\n",
       "    </tr>\n",
       "    <tr>\n",
       "      <th>158</th>\n",
       "      <td>4</td>\n",
       "    </tr>\n",
       "    <tr>\n",
       "      <th>...</th>\n",
       "      <td>...</td>\n",
       "    </tr>\n",
       "    <tr>\n",
       "      <th>102486</th>\n",
       "      <td>6</td>\n",
       "    </tr>\n",
       "    <tr>\n",
       "      <th>102503</th>\n",
       "      <td>6</td>\n",
       "    </tr>\n",
       "    <tr>\n",
       "      <th>102504</th>\n",
       "      <td>3</td>\n",
       "    </tr>\n",
       "    <tr>\n",
       "      <th>102505</th>\n",
       "      <td>6</td>\n",
       "    </tr>\n",
       "    <tr>\n",
       "      <th>102516</th>\n",
       "      <td>8</td>\n",
       "    </tr>\n",
       "  </tbody>\n",
       "</table>\n",
       "<p>32880 rows × 1 columns</p>\n",
       "</div>"
      ],
      "text/plain": [
       "        cft_score\n",
       "unid             \n",
       "130             4\n",
       "147             6\n",
       "156             3\n",
       "157             7\n",
       "158             4\n",
       "...           ...\n",
       "102486          6\n",
       "102503          6\n",
       "102504          3\n",
       "102505          6\n",
       "102516          8\n",
       "\n",
       "[32880 rows x 1 columns]"
      ]
     },
     "execution_count": 10,
     "metadata": {},
     "output_type": "execute_result"
    }
   ],
   "source": [
    "cft_max = cft.groupby('unid')['cft_score'].max().to_frame()\n",
    "cft_max"
   ]
  },
  {
   "cell_type": "code",
   "execution_count": 11,
   "metadata": {},
   "outputs": [],
   "source": [
    "data.replace({\"1 (Worst possible financial situation)\": 1, \"2\": 2, \"3\": 3, \"4\": 4, \"5\": 5, \"6\": 6, \"7\": 7,\n",
    "              \"8\": 8, \"9\": 9, \"10 (Best possible financial situation)\": 10, \"nan\": 0\n",
    "             }, inplace=True)"
   ]
  },
  {
   "cell_type": "code",
   "execution_count": 12,
   "metadata": {},
   "outputs": [],
   "source": [
    "data[\"financial_situation_now\"] = data.financial_situation_now.astype(float)"
   ]
  },
  {
   "cell_type": "code",
   "execution_count": 13,
   "metadata": {},
   "outputs": [
    {
     "data": {
      "text/html": [
       "<div>\n",
       "<style scoped>\n",
       "    .dataframe tbody tr th:only-of-type {\n",
       "        vertical-align: middle;\n",
       "    }\n",
       "\n",
       "    .dataframe tbody tr th {\n",
       "        vertical-align: top;\n",
       "    }\n",
       "\n",
       "    .dataframe thead th {\n",
       "        text-align: right;\n",
       "    }\n",
       "</style>\n",
       "<table border=\"1\" class=\"dataframe\">\n",
       "  <thead>\n",
       "    <tr style=\"text-align: right;\">\n",
       "      <th></th>\n",
       "      <th>unid</th>\n",
       "      <th>survey_date_month</th>\n",
       "      <th>survey_num</th>\n",
       "      <th>gender</th>\n",
       "      <th>working</th>\n",
       "      <th>financial_situation_now</th>\n",
       "      <th>cft_score</th>\n",
       "      <th>num_score</th>\n",
       "      <th>com_score</th>\n",
       "      <th>grit_score</th>\n",
       "      <th>opt_score</th>\n",
       "    </tr>\n",
       "  </thead>\n",
       "  <tbody>\n",
       "    <tr>\n",
       "      <th>0</th>\n",
       "      <td>41964</td>\n",
       "      <td>01/06/2018</td>\n",
       "      <td>1</td>\n",
       "      <td>Female</td>\n",
       "      <td>True</td>\n",
       "      <td>NaN</td>\n",
       "      <td>4.0</td>\n",
       "      <td>NaN</td>\n",
       "      <td>4.0</td>\n",
       "      <td>4</td>\n",
       "      <td>NaN</td>\n",
       "    </tr>\n",
       "    <tr>\n",
       "      <th>1</th>\n",
       "      <td>41964</td>\n",
       "      <td>01/06/2018</td>\n",
       "      <td>1</td>\n",
       "      <td>Female</td>\n",
       "      <td>True</td>\n",
       "      <td>NaN</td>\n",
       "      <td>4.0</td>\n",
       "      <td>NaN</td>\n",
       "      <td>4.0</td>\n",
       "      <td>4</td>\n",
       "      <td>NaN</td>\n",
       "    </tr>\n",
       "    <tr>\n",
       "      <th>2</th>\n",
       "      <td>41964</td>\n",
       "      <td>01/06/2018</td>\n",
       "      <td>1</td>\n",
       "      <td>Female</td>\n",
       "      <td>True</td>\n",
       "      <td>NaN</td>\n",
       "      <td>4.0</td>\n",
       "      <td>NaN</td>\n",
       "      <td>4.0</td>\n",
       "      <td>9</td>\n",
       "      <td>NaN</td>\n",
       "    </tr>\n",
       "    <tr>\n",
       "      <th>3</th>\n",
       "      <td>41964</td>\n",
       "      <td>01/06/2018</td>\n",
       "      <td>1</td>\n",
       "      <td>Female</td>\n",
       "      <td>True</td>\n",
       "      <td>NaN</td>\n",
       "      <td>4.0</td>\n",
       "      <td>NaN</td>\n",
       "      <td>4.0</td>\n",
       "      <td>9</td>\n",
       "      <td>NaN</td>\n",
       "    </tr>\n",
       "    <tr>\n",
       "      <th>4</th>\n",
       "      <td>41964</td>\n",
       "      <td>01/06/2018</td>\n",
       "      <td>1</td>\n",
       "      <td>Female</td>\n",
       "      <td>True</td>\n",
       "      <td>NaN</td>\n",
       "      <td>4.0</td>\n",
       "      <td>NaN</td>\n",
       "      <td>4.0</td>\n",
       "      <td>4</td>\n",
       "      <td>NaN</td>\n",
       "    </tr>\n",
       "    <tr>\n",
       "      <th>...</th>\n",
       "      <td>...</td>\n",
       "      <td>...</td>\n",
       "      <td>...</td>\n",
       "      <td>...</td>\n",
       "      <td>...</td>\n",
       "      <td>...</td>\n",
       "      <td>...</td>\n",
       "      <td>...</td>\n",
       "      <td>...</td>\n",
       "      <td>...</td>\n",
       "      <td>...</td>\n",
       "    </tr>\n",
       "    <tr>\n",
       "      <th>27694471</th>\n",
       "      <td>79971</td>\n",
       "      <td>01/08/2017</td>\n",
       "      <td>3</td>\n",
       "      <td>Female</td>\n",
       "      <td>True</td>\n",
       "      <td>9.0</td>\n",
       "      <td>8.0</td>\n",
       "      <td>5.0</td>\n",
       "      <td>6.0</td>\n",
       "      <td>7</td>\n",
       "      <td>3.0</td>\n",
       "    </tr>\n",
       "    <tr>\n",
       "      <th>27694472</th>\n",
       "      <td>79971</td>\n",
       "      <td>01/08/2017</td>\n",
       "      <td>3</td>\n",
       "      <td>Female</td>\n",
       "      <td>True</td>\n",
       "      <td>9.0</td>\n",
       "      <td>8.0</td>\n",
       "      <td>5.0</td>\n",
       "      <td>6.0</td>\n",
       "      <td>7</td>\n",
       "      <td>3.0</td>\n",
       "    </tr>\n",
       "    <tr>\n",
       "      <th>27694473</th>\n",
       "      <td>79971</td>\n",
       "      <td>01/08/2017</td>\n",
       "      <td>3</td>\n",
       "      <td>Female</td>\n",
       "      <td>True</td>\n",
       "      <td>9.0</td>\n",
       "      <td>8.0</td>\n",
       "      <td>5.0</td>\n",
       "      <td>6.0</td>\n",
       "      <td>5</td>\n",
       "      <td>-4.0</td>\n",
       "    </tr>\n",
       "    <tr>\n",
       "      <th>27694474</th>\n",
       "      <td>79971</td>\n",
       "      <td>01/08/2017</td>\n",
       "      <td>3</td>\n",
       "      <td>Female</td>\n",
       "      <td>True</td>\n",
       "      <td>9.0</td>\n",
       "      <td>8.0</td>\n",
       "      <td>5.0</td>\n",
       "      <td>6.0</td>\n",
       "      <td>5</td>\n",
       "      <td>3.0</td>\n",
       "    </tr>\n",
       "    <tr>\n",
       "      <th>27694475</th>\n",
       "      <td>79971</td>\n",
       "      <td>01/08/2017</td>\n",
       "      <td>3</td>\n",
       "      <td>Female</td>\n",
       "      <td>True</td>\n",
       "      <td>9.0</td>\n",
       "      <td>8.0</td>\n",
       "      <td>5.0</td>\n",
       "      <td>6.0</td>\n",
       "      <td>5</td>\n",
       "      <td>3.0</td>\n",
       "    </tr>\n",
       "  </tbody>\n",
       "</table>\n",
       "<p>27694476 rows × 11 columns</p>\n",
       "</div>"
      ],
      "text/plain": [
       "           unid survey_date_month  survey_num  gender  working  \\\n",
       "0         41964        01/06/2018           1  Female     True   \n",
       "1         41964        01/06/2018           1  Female     True   \n",
       "2         41964        01/06/2018           1  Female     True   \n",
       "3         41964        01/06/2018           1  Female     True   \n",
       "4         41964        01/06/2018           1  Female     True   \n",
       "...         ...               ...         ...     ...      ...   \n",
       "27694471  79971        01/08/2017           3  Female     True   \n",
       "27694472  79971        01/08/2017           3  Female     True   \n",
       "27694473  79971        01/08/2017           3  Female     True   \n",
       "27694474  79971        01/08/2017           3  Female     True   \n",
       "27694475  79971        01/08/2017           3  Female     True   \n",
       "\n",
       "          financial_situation_now  cft_score  num_score  com_score  \\\n",
       "0                             NaN        4.0        NaN        4.0   \n",
       "1                             NaN        4.0        NaN        4.0   \n",
       "2                             NaN        4.0        NaN        4.0   \n",
       "3                             NaN        4.0        NaN        4.0   \n",
       "4                             NaN        4.0        NaN        4.0   \n",
       "...                           ...        ...        ...        ...   \n",
       "27694471                      9.0        8.0        5.0        6.0   \n",
       "27694472                      9.0        8.0        5.0        6.0   \n",
       "27694473                      9.0        8.0        5.0        6.0   \n",
       "27694474                      9.0        8.0        5.0        6.0   \n",
       "27694475                      9.0        8.0        5.0        6.0   \n",
       "\n",
       "          grit_score  opt_score  \n",
       "0                  4        NaN  \n",
       "1                  4        NaN  \n",
       "2                  9        NaN  \n",
       "3                  9        NaN  \n",
       "4                  4        NaN  \n",
       "...              ...        ...  \n",
       "27694471           7        3.0  \n",
       "27694472           7        3.0  \n",
       "27694473           5       -4.0  \n",
       "27694474           5        3.0  \n",
       "27694475           5        3.0  \n",
       "\n",
       "[27694476 rows x 11 columns]"
      ]
     },
     "execution_count": 13,
     "metadata": {},
     "output_type": "execute_result"
    }
   ],
   "source": [
    "df = pd.merge(data,cft, how = 'outer', on = 'unid')\n",
    "df = pd.merge(df,num, how = 'outer', on = 'unid')\n",
    "df = pd.merge(df,com, how = 'outer', on = 'unid')\n",
    "df = pd.merge(df,grit, how = 'outer', on = 'unid')\n",
    "df = pd.merge(df,opt, how = 'outer', on = 'unid')\n",
    "df\n",
    "#this way by doing 'outer' i have not dropped any rows but created multiple copies, later i get rid of the unneccesary ones."
   ]
  },
  {
   "cell_type": "code",
   "execution_count": 14,
   "metadata": {},
   "outputs": [
    {
     "data": {
      "text/plain": [
       "(27694476, 11)"
      ]
     },
     "execution_count": 14,
     "metadata": {},
     "output_type": "execute_result"
    }
   ],
   "source": [
    "df.shape"
   ]
  },
  {
   "cell_type": "code",
   "execution_count": 15,
   "metadata": {},
   "outputs": [
    {
     "data": {
      "text/plain": [
       "unid                         int64\n",
       "survey_date_month           object\n",
       "survey_num                   int64\n",
       "gender                      object\n",
       "working                       bool\n",
       "financial_situation_now    float64\n",
       "cft_score                  float64\n",
       "num_score                  float64\n",
       "com_score                  float64\n",
       "grit_score                   int64\n",
       "opt_score                  float64\n",
       "dtype: object"
      ]
     },
     "execution_count": 15,
     "metadata": {},
     "output_type": "execute_result"
    }
   ],
   "source": [
    "df.dtypes"
   ]
  },
  {
   "cell_type": "code",
   "execution_count": 16,
   "metadata": {},
   "outputs": [
    {
     "name": "stdout",
     "output_type": "stream",
     "text": [
      "unid                             0\n",
      "survey_date_month                0\n",
      "survey_num                       0\n",
      "gender                          30\n",
      "working                          0\n",
      "financial_situation_now    7058951\n",
      "cft_score                    82043\n",
      "num_score                  3789959\n",
      "com_score                   690967\n",
      "grit_score                       0\n",
      "opt_score                  7058951\n",
      "dtype: int64\n"
     ]
    }
   ],
   "source": [
    "print(df.isnull().sum())"
   ]
  },
  {
   "cell_type": "code",
   "execution_count": 17,
   "metadata": {},
   "outputs": [
    {
     "name": "stdout",
     "output_type": "stream",
     "text": [
      "(27694476, 11)\n",
      "(27306693, 11)\n"
     ]
    }
   ],
   "source": [
    "print(df.shape)\n",
    "\n",
    "# Rows containing duplicate data\n",
    "duplicate_rows_df = df[df.duplicated()]\n",
    "\n",
    "print(duplicate_rows_df.shape)\n",
    "\n"
   ]
  },
  {
   "cell_type": "code",
   "execution_count": 18,
   "metadata": {},
   "outputs": [],
   "source": [
    "df_new = df.groupby(df['unid']).aggregate({'gender':'first','working':'last'\n",
    "                                          ,'num_score':'max','com_score':'max'\n",
    "                                          ,'cft_score':'max','grit_score':'max'\n",
    "                                          ,'opt_score':'max', 'financial_situation_now': 'last'})"
   ]
  },
  {
   "cell_type": "code",
   "execution_count": 19,
   "metadata": {},
   "outputs": [
    {
     "data": {
      "text/plain": [
       "(51262, 8)"
      ]
     },
     "execution_count": 19,
     "metadata": {},
     "output_type": "execute_result"
    }
   ],
   "source": [
    " df_new.shape"
   ]
  },
  {
   "cell_type": "code",
   "execution_count": 20,
   "metadata": {},
   "outputs": [
    {
     "data": {
      "text/html": [
       "<div>\n",
       "<style scoped>\n",
       "    .dataframe tbody tr th:only-of-type {\n",
       "        vertical-align: middle;\n",
       "    }\n",
       "\n",
       "    .dataframe tbody tr th {\n",
       "        vertical-align: top;\n",
       "    }\n",
       "\n",
       "    .dataframe thead th {\n",
       "        text-align: right;\n",
       "    }\n",
       "</style>\n",
       "<table border=\"1\" class=\"dataframe\">\n",
       "  <thead>\n",
       "    <tr style=\"text-align: right;\">\n",
       "      <th></th>\n",
       "      <th>gender</th>\n",
       "      <th>working</th>\n",
       "      <th>num_score</th>\n",
       "      <th>com_score</th>\n",
       "      <th>cft_score</th>\n",
       "      <th>grit_score</th>\n",
       "      <th>opt_score</th>\n",
       "      <th>financial_situation_now</th>\n",
       "    </tr>\n",
       "    <tr>\n",
       "      <th>unid</th>\n",
       "      <th></th>\n",
       "      <th></th>\n",
       "      <th></th>\n",
       "      <th></th>\n",
       "      <th></th>\n",
       "      <th></th>\n",
       "      <th></th>\n",
       "      <th></th>\n",
       "    </tr>\n",
       "  </thead>\n",
       "  <tbody>\n",
       "    <tr>\n",
       "      <th>2</th>\n",
       "      <td>Female</td>\n",
       "      <td>False</td>\n",
       "      <td>NaN</td>\n",
       "      <td>NaN</td>\n",
       "      <td>NaN</td>\n",
       "      <td>6</td>\n",
       "      <td>NaN</td>\n",
       "      <td>NaN</td>\n",
       "    </tr>\n",
       "    <tr>\n",
       "      <th>3</th>\n",
       "      <td>Male</td>\n",
       "      <td>True</td>\n",
       "      <td>NaN</td>\n",
       "      <td>NaN</td>\n",
       "      <td>NaN</td>\n",
       "      <td>0</td>\n",
       "      <td>NaN</td>\n",
       "      <td>NaN</td>\n",
       "    </tr>\n",
       "    <tr>\n",
       "      <th>6</th>\n",
       "      <td>Female</td>\n",
       "      <td>False</td>\n",
       "      <td>NaN</td>\n",
       "      <td>NaN</td>\n",
       "      <td>NaN</td>\n",
       "      <td>7</td>\n",
       "      <td>NaN</td>\n",
       "      <td>NaN</td>\n",
       "    </tr>\n",
       "    <tr>\n",
       "      <th>7</th>\n",
       "      <td>Female</td>\n",
       "      <td>False</td>\n",
       "      <td>NaN</td>\n",
       "      <td>NaN</td>\n",
       "      <td>NaN</td>\n",
       "      <td>7</td>\n",
       "      <td>NaN</td>\n",
       "      <td>NaN</td>\n",
       "    </tr>\n",
       "    <tr>\n",
       "      <th>14</th>\n",
       "      <td>Female</td>\n",
       "      <td>True</td>\n",
       "      <td>NaN</td>\n",
       "      <td>NaN</td>\n",
       "      <td>NaN</td>\n",
       "      <td>7</td>\n",
       "      <td>3.0</td>\n",
       "      <td>3.0</td>\n",
       "    </tr>\n",
       "    <tr>\n",
       "      <th>17</th>\n",
       "      <td>Female</td>\n",
       "      <td>True</td>\n",
       "      <td>NaN</td>\n",
       "      <td>NaN</td>\n",
       "      <td>NaN</td>\n",
       "      <td>3</td>\n",
       "      <td>NaN</td>\n",
       "      <td>NaN</td>\n",
       "    </tr>\n",
       "    <tr>\n",
       "      <th>18</th>\n",
       "      <td>Male</td>\n",
       "      <td>False</td>\n",
       "      <td>NaN</td>\n",
       "      <td>NaN</td>\n",
       "      <td>NaN</td>\n",
       "      <td>0</td>\n",
       "      <td>NaN</td>\n",
       "      <td>NaN</td>\n",
       "    </tr>\n",
       "    <tr>\n",
       "      <th>25</th>\n",
       "      <td>Female</td>\n",
       "      <td>False</td>\n",
       "      <td>NaN</td>\n",
       "      <td>NaN</td>\n",
       "      <td>NaN</td>\n",
       "      <td>1</td>\n",
       "      <td>NaN</td>\n",
       "      <td>NaN</td>\n",
       "    </tr>\n",
       "    <tr>\n",
       "      <th>26</th>\n",
       "      <td>Female</td>\n",
       "      <td>False</td>\n",
       "      <td>NaN</td>\n",
       "      <td>NaN</td>\n",
       "      <td>NaN</td>\n",
       "      <td>6</td>\n",
       "      <td>NaN</td>\n",
       "      <td>NaN</td>\n",
       "    </tr>\n",
       "    <tr>\n",
       "      <th>27</th>\n",
       "      <td>Female</td>\n",
       "      <td>False</td>\n",
       "      <td>NaN</td>\n",
       "      <td>NaN</td>\n",
       "      <td>NaN</td>\n",
       "      <td>9</td>\n",
       "      <td>NaN</td>\n",
       "      <td>NaN</td>\n",
       "    </tr>\n",
       "    <tr>\n",
       "      <th>32</th>\n",
       "      <td>Female</td>\n",
       "      <td>True</td>\n",
       "      <td>NaN</td>\n",
       "      <td>NaN</td>\n",
       "      <td>NaN</td>\n",
       "      <td>9</td>\n",
       "      <td>NaN</td>\n",
       "      <td>NaN</td>\n",
       "    </tr>\n",
       "    <tr>\n",
       "      <th>33</th>\n",
       "      <td>Female</td>\n",
       "      <td>False</td>\n",
       "      <td>NaN</td>\n",
       "      <td>NaN</td>\n",
       "      <td>NaN</td>\n",
       "      <td>9</td>\n",
       "      <td>NaN</td>\n",
       "      <td>NaN</td>\n",
       "    </tr>\n",
       "    <tr>\n",
       "      <th>36</th>\n",
       "      <td>Female</td>\n",
       "      <td>False</td>\n",
       "      <td>NaN</td>\n",
       "      <td>NaN</td>\n",
       "      <td>NaN</td>\n",
       "      <td>2</td>\n",
       "      <td>NaN</td>\n",
       "      <td>NaN</td>\n",
       "    </tr>\n",
       "    <tr>\n",
       "      <th>40</th>\n",
       "      <td>Female</td>\n",
       "      <td>True</td>\n",
       "      <td>NaN</td>\n",
       "      <td>NaN</td>\n",
       "      <td>NaN</td>\n",
       "      <td>5</td>\n",
       "      <td>NaN</td>\n",
       "      <td>NaN</td>\n",
       "    </tr>\n",
       "    <tr>\n",
       "      <th>43</th>\n",
       "      <td>Female</td>\n",
       "      <td>False</td>\n",
       "      <td>NaN</td>\n",
       "      <td>NaN</td>\n",
       "      <td>NaN</td>\n",
       "      <td>5</td>\n",
       "      <td>NaN</td>\n",
       "      <td>NaN</td>\n",
       "    </tr>\n",
       "  </tbody>\n",
       "</table>\n",
       "</div>"
      ],
      "text/plain": [
       "      gender  working  num_score  com_score  cft_score  grit_score  opt_score  \\\n",
       "unid                                                                            \n",
       "2     Female    False        NaN        NaN        NaN           6        NaN   \n",
       "3       Male     True        NaN        NaN        NaN           0        NaN   \n",
       "6     Female    False        NaN        NaN        NaN           7        NaN   \n",
       "7     Female    False        NaN        NaN        NaN           7        NaN   \n",
       "14    Female     True        NaN        NaN        NaN           7        3.0   \n",
       "17    Female     True        NaN        NaN        NaN           3        NaN   \n",
       "18      Male    False        NaN        NaN        NaN           0        NaN   \n",
       "25    Female    False        NaN        NaN        NaN           1        NaN   \n",
       "26    Female    False        NaN        NaN        NaN           6        NaN   \n",
       "27    Female    False        NaN        NaN        NaN           9        NaN   \n",
       "32    Female     True        NaN        NaN        NaN           9        NaN   \n",
       "33    Female    False        NaN        NaN        NaN           9        NaN   \n",
       "36    Female    False        NaN        NaN        NaN           2        NaN   \n",
       "40    Female     True        NaN        NaN        NaN           5        NaN   \n",
       "43    Female    False        NaN        NaN        NaN           5        NaN   \n",
       "\n",
       "      financial_situation_now  \n",
       "unid                           \n",
       "2                         NaN  \n",
       "3                         NaN  \n",
       "6                         NaN  \n",
       "7                         NaN  \n",
       "14                        3.0  \n",
       "17                        NaN  \n",
       "18                        NaN  \n",
       "25                        NaN  \n",
       "26                        NaN  \n",
       "27                        NaN  \n",
       "32                        NaN  \n",
       "33                        NaN  \n",
       "36                        NaN  \n",
       "40                        NaN  \n",
       "43                        NaN  "
      ]
     },
     "execution_count": 20,
     "metadata": {},
     "output_type": "execute_result"
    }
   ],
   "source": [
    "df_new.head(15)"
   ]
  },
  {
   "cell_type": "code",
   "execution_count": 21,
   "metadata": {},
   "outputs": [
    {
     "data": {
      "text/plain": [
       "(51262, 8)"
      ]
     },
     "execution_count": 21,
     "metadata": {},
     "output_type": "execute_result"
    }
   ],
   "source": [
    "df_new.shape #so we still have all the participants included as the total of unique participants in 51,262. \n"
   ]
  },
  {
   "cell_type": "code",
   "execution_count": null,
   "metadata": {},
   "outputs": [],
   "source": []
  },
  {
   "cell_type": "code",
   "execution_count": 22,
   "metadata": {},
   "outputs": [
    {
     "data": {
      "text/plain": [
       "unid                       51262\n",
       "survey_date_month             34\n",
       "survey_num                     9\n",
       "gender                         2\n",
       "working                        2\n",
       "financial_situation_now       10\n",
       "cft_score                     10\n",
       "num_score                     10\n",
       "com_score                     10\n",
       "grit_score                    10\n",
       "opt_score                     31\n",
       "dtype: int64"
      ]
     },
     "execution_count": 22,
     "metadata": {},
     "output_type": "execute_result"
    }
   ],
   "source": [
    "df.apply('nunique')"
   ]
  },
  {
   "cell_type": "code",
   "execution_count": 23,
   "metadata": {},
   "outputs": [
    {
     "data": {
      "text/html": [
       "<div>\n",
       "<style scoped>\n",
       "    .dataframe tbody tr th:only-of-type {\n",
       "        vertical-align: middle;\n",
       "    }\n",
       "\n",
       "    .dataframe tbody tr th {\n",
       "        vertical-align: top;\n",
       "    }\n",
       "\n",
       "    .dataframe thead th {\n",
       "        text-align: right;\n",
       "    }\n",
       "</style>\n",
       "<table border=\"1\" class=\"dataframe\">\n",
       "  <thead>\n",
       "    <tr style=\"text-align: right;\">\n",
       "      <th></th>\n",
       "      <th>num_score</th>\n",
       "      <th>com_score</th>\n",
       "      <th>cft_score</th>\n",
       "      <th>grit_score</th>\n",
       "      <th>opt_score</th>\n",
       "      <th>financial_situation_now</th>\n",
       "    </tr>\n",
       "  </thead>\n",
       "  <tbody>\n",
       "    <tr>\n",
       "      <th>count</th>\n",
       "      <td>11313.000000</td>\n",
       "      <td>19347.000000</td>\n",
       "      <td>32880.000000</td>\n",
       "      <td>51262.000000</td>\n",
       "      <td>30855.000000</td>\n",
       "      <td>30855.000000</td>\n",
       "    </tr>\n",
       "    <tr>\n",
       "      <th>mean</th>\n",
       "      <td>3.562008</td>\n",
       "      <td>5.561586</td>\n",
       "      <td>5.532360</td>\n",
       "      <td>5.276716</td>\n",
       "      <td>5.901864</td>\n",
       "      <td>2.537709</td>\n",
       "    </tr>\n",
       "    <tr>\n",
       "      <th>std</th>\n",
       "      <td>1.398839</td>\n",
       "      <td>1.419419</td>\n",
       "      <td>1.821947</td>\n",
       "      <td>2.834648</td>\n",
       "      <td>3.159596</td>\n",
       "      <td>1.726277</td>\n",
       "    </tr>\n",
       "    <tr>\n",
       "      <th>min</th>\n",
       "      <td>1.000000</td>\n",
       "      <td>1.000000</td>\n",
       "      <td>1.000000</td>\n",
       "      <td>0.000000</td>\n",
       "      <td>-12.000000</td>\n",
       "      <td>1.000000</td>\n",
       "    </tr>\n",
       "    <tr>\n",
       "      <th>25%</th>\n",
       "      <td>3.000000</td>\n",
       "      <td>5.000000</td>\n",
       "      <td>4.000000</td>\n",
       "      <td>3.000000</td>\n",
       "      <td>4.000000</td>\n",
       "      <td>1.000000</td>\n",
       "    </tr>\n",
       "    <tr>\n",
       "      <th>50%</th>\n",
       "      <td>3.000000</td>\n",
       "      <td>5.000000</td>\n",
       "      <td>6.000000</td>\n",
       "      <td>6.000000</td>\n",
       "      <td>6.000000</td>\n",
       "      <td>2.000000</td>\n",
       "    </tr>\n",
       "    <tr>\n",
       "      <th>75%</th>\n",
       "      <td>4.000000</td>\n",
       "      <td>6.000000</td>\n",
       "      <td>7.000000</td>\n",
       "      <td>8.000000</td>\n",
       "      <td>8.000000</td>\n",
       "      <td>3.000000</td>\n",
       "    </tr>\n",
       "    <tr>\n",
       "      <th>max</th>\n",
       "      <td>10.000000</td>\n",
       "      <td>10.000000</td>\n",
       "      <td>10.000000</td>\n",
       "      <td>9.000000</td>\n",
       "      <td>17.000000</td>\n",
       "      <td>10.000000</td>\n",
       "    </tr>\n",
       "  </tbody>\n",
       "</table>\n",
       "</div>"
      ],
      "text/plain": [
       "          num_score     com_score     cft_score    grit_score     opt_score  \\\n",
       "count  11313.000000  19347.000000  32880.000000  51262.000000  30855.000000   \n",
       "mean       3.562008      5.561586      5.532360      5.276716      5.901864   \n",
       "std        1.398839      1.419419      1.821947      2.834648      3.159596   \n",
       "min        1.000000      1.000000      1.000000      0.000000    -12.000000   \n",
       "25%        3.000000      5.000000      4.000000      3.000000      4.000000   \n",
       "50%        3.000000      5.000000      6.000000      6.000000      6.000000   \n",
       "75%        4.000000      6.000000      7.000000      8.000000      8.000000   \n",
       "max       10.000000     10.000000     10.000000      9.000000     17.000000   \n",
       "\n",
       "       financial_situation_now  \n",
       "count             30855.000000  \n",
       "mean                  2.537709  \n",
       "std                   1.726277  \n",
       "min                   1.000000  \n",
       "25%                   1.000000  \n",
       "50%                   2.000000  \n",
       "75%                   3.000000  \n",
       "max                  10.000000  "
      ]
     },
     "execution_count": 23,
     "metadata": {},
     "output_type": "execute_result"
    }
   ],
   "source": [
    "df_new.describe()"
   ]
  },
  {
   "cell_type": "code",
   "execution_count": 24,
   "metadata": {},
   "outputs": [
    {
     "data": {
      "image/png": "[encoded data removed]",
      "text/plain": [
       "<Figure size 1800x720 with 2 Axes>"
      ]
     },
     "metadata": {
      "needs_background": "light"
     },
     "output_type": "display_data"
    }
   ],
   "source": [
    "import missingno as msno\n",
    "\n",
    "msno.matrix(df_new); #so as we can see, grit is the only thing that everyone seems to have done."
   ]
  },
  {
   "cell_type": "code",
   "execution_count": 25,
   "metadata": {},
   "outputs": [],
   "source": [
    "from ipywidgets import interact, fixed"
   ]
  },
  {
   "cell_type": "code",
   "execution_count": 26,
   "metadata": {},
   "outputs": [],
   "source": [
    "def numerical_variable_distribution(df_new, col):\n",
    "    df_new[col].plot.hist()"
   ]
  },
  {
   "cell_type": "code",
   "execution_count": 27,
   "metadata": {
    "scrolled": true
   },
   "outputs": [
    {
     "data": {
      "application/vnd.jupyter.widget-view+json": {
       "model_id": "828a0a1cebd246f99528148c970a46b0",
       "version_major": 2,
       "version_minor": 0
      },
      "text/plain": [
       "interactive(children=(Dropdown(description='col', options=('num_score', 'com_score', 'cft_score', 'grit_score'…"
      ]
     },
     "metadata": {},
     "output_type": "display_data"
    }
   ],
   "source": [
    "numerical_columns = df_new.select_dtypes(include=[np.number]).columns.tolist()\n",
    "interact(numerical_variable_distribution, \n",
    "         col=numerical_columns, df_new=fixed(df_new));"
   ]
  },
  {
   "cell_type": "code",
   "execution_count": 28,
   "metadata": {},
   "outputs": [
    {
     "data": {
      "image/png": "[encoded data removed]",
      "text/plain": [
       "<Figure size 432x288 with 1 Axes>"
      ]
     },
     "metadata": {
      "needs_background": "light"
     },
     "output_type": "display_data"
    }
   ],
   "source": [
    "plt.plot('grit_score','working', data=df_new)\n",
    "plt.show()\n",
    "#obviously this shows us nothing....but it looks awesome. so i'm gonna leave it here "
   ]
  },
  {
   "cell_type": "code",
   "execution_count": null,
   "metadata": {},
   "outputs": [],
   "source": []
  },
  {
   "cell_type": "code",
   "execution_count": 29,
   "metadata": {},
   "outputs": [
    {
     "data": {
      "text/plain": [
       "gender                      object\n",
       "working                       bool\n",
       "num_score                  float64\n",
       "com_score                  float64\n",
       "cft_score                  float64\n",
       "grit_score                   int64\n",
       "opt_score                  float64\n",
       "financial_situation_now    float64\n",
       "dtype: object"
      ]
     },
     "execution_count": 29,
     "metadata": {},
     "output_type": "execute_result"
    }
   ],
   "source": [
    "df_new.dtypes"
   ]
  },
  {
   "cell_type": "code",
   "execution_count": null,
   "metadata": {},
   "outputs": [],
   "source": []
  },
  {
   "cell_type": "code",
   "execution_count": 30,
   "metadata": {},
   "outputs": [
    {
     "name": "stderr",
     "output_type": "stream",
     "text": [
      "/opt/anaconda3/envs/Ix/lib/python3.8/site-packages/seaborn/_decorators.py:36: FutureWarning: Pass the following variables as keyword args: x, y. From version 0.12, the only valid positional argument will be `data`, and passing other arguments without an explicit keyword will result in an error or misinterpretation.\n",
      "  warnings.warn(\n"
     ]
    },
    {
     "data": {
      "image/png": "[encoded data removed]",
      "text/plain": [
       "<Figure size 432x432 with 3 Axes>"
      ]
     },
     "metadata": {
      "needs_background": "light"
     },
     "output_type": "display_data"
    }
   ],
   "source": [
    "jp = sns.jointplot(\"cft_score\", \"num_score\", data=df_new)"
   ]
  },
  {
   "cell_type": "code",
   "execution_count": 31,
   "metadata": {},
   "outputs": [
    {
     "name": "stderr",
     "output_type": "stream",
     "text": [
      "/opt/anaconda3/envs/Ix/lib/python3.8/site-packages/seaborn/_decorators.py:36: FutureWarning: Pass the following variables as keyword args: x, y. From version 0.12, the only valid positional argument will be `data`, and passing other arguments without an explicit keyword will result in an error or misinterpretation.\n",
      "  warnings.warn(\n"
     ]
    },
    {
     "data": {
      "image/png": "[encoded data removed]",
      "text/plain": [
       "<Figure size 432x432 with 3 Axes>"
      ]
     },
     "metadata": {
      "needs_background": "light"
     },
     "output_type": "display_data"
    }
   ],
   "source": [
    "jp = sns.jointplot(\"opt_score\", \"grit_score\", data=df_new, hue ='working')"
   ]
  },
  {
   "cell_type": "code",
   "execution_count": 32,
   "metadata": {},
   "outputs": [
    {
     "name": "stdout",
     "output_type": "stream",
     "text": [
      "working    False  True \n",
      "cft_score              \n",
      "1.0          309     71\n",
      "2.0          652    214\n",
      "3.0         2835    881\n",
      "4.0         3474   1148\n",
      "5.0         4490   1546\n",
      "6.0         5407   1973\n",
      "7.0         4067   1609\n",
      "8.0         1598    702\n",
      "9.0          980    496\n",
      "10.0         267    161\n"
     ]
    }
   ],
   "source": [
    "ct_cft = pd.crosstab(df_new.cft_score, df_new.working)\n",
    "print(ct_cft)"
   ]
  },
  {
   "cell_type": "code",
   "execution_count": 33,
   "metadata": {},
   "outputs": [
    {
     "name": "stdout",
     "output_type": "stream",
     "text": [
      "working     False  True \n",
      "grit_score              \n",
      "0            2575    761\n",
      "1            2882    762\n",
      "2            2993    857\n",
      "3            3289    971\n",
      "4            3578   1023\n",
      "5            3840   1164\n",
      "6            4245   1293\n",
      "7            4838   1470\n",
      "8            5269   1657\n",
      "9            5900   1895\n"
     ]
    }
   ],
   "source": [
    "ct_grit = pd.crosstab(df_new.grit_score, df_new.working)\n",
    "print(ct_grit)"
   ]
  },
  {
   "cell_type": "code",
   "execution_count": 34,
   "metadata": {},
   "outputs": [
    {
     "name": "stdout",
     "output_type": "stream",
     "text": [
      "working    False  True \n",
      "opt_score              \n",
      "-12.0          1      0\n",
      "-11.0          3      0\n",
      "-10.0          4      2\n",
      "-9.0           3      2\n",
      "-8.0           9      3\n",
      "-7.0           9      2\n",
      "-6.0          14      4\n",
      "-5.0          26      4\n",
      "-4.0          38     15\n",
      "-3.0          79     18\n",
      "-2.0         123     45\n",
      "-1.0         258     73\n",
      " 0.0         478    158\n",
      " 1.0         842    262\n",
      " 2.0        1212    425\n",
      " 3.0        1854    647\n",
      " 4.0        2393    844\n",
      " 5.0        2812   1010\n",
      " 6.0        2867   1088\n",
      " 7.0        2685    931\n",
      " 8.0        2300    797\n",
      " 9.0        1912    651\n",
      " 10.0       1358    485\n",
      " 11.0        879    292\n",
      " 12.0        448    152\n",
      " 13.0        189     55\n",
      " 14.0         54     17\n",
      " 15.0         13      5\n",
      " 16.0          1      2\n",
      " 17.0          2      0\n"
     ]
    }
   ],
   "source": [
    "ct_opt = pd.crosstab(df_new.opt_score, df_new.working)\n",
    "print(ct_opt)"
   ]
  },
  {
   "cell_type": "code",
   "execution_count": 35,
   "metadata": {},
   "outputs": [
    {
     "name": "stdout",
     "output_type": "stream",
     "text": [
      "working  False  True \n",
      "gender               \n",
      "Female   26247   6721\n",
      "Male     13142   5129\n"
     ]
    }
   ],
   "source": [
    "ct_gender = pd.crosstab(df_new.gender, df_new.working)\n",
    "print(ct_gender)"
   ]
  },
  {
   "cell_type": "code",
   "execution_count": 36,
   "metadata": {},
   "outputs": [
    {
     "name": "stdout",
     "output_type": "stream",
     "text": [
      "working    False  True \n",
      "com_score              \n",
      "1.0           26      6\n",
      "2.0          176     60\n",
      "3.0          755    217\n",
      "4.0         1824    625\n",
      "5.0         4833   1784\n",
      "6.0         3187   1164\n",
      "7.0         1927    939\n",
      "8.0          876    460\n",
      "9.0          258    179\n",
      "10.0          35     16\n"
     ]
    }
   ],
   "source": [
    "ct_com = pd.crosstab(df_new.com_score, df_new.working)\n",
    "print(ct_com)"
   ]
  },
  {
   "cell_type": "code",
   "execution_count": 37,
   "metadata": {},
   "outputs": [
    {
     "name": "stdout",
     "output_type": "stream",
     "text": [
      "working    False  True \n",
      "num_score              \n",
      "1.0          427    131\n",
      "2.0         1478    547\n",
      "3.0         2330    888\n",
      "4.0         2085    835\n",
      "5.0         1107    521\n",
      "6.0          434    222\n",
      "7.0          132     89\n",
      "8.0           33     22\n",
      "9.0           12     16\n",
      "10.0           3      1\n"
     ]
    }
   ],
   "source": [
    "ct_num = pd.crosstab(df_new.num_score, df_new.working)\n",
    "print(ct_num)"
   ]
  },
  {
   "cell_type": "code",
   "execution_count": 38,
   "metadata": {},
   "outputs": [
    {
     "data": {
      "text/html": [
       "<div>\n",
       "<style scoped>\n",
       "    .dataframe tbody tr th:only-of-type {\n",
       "        vertical-align: middle;\n",
       "    }\n",
       "\n",
       "    .dataframe tbody tr th {\n",
       "        vertical-align: top;\n",
       "    }\n",
       "\n",
       "    .dataframe thead th {\n",
       "        text-align: right;\n",
       "    }\n",
       "</style>\n",
       "<table border=\"1\" class=\"dataframe\">\n",
       "  <thead>\n",
       "    <tr style=\"text-align: right;\">\n",
       "      <th></th>\n",
       "      <th>working</th>\n",
       "      <th>num_score</th>\n",
       "      <th>com_score</th>\n",
       "      <th>cft_score</th>\n",
       "      <th>grit_score</th>\n",
       "      <th>opt_score</th>\n",
       "      <th>financial_situation_now</th>\n",
       "    </tr>\n",
       "  </thead>\n",
       "  <tbody>\n",
       "    <tr>\n",
       "      <th>working</th>\n",
       "      <td>1.000000</td>\n",
       "      <td>0.064686</td>\n",
       "      <td>0.072402</td>\n",
       "      <td>0.058995</td>\n",
       "      <td>0.018201</td>\n",
       "      <td>0.003700</td>\n",
       "      <td>0.009954</td>\n",
       "    </tr>\n",
       "    <tr>\n",
       "      <th>num_score</th>\n",
       "      <td>0.064686</td>\n",
       "      <td>1.000000</td>\n",
       "      <td>0.332079</td>\n",
       "      <td>0.315806</td>\n",
       "      <td>0.019581</td>\n",
       "      <td>-0.015975</td>\n",
       "      <td>0.010906</td>\n",
       "    </tr>\n",
       "    <tr>\n",
       "      <th>com_score</th>\n",
       "      <td>0.072402</td>\n",
       "      <td>0.332079</td>\n",
       "      <td>1.000000</td>\n",
       "      <td>0.375450</td>\n",
       "      <td>0.002513</td>\n",
       "      <td>0.009281</td>\n",
       "      <td>0.002094</td>\n",
       "    </tr>\n",
       "    <tr>\n",
       "      <th>cft_score</th>\n",
       "      <td>0.058995</td>\n",
       "      <td>0.315806</td>\n",
       "      <td>0.375450</td>\n",
       "      <td>1.000000</td>\n",
       "      <td>0.008652</td>\n",
       "      <td>0.049584</td>\n",
       "      <td>-0.005663</td>\n",
       "    </tr>\n",
       "    <tr>\n",
       "      <th>grit_score</th>\n",
       "      <td>0.018201</td>\n",
       "      <td>0.019581</td>\n",
       "      <td>0.002513</td>\n",
       "      <td>0.008652</td>\n",
       "      <td>1.000000</td>\n",
       "      <td>0.083817</td>\n",
       "      <td>-0.007540</td>\n",
       "    </tr>\n",
       "    <tr>\n",
       "      <th>opt_score</th>\n",
       "      <td>0.003700</td>\n",
       "      <td>-0.015975</td>\n",
       "      <td>0.009281</td>\n",
       "      <td>0.049584</td>\n",
       "      <td>0.083817</td>\n",
       "      <td>1.000000</td>\n",
       "      <td>-0.438170</td>\n",
       "    </tr>\n",
       "    <tr>\n",
       "      <th>financial_situation_now</th>\n",
       "      <td>0.009954</td>\n",
       "      <td>0.010906</td>\n",
       "      <td>0.002094</td>\n",
       "      <td>-0.005663</td>\n",
       "      <td>-0.007540</td>\n",
       "      <td>-0.438170</td>\n",
       "      <td>1.000000</td>\n",
       "    </tr>\n",
       "  </tbody>\n",
       "</table>\n",
       "</div>"
      ],
      "text/plain": [
       "                          working  num_score  com_score  cft_score  \\\n",
       "working                  1.000000   0.064686   0.072402   0.058995   \n",
       "num_score                0.064686   1.000000   0.332079   0.315806   \n",
       "com_score                0.072402   0.332079   1.000000   0.375450   \n",
       "cft_score                0.058995   0.315806   0.375450   1.000000   \n",
       "grit_score               0.018201   0.019581   0.002513   0.008652   \n",
       "opt_score                0.003700  -0.015975   0.009281   0.049584   \n",
       "financial_situation_now  0.009954   0.010906   0.002094  -0.005663   \n",
       "\n",
       "                         grit_score  opt_score  financial_situation_now  \n",
       "working                    0.018201   0.003700                 0.009954  \n",
       "num_score                  0.019581  -0.015975                 0.010906  \n",
       "com_score                  0.002513   0.009281                 0.002094  \n",
       "cft_score                  0.008652   0.049584                -0.005663  \n",
       "grit_score                 1.000000   0.083817                -0.007540  \n",
       "opt_score                  0.083817   1.000000                -0.438170  \n",
       "financial_situation_now   -0.007540  -0.438170                 1.000000  "
      ]
     },
     "execution_count": 38,
     "metadata": {},
     "output_type": "execute_result"
    }
   ],
   "source": [
    "df_new.corr()"
   ]
  },
  {
   "cell_type": "code",
   "execution_count": 39,
   "metadata": {},
   "outputs": [
    {
     "data": {
      "text/plain": [
       "gender                      object\n",
       "working                       bool\n",
       "num_score                  float64\n",
       "com_score                  float64\n",
       "cft_score                  float64\n",
       "grit_score                   int64\n",
       "opt_score                  float64\n",
       "financial_situation_now    float64\n",
       "dtype: object"
      ]
     },
     "execution_count": 39,
     "metadata": {},
     "output_type": "execute_result"
    }
   ],
   "source": [
    "df_new.dtypes"
   ]
  },
  {
   "cell_type": "code",
   "execution_count": 40,
   "metadata": {
    "scrolled": true
   },
   "outputs": [
    {
     "data": {
      "text/plain": [
       "unid\n",
       "2         1.0\n",
       "3         0.0\n",
       "6         1.0\n",
       "7         1.0\n",
       "14        1.0\n",
       "         ... \n",
       "102518    0.0\n",
       "102521    0.0\n",
       "102522    1.0\n",
       "102523    1.0\n",
       "102524    1.0\n",
       "Name: gender, Length: 51262, dtype: float64"
      ]
     },
     "execution_count": 40,
     "metadata": {},
     "output_type": "execute_result"
    }
   ],
   "source": [
    "df_new['gender']=df_new['gender'].replace({'Female':1,'Male':0})\n",
    "df_new['gender']"
   ]
  },
  {
   "cell_type": "code",
   "execution_count": null,
   "metadata": {},
   "outputs": [],
   "source": []
  },
  {
   "cell_type": "code",
   "execution_count": null,
   "metadata": {},
   "outputs": [],
   "source": []
  },
  {
   "cell_type": "code",
   "execution_count": 41,
   "metadata": {},
   "outputs": [
    {
     "data": {
      "text/plain": [
       "gender                     float64\n",
       "working                       bool\n",
       "num_score                  float64\n",
       "com_score                  float64\n",
       "cft_score                  float64\n",
       "grit_score                   int64\n",
       "opt_score                  float64\n",
       "financial_situation_now    float64\n",
       "dtype: object"
      ]
     },
     "execution_count": 41,
     "metadata": {},
     "output_type": "execute_result"
    }
   ],
   "source": [
    "df_new.dtypes"
   ]
  },
  {
   "cell_type": "code",
   "execution_count": 42,
   "metadata": {},
   "outputs": [
    {
     "data": {
      "text/html": [
       "<div>\n",
       "<style scoped>\n",
       "    .dataframe tbody tr th:only-of-type {\n",
       "        vertical-align: middle;\n",
       "    }\n",
       "\n",
       "    .dataframe tbody tr th {\n",
       "        vertical-align: top;\n",
       "    }\n",
       "\n",
       "    .dataframe thead th {\n",
       "        text-align: right;\n",
       "    }\n",
       "</style>\n",
       "<table border=\"1\" class=\"dataframe\">\n",
       "  <thead>\n",
       "    <tr style=\"text-align: right;\">\n",
       "      <th></th>\n",
       "      <th>gender</th>\n",
       "      <th>working</th>\n",
       "      <th>num_score</th>\n",
       "      <th>com_score</th>\n",
       "      <th>cft_score</th>\n",
       "      <th>grit_score</th>\n",
       "      <th>opt_score</th>\n",
       "      <th>financial_situation_now</th>\n",
       "    </tr>\n",
       "  </thead>\n",
       "  <tbody>\n",
       "    <tr>\n",
       "      <th>gender</th>\n",
       "      <td>1.000000</td>\n",
       "      <td>-0.087306</td>\n",
       "      <td>-0.214569</td>\n",
       "      <td>-0.048191</td>\n",
       "      <td>-0.154293</td>\n",
       "      <td>-0.009341</td>\n",
       "      <td>0.026535</td>\n",
       "      <td>0.004162</td>\n",
       "    </tr>\n",
       "    <tr>\n",
       "      <th>working</th>\n",
       "      <td>-0.087306</td>\n",
       "      <td>1.000000</td>\n",
       "      <td>0.064686</td>\n",
       "      <td>0.072402</td>\n",
       "      <td>0.058995</td>\n",
       "      <td>0.018201</td>\n",
       "      <td>0.003700</td>\n",
       "      <td>0.009954</td>\n",
       "    </tr>\n",
       "    <tr>\n",
       "      <th>num_score</th>\n",
       "      <td>-0.214569</td>\n",
       "      <td>0.064686</td>\n",
       "      <td>1.000000</td>\n",
       "      <td>0.332079</td>\n",
       "      <td>0.315806</td>\n",
       "      <td>0.019581</td>\n",
       "      <td>-0.015975</td>\n",
       "      <td>0.010906</td>\n",
       "    </tr>\n",
       "    <tr>\n",
       "      <th>com_score</th>\n",
       "      <td>-0.048191</td>\n",
       "      <td>0.072402</td>\n",
       "      <td>0.332079</td>\n",
       "      <td>1.000000</td>\n",
       "      <td>0.375450</td>\n",
       "      <td>0.002513</td>\n",
       "      <td>0.009281</td>\n",
       "      <td>0.002094</td>\n",
       "    </tr>\n",
       "    <tr>\n",
       "      <th>cft_score</th>\n",
       "      <td>-0.154293</td>\n",
       "      <td>0.058995</td>\n",
       "      <td>0.315806</td>\n",
       "      <td>0.375450</td>\n",
       "      <td>1.000000</td>\n",
       "      <td>0.008652</td>\n",
       "      <td>0.049584</td>\n",
       "      <td>-0.005663</td>\n",
       "    </tr>\n",
       "    <tr>\n",
       "      <th>grit_score</th>\n",
       "      <td>-0.009341</td>\n",
       "      <td>0.018201</td>\n",
       "      <td>0.019581</td>\n",
       "      <td>0.002513</td>\n",
       "      <td>0.008652</td>\n",
       "      <td>1.000000</td>\n",
       "      <td>0.083817</td>\n",
       "      <td>-0.007540</td>\n",
       "    </tr>\n",
       "    <tr>\n",
       "      <th>opt_score</th>\n",
       "      <td>0.026535</td>\n",
       "      <td>0.003700</td>\n",
       "      <td>-0.015975</td>\n",
       "      <td>0.009281</td>\n",
       "      <td>0.049584</td>\n",
       "      <td>0.083817</td>\n",
       "      <td>1.000000</td>\n",
       "      <td>-0.438170</td>\n",
       "    </tr>\n",
       "    <tr>\n",
       "      <th>financial_situation_now</th>\n",
       "      <td>0.004162</td>\n",
       "      <td>0.009954</td>\n",
       "      <td>0.010906</td>\n",
       "      <td>0.002094</td>\n",
       "      <td>-0.005663</td>\n",
       "      <td>-0.007540</td>\n",
       "      <td>-0.438170</td>\n",
       "      <td>1.000000</td>\n",
       "    </tr>\n",
       "  </tbody>\n",
       "</table>\n",
       "</div>"
      ],
      "text/plain": [
       "                           gender   working  num_score  com_score  cft_score  \\\n",
       "gender                   1.000000 -0.087306  -0.214569  -0.048191  -0.154293   \n",
       "working                 -0.087306  1.000000   0.064686   0.072402   0.058995   \n",
       "num_score               -0.214569  0.064686   1.000000   0.332079   0.315806   \n",
       "com_score               -0.048191  0.072402   0.332079   1.000000   0.375450   \n",
       "cft_score               -0.154293  0.058995   0.315806   0.375450   1.000000   \n",
       "grit_score              -0.009341  0.018201   0.019581   0.002513   0.008652   \n",
       "opt_score                0.026535  0.003700  -0.015975   0.009281   0.049584   \n",
       "financial_situation_now  0.004162  0.009954   0.010906   0.002094  -0.005663   \n",
       "\n",
       "                         grit_score  opt_score  financial_situation_now  \n",
       "gender                    -0.009341   0.026535                 0.004162  \n",
       "working                    0.018201   0.003700                 0.009954  \n",
       "num_score                  0.019581  -0.015975                 0.010906  \n",
       "com_score                  0.002513   0.009281                 0.002094  \n",
       "cft_score                  0.008652   0.049584                -0.005663  \n",
       "grit_score                 1.000000   0.083817                -0.007540  \n",
       "opt_score                  0.083817   1.000000                -0.438170  \n",
       "financial_situation_now   -0.007540  -0.438170                 1.000000  "
      ]
     },
     "execution_count": 42,
     "metadata": {},
     "output_type": "execute_result"
    }
   ],
   "source": [
    "df_new.corr()"
   ]
  },
  {
   "cell_type": "code",
   "execution_count": null,
   "metadata": {},
   "outputs": [],
   "source": []
  },
  {
   "cell_type": "code",
   "execution_count": null,
   "metadata": {},
   "outputs": [],
   "source": []
  },
  {
   "cell_type": "code",
   "execution_count": null,
   "metadata": {},
   "outputs": [],
   "source": []
  },
  {
   "cell_type": "code",
   "execution_count": null,
   "metadata": {},
   "outputs": [],
   "source": []
  },
  {
   "cell_type": "code",
   "execution_count": 43,
   "metadata": {},
   "outputs": [],
   "source": [
    "df_new.dropna(axis=0, inplace = True)"
   ]
  },
  {
   "cell_type": "code",
   "execution_count": 44,
   "metadata": {},
   "outputs": [],
   "source": [
    "from sklearn.linear_model import LinearRegression"
   ]
  },
  {
   "cell_type": "code",
   "execution_count": 45,
   "metadata": {
    "scrolled": true
   },
   "outputs": [],
   "source": [
    "from sklearn.linear_model import LogisticRegression\n",
    "from sklearn.model_selection import train_test_split"
   ]
  },
  {
   "cell_type": "code",
   "execution_count": 46,
   "metadata": {},
   "outputs": [
    {
     "data": {
      "text/plain": [
       "Index(['gender', 'working', 'num_score', 'com_score', 'cft_score',\n",
       "       'grit_score', 'opt_score', 'financial_situation_now'],\n",
       "      dtype='object')"
      ]
     },
     "execution_count": 46,
     "metadata": {},
     "output_type": "execute_result"
    }
   ],
   "source": [
    "df_new.columns"
   ]
  },
  {
   "cell_type": "code",
   "execution_count": 47,
   "metadata": {},
   "outputs": [],
   "source": [
    "X = df_new.drop('working', axis=1)\n",
    "Y = df_new['working']\n",
    "X_tr, X_test, Y_tr, Y_test = train_test_split(X,Y, test_size = 0.2)"
   ]
  },
  {
   "cell_type": "code",
   "execution_count": 48,
   "metadata": {},
   "outputs": [
    {
     "data": {
      "text/plain": [
       "unid\n",
       "71282    False\n",
       "97132    False\n",
       "67218    False\n",
       "73053    False\n",
       "36703    False\n",
       "         ...  \n",
       "29357    False\n",
       "29851     True\n",
       "97835    False\n",
       "9751     False\n",
       "58857    False\n",
       "Name: working, Length: 6574, dtype: bool"
      ]
     },
     "execution_count": 48,
     "metadata": {},
     "output_type": "execute_result"
    }
   ],
   "source": [
    "Y_tr"
   ]
  },
  {
   "cell_type": "code",
   "execution_count": null,
   "metadata": {},
   "outputs": [],
   "source": []
  },
  {
   "cell_type": "code",
   "execution_count": 49,
   "metadata": {},
   "outputs": [
    {
     "data": {
      "text/plain": [
       "array([False, False, False, False, False, False, False, False, False,\n",
       "       False])"
      ]
     },
     "execution_count": 49,
     "metadata": {},
     "output_type": "execute_result"
    }
   ],
   "source": [
    "#Instantiate our logistic regression model\n",
    "logreg = LogisticRegression()\n",
    "\n",
    "#Fit our training data\n",
    "logreg.fit(X_tr, Y_tr)\n",
    "\n",
    "#Predict on our test data\n",
    "predictions = logreg.predict(X_test)\n",
    "\n",
    "predictions[:10]"
   ]
  },
  {
   "cell_type": "code",
   "execution_count": 50,
   "metadata": {},
   "outputs": [
    {
     "name": "stdout",
     "output_type": "stream",
     "text": [
      "Accuracy:  0.7037712895377128\n"
     ]
    }
   ],
   "source": [
    "print(\"Accuracy: \", (predictions == Y_test).mean())"
   ]
  },
  {
   "cell_type": "code",
   "execution_count": 51,
   "metadata": {},
   "outputs": [
    {
     "data": {
      "text/plain": [
       "0.2937454368459479"
      ]
     },
     "execution_count": 51,
     "metadata": {},
     "output_type": "execute_result"
    }
   ],
   "source": [
    "Y.mean()"
   ]
  },
  {
   "cell_type": "code",
   "execution_count": 52,
   "metadata": {},
   "outputs": [],
   "source": [
    "from sklearn.model_selection import cross_val_score"
   ]
  },
  {
   "cell_type": "code",
   "execution_count": 53,
   "metadata": {},
   "outputs": [
    {
     "data": {
      "text/plain": [
       "0.5654211632153112"
      ]
     },
     "execution_count": 53,
     "metadata": {},
     "output_type": "execute_result"
    }
   ],
   "source": [
    "logreg = LogisticRegression()\n",
    "cross_val_score(logreg, X, Y, scoring=\"roc_auc\", \n",
    "                cv=10).mean()"
   ]
  },
  {
   "cell_type": "code",
   "execution_count": 54,
   "metadata": {},
   "outputs": [
    {
     "data": {
      "text/plain": [
       "0.2962287104622871"
      ]
     },
     "execution_count": 54,
     "metadata": {},
     "output_type": "execute_result"
    }
   ],
   "source": [
    "Y_test.mean()"
   ]
  },
  {
   "cell_type": "code",
   "execution_count": 55,
   "metadata": {},
   "outputs": [
    {
     "data": {
      "text/plain": [
       "0.0"
      ]
     },
     "execution_count": 55,
     "metadata": {},
     "output_type": "execute_result"
    }
   ],
   "source": [
    "predictions.mean()"
   ]
  },
  {
   "cell_type": "code",
   "execution_count": 56,
   "metadata": {},
   "outputs": [
    {
     "data": {
      "text/plain": [
       "LogisticRegression()"
      ]
     },
     "execution_count": 56,
     "metadata": {},
     "output_type": "execute_result"
    }
   ],
   "source": [
    "clf = LogisticRegression()\n",
    "clf.fit(X_tr, Y_tr)"
   ]
  },
  {
   "cell_type": "code",
   "execution_count": 57,
   "metadata": {},
   "outputs": [
    {
     "data": {
      "text/plain": [
       "array([False, False, False, False, False, False, False, False, False,\n",
       "       False])"
      ]
     },
     "execution_count": 57,
     "metadata": {},
     "output_type": "execute_result"
    }
   ],
   "source": [
    "predictions = clf.predict(X_test)\n",
    "\n",
    "predictions[:10]"
   ]
  },
  {
   "cell_type": "code",
   "execution_count": 58,
   "metadata": {},
   "outputs": [
    {
     "data": {
      "text/plain": [
       "array([[0.68845792, 0.31154208],\n",
       "       [0.74595464, 0.25404536],\n",
       "       [0.64570781, 0.35429219],\n",
       "       [0.63219694, 0.36780306],\n",
       "       [0.77629146, 0.22370854],\n",
       "       [0.64962943, 0.35037057],\n",
       "       [0.71152615, 0.28847385],\n",
       "       [0.65218049, 0.34781951],\n",
       "       [0.76509588, 0.23490412],\n",
       "       [0.77475621, 0.22524379]])"
      ]
     },
     "execution_count": 58,
     "metadata": {},
     "output_type": "execute_result"
    }
   ],
   "source": [
    "predictions_probabilities = clf.predict_proba(X_test)\n",
    "predictions_probabilities[:10]"
   ]
  },
  {
   "cell_type": "code",
   "execution_count": 59,
   "metadata": {},
   "outputs": [
    {
     "name": "stderr",
     "output_type": "stream",
     "text": [
      "/opt/anaconda3/envs/Ix/lib/python3.8/site-packages/seaborn/distributions.py:2557: FutureWarning: `distplot` is a deprecated function and will be removed in a future version. Please adapt your code to use either `displot` (a figure-level function with similar flexibility) or `histplot` (an axes-level function for histograms).\n",
      "  warnings.warn(msg, FutureWarning)\n"
     ]
    },
    {
     "data": {
      "text/plain": [
       "<matplotlib.axes._subplots.AxesSubplot at 0x134e5be20>"
      ]
     },
     "execution_count": 59,
     "metadata": {},
     "output_type": "execute_result"
    },
    {
     "data": {
      "image/png": "[encoded data removed]",
      "text/plain": [
       "<Figure size 432x288 with 1 Axes>"
      ]
     },
     "metadata": {
      "needs_background": "light"
     },
     "output_type": "display_data"
    }
   ],
   "source": [
    "sns.distplot(predictions_probabilities[:,0], bins= 10, kde = False, label = 'Prob0', axlabel = 'Prob0')\n",
    "sns.distplot(predictions_probabilities[:,1], bins = 10, kde = False, label = 'Prob1', axlabel = 'Prob1')"
   ]
  },
  {
   "cell_type": "code",
   "execution_count": 60,
   "metadata": {},
   "outputs": [
    {
     "data": {
      "text/html": [
       "<div>\n",
       "<style scoped>\n",
       "    .dataframe tbody tr th:only-of-type {\n",
       "        vertical-align: middle;\n",
       "    }\n",
       "\n",
       "    .dataframe tbody tr th {\n",
       "        vertical-align: top;\n",
       "    }\n",
       "\n",
       "    .dataframe thead th {\n",
       "        text-align: right;\n",
       "    }\n",
       "</style>\n",
       "<table border=\"1\" class=\"dataframe\">\n",
       "  <thead>\n",
       "    <tr style=\"text-align: right;\">\n",
       "      <th></th>\n",
       "      <th>0</th>\n",
       "      <th>1</th>\n",
       "    </tr>\n",
       "  </thead>\n",
       "  <tbody>\n",
       "    <tr>\n",
       "      <th>0</th>\n",
       "      <td>0.69</td>\n",
       "      <td>0.31</td>\n",
       "    </tr>\n",
       "    <tr>\n",
       "      <th>1</th>\n",
       "      <td>0.75</td>\n",
       "      <td>0.25</td>\n",
       "    </tr>\n",
       "    <tr>\n",
       "      <th>2</th>\n",
       "      <td>0.65</td>\n",
       "      <td>0.35</td>\n",
       "    </tr>\n",
       "    <tr>\n",
       "      <th>3</th>\n",
       "      <td>0.63</td>\n",
       "      <td>0.37</td>\n",
       "    </tr>\n",
       "    <tr>\n",
       "      <th>4</th>\n",
       "      <td>0.78</td>\n",
       "      <td>0.22</td>\n",
       "    </tr>\n",
       "  </tbody>\n",
       "</table>\n",
       "</div>"
      ],
      "text/plain": [
       "      0     1\n",
       "0  0.69  0.31\n",
       "1  0.75  0.25\n",
       "2  0.65  0.35\n",
       "3  0.63  0.37\n",
       "4  0.78  0.22"
      ]
     },
     "execution_count": 60,
     "metadata": {},
     "output_type": "execute_result"
    }
   ],
   "source": [
    "probs_df = pd.DataFrame(predictions_probabilities)\n",
    "probs_df = round(probs_df, 2)\n",
    "probs_df.head()"
   ]
  },
  {
   "cell_type": "code",
   "execution_count": 61,
   "metadata": {},
   "outputs": [],
   "source": [
    "results = X_test.reset_index().copy()\n",
    "results[\"target\"] = Y_test.tolist()\n",
    "results[\"prediction\"] = predictions\n",
    "results = pd.concat([results, probs_df], axis=1)\n",
    "results = results[[\"target\", \"prediction\", 0, 1]]"
   ]
  },
  {
   "cell_type": "code",
   "execution_count": 62,
   "metadata": {},
   "outputs": [
    {
     "data": {
      "text/html": [
       "<div>\n",
       "<style scoped>\n",
       "    .dataframe tbody tr th:only-of-type {\n",
       "        vertical-align: middle;\n",
       "    }\n",
       "\n",
       "    .dataframe tbody tr th {\n",
       "        vertical-align: top;\n",
       "    }\n",
       "\n",
       "    .dataframe thead th {\n",
       "        text-align: right;\n",
       "    }\n",
       "</style>\n",
       "<table border=\"1\" class=\"dataframe\">\n",
       "  <thead>\n",
       "    <tr style=\"text-align: right;\">\n",
       "      <th></th>\n",
       "      <th>target</th>\n",
       "      <th>prediction</th>\n",
       "      <th>0</th>\n",
       "      <th>1</th>\n",
       "    </tr>\n",
       "  </thead>\n",
       "  <tbody>\n",
       "    <tr>\n",
       "      <th>0</th>\n",
       "      <td>True</td>\n",
       "      <td>False</td>\n",
       "      <td>0.69</td>\n",
       "      <td>0.31</td>\n",
       "    </tr>\n",
       "    <tr>\n",
       "      <th>1</th>\n",
       "      <td>False</td>\n",
       "      <td>False</td>\n",
       "      <td>0.75</td>\n",
       "      <td>0.25</td>\n",
       "    </tr>\n",
       "    <tr>\n",
       "      <th>2</th>\n",
       "      <td>False</td>\n",
       "      <td>False</td>\n",
       "      <td>0.65</td>\n",
       "      <td>0.35</td>\n",
       "    </tr>\n",
       "    <tr>\n",
       "      <th>3</th>\n",
       "      <td>False</td>\n",
       "      <td>False</td>\n",
       "      <td>0.63</td>\n",
       "      <td>0.37</td>\n",
       "    </tr>\n",
       "    <tr>\n",
       "      <th>4</th>\n",
       "      <td>False</td>\n",
       "      <td>False</td>\n",
       "      <td>0.78</td>\n",
       "      <td>0.22</td>\n",
       "    </tr>\n",
       "  </tbody>\n",
       "</table>\n",
       "</div>"
      ],
      "text/plain": [
       "   target  prediction     0     1\n",
       "0    True       False  0.69  0.31\n",
       "1   False       False  0.75  0.25\n",
       "2   False       False  0.65  0.35\n",
       "3   False       False  0.63  0.37\n",
       "4   False       False  0.78  0.22"
      ]
     },
     "execution_count": 62,
     "metadata": {},
     "output_type": "execute_result"
    }
   ],
   "source": [
    "results.head()"
   ]
  },
  {
   "cell_type": "code",
   "execution_count": 63,
   "metadata": {},
   "outputs": [],
   "source": [
    "#How could we convert our probabilities into predictions with a different threshold, say 0.8?\n",
    "results.prediction[results.iloc[:, 2] > 0.8] = 0\n",
    "results.prediction[results.iloc[:, 2] <= 0.8] = 1"
   ]
  },
  {
   "cell_type": "code",
   "execution_count": 64,
   "metadata": {},
   "outputs": [
    {
     "data": {
      "text/html": [
       "<div>\n",
       "<style scoped>\n",
       "    .dataframe tbody tr th:only-of-type {\n",
       "        vertical-align: middle;\n",
       "    }\n",
       "\n",
       "    .dataframe tbody tr th {\n",
       "        vertical-align: top;\n",
       "    }\n",
       "\n",
       "    .dataframe thead th {\n",
       "        text-align: right;\n",
       "    }\n",
       "</style>\n",
       "<table border=\"1\" class=\"dataframe\">\n",
       "  <thead>\n",
       "    <tr style=\"text-align: right;\">\n",
       "      <th></th>\n",
       "      <th>target</th>\n",
       "      <th>prediction</th>\n",
       "      <th>0</th>\n",
       "      <th>1</th>\n",
       "    </tr>\n",
       "  </thead>\n",
       "  <tbody>\n",
       "    <tr>\n",
       "      <th>0</th>\n",
       "      <td>True</td>\n",
       "      <td>1.0</td>\n",
       "      <td>0.69</td>\n",
       "      <td>0.31</td>\n",
       "    </tr>\n",
       "    <tr>\n",
       "      <th>1</th>\n",
       "      <td>False</td>\n",
       "      <td>1.0</td>\n",
       "      <td>0.75</td>\n",
       "      <td>0.25</td>\n",
       "    </tr>\n",
       "    <tr>\n",
       "      <th>2</th>\n",
       "      <td>False</td>\n",
       "      <td>1.0</td>\n",
       "      <td>0.65</td>\n",
       "      <td>0.35</td>\n",
       "    </tr>\n",
       "    <tr>\n",
       "      <th>3</th>\n",
       "      <td>False</td>\n",
       "      <td>1.0</td>\n",
       "      <td>0.63</td>\n",
       "      <td>0.37</td>\n",
       "    </tr>\n",
       "    <tr>\n",
       "      <th>4</th>\n",
       "      <td>False</td>\n",
       "      <td>1.0</td>\n",
       "      <td>0.78</td>\n",
       "      <td>0.22</td>\n",
       "    </tr>\n",
       "  </tbody>\n",
       "</table>\n",
       "</div>"
      ],
      "text/plain": [
       "   target  prediction     0     1\n",
       "0    True         1.0  0.69  0.31\n",
       "1   False         1.0  0.75  0.25\n",
       "2   False         1.0  0.65  0.35\n",
       "3   False         1.0  0.63  0.37\n",
       "4   False         1.0  0.78  0.22"
      ]
     },
     "execution_count": 64,
     "metadata": {},
     "output_type": "execute_result"
    }
   ],
   "source": [
    "results.head()"
   ]
  },
  {
   "cell_type": "code",
   "execution_count": 65,
   "metadata": {},
   "outputs": [
    {
     "data": {
      "text/html": [
       "<div>\n",
       "<style scoped>\n",
       "    .dataframe tbody tr th:only-of-type {\n",
       "        vertical-align: middle;\n",
       "    }\n",
       "\n",
       "    .dataframe tbody tr th {\n",
       "        vertical-align: top;\n",
       "    }\n",
       "\n",
       "    .dataframe thead th {\n",
       "        text-align: right;\n",
       "    }\n",
       "</style>\n",
       "<table border=\"1\" class=\"dataframe\">\n",
       "  <thead>\n",
       "    <tr style=\"text-align: right;\">\n",
       "      <th>prediction</th>\n",
       "      <th>0.0</th>\n",
       "      <th>1.0</th>\n",
       "    </tr>\n",
       "    <tr>\n",
       "      <th>target</th>\n",
       "      <th></th>\n",
       "      <th></th>\n",
       "    </tr>\n",
       "  </thead>\n",
       "  <tbody>\n",
       "    <tr>\n",
       "      <th>False</th>\n",
       "      <td>29</td>\n",
       "      <td>1128</td>\n",
       "    </tr>\n",
       "    <tr>\n",
       "      <th>True</th>\n",
       "      <td>6</td>\n",
       "      <td>481</td>\n",
       "    </tr>\n",
       "  </tbody>\n",
       "</table>\n",
       "</div>"
      ],
      "text/plain": [
       "prediction  0.0   1.0\n",
       "target               \n",
       "False        29  1128\n",
       "True          6   481"
      ]
     },
     "execution_count": 65,
     "metadata": {},
     "output_type": "execute_result"
    }
   ],
   "source": [
    "pd.crosstab(results.target, results.prediction)"
   ]
  },
  {
   "cell_type": "code",
   "execution_count": 66,
   "metadata": {},
   "outputs": [],
   "source": [
    "from sklearn.metrics import f1_score"
   ]
  },
  {
   "cell_type": "code",
   "execution_count": 67,
   "metadata": {},
   "outputs": [
    {
     "data": {
      "text/plain": [
       "0.7063762472621076"
      ]
     },
     "execution_count": 67,
     "metadata": {},
     "output_type": "execute_result"
    }
   ],
   "source": [
    "clf.score(X,Y)"
   ]
  },
  {
   "cell_type": "code",
   "execution_count": 68,
   "metadata": {},
   "outputs": [],
   "source": [
    "from sklearn.metrics import classification_report, confusion_matrix"
   ]
  },
  {
   "cell_type": "code",
   "execution_count": 69,
   "metadata": {},
   "outputs": [
    {
     "data": {
      "text/plain": [
       "array([[5804,    0],\n",
       "       [2413,    1]])"
      ]
     },
     "execution_count": 69,
     "metadata": {},
     "output_type": "execute_result"
    }
   ],
   "source": [
    "confusion_matrix(Y, clf.predict(X))"
   ]
  },
  {
   "cell_type": "code",
   "execution_count": 70,
   "metadata": {},
   "outputs": [
    {
     "data": {
      "image/png": "[encoded data removed]",
      "text/plain": [
       "<Figure size 576x576 with 1 Axes>"
      ]
     },
     "metadata": {
      "needs_background": "light"
     },
     "output_type": "display_data"
    }
   ],
   "source": [
    "cm = confusion_matrix(Y, clf.predict(X))\n",
    "\n",
    "fig, ax = plt.subplots(figsize=(8, 8))\n",
    "ax.imshow(cm)\n",
    "ax.grid(False)\n",
    "ax.xaxis.set(ticks=(0, 1), ticklabels=('Predicted 0s', 'Predicted 1s'))\n",
    "ax.yaxis.set(ticks=(0, 1), ticklabels=('Actual 0s', 'Actual 1s'))\n",
    "ax.set_ylim(1.5, -0.5)\n",
    "for i in range(2):\n",
    "    for j in range(2):\n",
    "        ax.text(j, i, cm[i, j], ha='center', va='center', color='red')\n",
    "plt.show()"
   ]
  },
  {
   "cell_type": "code",
   "execution_count": 71,
   "metadata": {},
   "outputs": [],
   "source": [
    "import wandb"
   ]
  },
  {
   "cell_type": "code",
   "execution_count": 84,
   "metadata": {},
   "outputs": [
    {
     "data": {
      "text/html": [
       "Finishing last run (ID:1aglntpp) before initializing another..."
      ],
      "text/plain": [
       "<IPython.core.display.HTML object>"
      ]
     },
     "metadata": {},
     "output_type": "display_data"
    },
    {
     "data": {
      "text/html": [
       "<br/>Waiting for W&B process to finish, PID 54423<br/>Program ended successfully."
      ],
      "text/plain": [
       "<IPython.core.display.HTML object>"
      ]
     },
     "metadata": {},
     "output_type": "display_data"
    },
    {
     "data": {
      "text/html": [
       "Find user logs for this run at: <code>/Users/nicllewellenpalmer/Desktop/Data science/Harambee - Data/wandb/offline-run-20210115_121319-1aglntpp/logs/debug.log</code>"
      ],
      "text/plain": [
       "<IPython.core.display.HTML object>"
      ]
     },
     "metadata": {},
     "output_type": "display_data"
    },
    {
     "data": {
      "text/html": [
       "Find internal logs for this run at: <code>/Users/nicllewellenpalmer/Desktop/Data science/Harambee - Data/wandb/offline-run-20210115_121319-1aglntpp/logs/debug-internal.log</code>"
      ],
      "text/plain": [
       "<IPython.core.display.HTML object>"
      ]
     },
     "metadata": {},
     "output_type": "display_data"
    },
    {
     "name": "stderr",
     "output_type": "stream",
     "text": [
      "\u001b[34m\u001b[1mwandb\u001b[0m: You can sync this run to the cloud by running:\n",
      "\u001b[34m\u001b[1mwandb\u001b[0m: \u001b[33mwandb sync /Users/nicllewellenpalmer/Desktop/Data science/Harambee - Data/wandb/offline-run-20210115_121319-1aglntpp\u001b[0m\n"
     ]
    },
    {
     "data": {
      "text/html": [
       "...Successfully finished last run (ID:1aglntpp). Initializing new run:<br/><br/>"
      ],
      "text/plain": [
       "<IPython.core.display.HTML object>"
      ]
     },
     "metadata": {},
     "output_type": "display_data"
    },
    {
     "name": "stderr",
     "output_type": "stream",
     "text": [
      "\u001b[34m\u001b[1mwandb\u001b[0m: Offline run mode, not syncing to the cloud.\n",
      "\u001b[34m\u001b[1mwandb\u001b[0m: W&B syncing is set to `offline` in this directory.  Run `wandb online` to enable cloud syncing.\n"
     ]
    },
    {
     "ename": "AttributeError",
     "evalue": "'NoneType' object has no attribute 'entity'",
     "output_type": "error",
     "traceback": [
      "\u001b[0;31m---------------------------------------------------------------------------\u001b[0m",
      "\u001b[0;31mAttributeError\u001b[0m                            Traceback (most recent call last)",
      "\u001b[0;32m/opt/anaconda3/envs/Ix/lib/python3.8/site-packages/IPython/core/formatters.py\u001b[0m in \u001b[0;36m__call__\u001b[0;34m(self, obj, include, exclude)\u001b[0m\n\u001b[1;32m    968\u001b[0m \u001b[0;34m\u001b[0m\u001b[0m\n\u001b[1;32m    969\u001b[0m             \u001b[0;32mif\u001b[0m \u001b[0mmethod\u001b[0m \u001b[0;32mis\u001b[0m \u001b[0;32mnot\u001b[0m \u001b[0;32mNone\u001b[0m\u001b[0;34m:\u001b[0m\u001b[0;34m\u001b[0m\u001b[0;34m\u001b[0m\u001b[0m\n\u001b[0;32m--> 970\u001b[0;31m                 \u001b[0;32mreturn\u001b[0m \u001b[0mmethod\u001b[0m\u001b[0;34m(\u001b[0m\u001b[0minclude\u001b[0m\u001b[0;34m=\u001b[0m\u001b[0minclude\u001b[0m\u001b[0;34m,\u001b[0m \u001b[0mexclude\u001b[0m\u001b[0;34m=\u001b[0m\u001b[0mexclude\u001b[0m\u001b[0;34m)\u001b[0m\u001b[0;34m\u001b[0m\u001b[0;34m\u001b[0m\u001b[0m\n\u001b[0m\u001b[1;32m    971\u001b[0m             \u001b[0;32mreturn\u001b[0m \u001b[0;32mNone\u001b[0m\u001b[0;34m\u001b[0m\u001b[0;34m\u001b[0m\u001b[0m\n\u001b[1;32m    972\u001b[0m         \u001b[0;32melse\u001b[0m\u001b[0;34m:\u001b[0m\u001b[0;34m\u001b[0m\u001b[0;34m\u001b[0m\u001b[0m\n",
      "\u001b[0;32m/opt/anaconda3/envs/Ix/lib/python3.8/site-packages/wandb/sdk/wandb_run.py\u001b[0m in \u001b[0;36m_repr_mimebundle_\u001b[0;34m(self, include, exclude)\u001b[0m\n\u001b[1;32m    595\u001b[0m \u001b[0;34m\u001b[0m\u001b[0m\n\u001b[1;32m    596\u001b[0m     \u001b[0;32mdef\u001b[0m \u001b[0m_repr_mimebundle_\u001b[0m\u001b[0;34m(\u001b[0m\u001b[0mself\u001b[0m\u001b[0;34m,\u001b[0m \u001b[0minclude\u001b[0m\u001b[0;34m=\u001b[0m\u001b[0;32mNone\u001b[0m\u001b[0;34m,\u001b[0m \u001b[0mexclude\u001b[0m\u001b[0;34m=\u001b[0m\u001b[0;32mNone\u001b[0m\u001b[0;34m)\u001b[0m\u001b[0;34m:\u001b[0m\u001b[0;34m\u001b[0m\u001b[0;34m\u001b[0m\u001b[0m\n\u001b[0;32m--> 597\u001b[0;31m         \u001b[0murl\u001b[0m \u001b[0;34m=\u001b[0m \u001b[0mself\u001b[0m\u001b[0;34m.\u001b[0m\u001b[0m_get_run_url\u001b[0m\u001b[0;34m(\u001b[0m\u001b[0;34m)\u001b[0m\u001b[0;34m\u001b[0m\u001b[0;34m\u001b[0m\u001b[0m\n\u001b[0m\u001b[1;32m    598\u001b[0m         \u001b[0mstyle\u001b[0m \u001b[0;34m=\u001b[0m \u001b[0;34m\"border:none;width:100%;height:400px\"\u001b[0m\u001b[0;34m\u001b[0m\u001b[0;34m\u001b[0m\u001b[0m\n\u001b[1;32m    599\u001b[0m         \u001b[0mnote\u001b[0m \u001b[0;34m=\u001b[0m \u001b[0;34m\"\"\u001b[0m\u001b[0;34m\u001b[0m\u001b[0;34m\u001b[0m\u001b[0m\n",
      "\u001b[0;32m/opt/anaconda3/envs/Ix/lib/python3.8/site-packages/wandb/sdk/wandb_run.py\u001b[0m in \u001b[0;36m_get_run_url\u001b[0;34m(self)\u001b[0m\n\u001b[1;32m   1058\u001b[0m         \u001b[0mqs\u001b[0m \u001b[0;34m=\u001b[0m \u001b[0mself\u001b[0m\u001b[0;34m.\u001b[0m\u001b[0m_get_url_query_string\u001b[0m\u001b[0;34m(\u001b[0m\u001b[0;34m)\u001b[0m\u001b[0;34m\u001b[0m\u001b[0;34m\u001b[0m\u001b[0m\n\u001b[1;32m   1059\u001b[0m         url = \"{}/{}/{}/runs/{}{}\".format(\n\u001b[0;32m-> 1060\u001b[0;31m             \u001b[0mapp_url\u001b[0m\u001b[0;34m,\u001b[0m \u001b[0murl_quote\u001b[0m\u001b[0;34m(\u001b[0m\u001b[0mr\u001b[0m\u001b[0;34m.\u001b[0m\u001b[0mentity\u001b[0m\u001b[0;34m)\u001b[0m\u001b[0;34m,\u001b[0m \u001b[0murl_quote\u001b[0m\u001b[0;34m(\u001b[0m\u001b[0mr\u001b[0m\u001b[0;34m.\u001b[0m\u001b[0mproject\u001b[0m\u001b[0;34m)\u001b[0m\u001b[0;34m,\u001b[0m \u001b[0murl_quote\u001b[0m\u001b[0;34m(\u001b[0m\u001b[0mr\u001b[0m\u001b[0;34m.\u001b[0m\u001b[0mrun_id\u001b[0m\u001b[0;34m)\u001b[0m\u001b[0;34m,\u001b[0m \u001b[0mqs\u001b[0m\u001b[0;34m\u001b[0m\u001b[0;34m\u001b[0m\u001b[0m\n\u001b[0m\u001b[1;32m   1061\u001b[0m         )\n\u001b[1;32m   1062\u001b[0m         \u001b[0;32mreturn\u001b[0m \u001b[0murl\u001b[0m\u001b[0;34m\u001b[0m\u001b[0;34m\u001b[0m\u001b[0m\n",
      "\u001b[0;31mAttributeError\u001b[0m: 'NoneType' object has no attribute 'entity'"
     ]
    },
    {
     "data": {
      "text/plain": [
       "<wandb.sdk.wandb_run.Run at 0x12a9ad1c0>"
      ]
     },
     "execution_count": 84,
     "metadata": {},
     "output_type": "execute_result"
    }
   ],
   "source": [
    "wandb.init()"
   ]
  },
  {
   "cell_type": "code",
   "execution_count": 85,
   "metadata": {},
   "outputs": [
    {
     "ename": "IndexError",
     "evalue": "index 5 is out of bounds for axis 0 with size 3",
     "output_type": "error",
     "traceback": [
      "\u001b[0;31m---------------------------------------------------------------------------\u001b[0m",
      "\u001b[0;31mIndexError\u001b[0m                                Traceback (most recent call last)",
      "\u001b[0;32m<ipython-input-85-6fc57a28fc90>\u001b[0m in \u001b[0;36m<module>\u001b[0;34m\u001b[0m\n\u001b[1;32m      1\u001b[0m \u001b[0;31m# Plot feature importances\u001b[0m\u001b[0;34m\u001b[0m\u001b[0;34m\u001b[0m\u001b[0;34m\u001b[0m\u001b[0m\n\u001b[0;32m----> 2\u001b[0;31m \u001b[0mwandb\u001b[0m\u001b[0;34m.\u001b[0m\u001b[0msklearn\u001b[0m\u001b[0;34m.\u001b[0m\u001b[0mplot_feature_importances\u001b[0m\u001b[0;34m(\u001b[0m\u001b[0mclf\u001b[0m\u001b[0;34m,\u001b[0m \u001b[0;34m[\u001b[0m\u001b[0;34m'width'\u001b[0m\u001b[0;34m,\u001b[0m \u001b[0;34m'height'\u001b[0m\u001b[0;34m,\u001b[0m\u001b[0;34m'length'\u001b[0m\u001b[0;34m]\u001b[0m\u001b[0;34m)\u001b[0m\u001b[0;34m\u001b[0m\u001b[0;34m\u001b[0m\u001b[0m\n\u001b[0m",
      "\u001b[0;32m/opt/anaconda3/envs/Ix/lib/python3.8/site-packages/wandb/sklearn/__init__.py\u001b[0m in \u001b[0;36mplot_feature_importances\u001b[0;34m(model, feature_names, title, max_num_features)\u001b[0m\n\u001b[1;32m    638\u001b[0m             \u001b[0mfeature_names\u001b[0m \u001b[0;34m=\u001b[0m \u001b[0mindices\u001b[0m\u001b[0;34m\u001b[0m\u001b[0;34m\u001b[0m\u001b[0m\n\u001b[1;32m    639\u001b[0m         \u001b[0;32melse\u001b[0m\u001b[0;34m:\u001b[0m\u001b[0;34m\u001b[0m\u001b[0;34m\u001b[0m\u001b[0m\n\u001b[0;32m--> 640\u001b[0;31m             \u001b[0mfeature_names\u001b[0m \u001b[0;34m=\u001b[0m \u001b[0mnp\u001b[0m\u001b[0;34m.\u001b[0m\u001b[0marray\u001b[0m\u001b[0;34m(\u001b[0m\u001b[0mfeature_names\u001b[0m\u001b[0;34m)\u001b[0m\u001b[0;34m[\u001b[0m\u001b[0mindices\u001b[0m\u001b[0;34m]\u001b[0m\u001b[0;34m\u001b[0m\u001b[0;34m\u001b[0m\u001b[0m\n\u001b[0m\u001b[1;32m    641\u001b[0m \u001b[0;34m\u001b[0m\u001b[0m\n\u001b[1;32m    642\u001b[0m         \u001b[0mmax_num_features\u001b[0m \u001b[0;34m=\u001b[0m \u001b[0mmin\u001b[0m\u001b[0;34m(\u001b[0m\u001b[0mmax_num_features\u001b[0m\u001b[0;34m,\u001b[0m \u001b[0mlen\u001b[0m\u001b[0;34m(\u001b[0m\u001b[0mimportances\u001b[0m\u001b[0;34m)\u001b[0m\u001b[0;34m)\u001b[0m\u001b[0;34m\u001b[0m\u001b[0;34m\u001b[0m\u001b[0m\n",
      "\u001b[0;31mIndexError\u001b[0m: index 5 is out of bounds for axis 0 with size 3"
     ]
    }
   ],
   "source": [
    "# Plot feature importances\n",
    "wandb.sklearn.plot_feature_importances(clf, ['width', 'height','length'])"
   ]
  },
  {
   "cell_type": "code",
   "execution_count": 87,
   "metadata": {},
   "outputs": [],
   "source": [
    "# Plot ROC curve\n",
    "wandb.sklearn.plot_roc(Y_test, probs_df, 'working')\n"
   ]
  },
  {
   "cell_type": "code",
   "execution_count": null,
   "metadata": {},
   "outputs": [],
   "source": []
  },
  {
   "cell_type": "code",
   "execution_count": null,
   "metadata": {},
   "outputs": [],
   "source": [
    "f1_score(y_true=results.target, y_pred=results.prediction)"
   ]
  },
  {
   "cell_type": "code",
   "execution_count": null,
   "metadata": {},
   "outputs": [],
   "source": [
    "# Cycle through different cut off values and get the best f1 score\n",
    "cut_off_vals = [0.1, 0.2, 0.3, 0.5, 0.7]\n",
    "for cut_off in cut_off_vals:\n",
    "    # Calculate the predictions at different cut_off values\n",
    "    results.prediction[results.iloc[:, 2] > cut_off] = 0\n",
    "    results.prediction[results.iloc[:, 2] <= (1 - cut_off)] = 1\n",
    "    # Save the new dataframe\n",
    "    results2 = results[[\"target\", \"prediction\", 0, 1]]\n",
    "    # Get the f1 score and print the results\n",
    "    f1 = f1_score(results2.target, results2.prediction)\n",
    "    print(f\"Cut off: {cut_off}, f1-score: {f1}\")"
   ]
  },
  {
   "cell_type": "code",
   "execution_count": null,
   "metadata": {},
   "outputs": [],
   "source": []
  },
  {
   "cell_type": "code",
   "execution_count": null,
   "metadata": {},
   "outputs": [],
   "source": []
  },
  {
   "cell_type": "code",
   "execution_count": null,
   "metadata": {},
   "outputs": [],
   "source": []
  },
  {
   "cell_type": "code",
   "execution_count": null,
   "metadata": {},
   "outputs": [],
   "source": []
  },
  {
   "cell_type": "code",
   "execution_count": null,
   "metadata": {},
   "outputs": [],
   "source": []
  },
  {
   "cell_type": "code",
   "execution_count": null,
   "metadata": {},
   "outputs": [],
   "source": []
  },
  {
   "cell_type": "code",
   "execution_count": null,
   "metadata": {},
   "outputs": [],
   "source": []
  }
 ],
 "metadata": {
  "kernelspec": {
   "display_name": "Python 3",
   "language": "python",
   "name": "python3"
  },
  "language_info": {
   "codemirror_mode": {
    "name": "ipython",
    "version": 3
   },
   "file_extension": ".py",
   "mimetype": "text/x-python",
   "name": "python",
   "nbconvert_exporter": "python",
   "pygments_lexer": "ipython3",
   "version": "3.8.5"
  }
 },
 "nbformat": 4,
 "nbformat_minor": 4
}
